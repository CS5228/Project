{
 "cells": [
  {
   "cell_type": "code",
   "execution_count": 1,
   "metadata": {},
   "outputs": [],
   "source": [
    "import pandas as pd"
   ]
  },
  {
   "cell_type": "code",
   "execution_count": 6,
   "metadata": {},
   "outputs": [
    {
     "name": "stdout",
     "output_type": "stream",
     "text": [
      "Untitled.ipynb     Xtrain.csv         dataset_info.docx\r\n",
      "Xtest.csv          Ytrain.csv         sample_output.csv\r\n"
     ]
    }
   ],
   "source": [
    "ls"
   ]
  },
  {
   "cell_type": "code",
   "execution_count": 13,
   "metadata": {},
   "outputs": [],
   "source": [
    "x_train = pd.read_csv('Xtrain.csv', index_col='Id')\n",
    "y_train = pd.read_csv('Ytrain.csv', index_col='Id')"
   ]
  },
  {
   "cell_type": "code",
   "execution_count": 22,
   "metadata": {},
   "outputs": [
    {
     "data": {
      "text/html": [
       "<div>\n",
       "<style scoped>\n",
       "    .dataframe tbody tr th:only-of-type {\n",
       "        vertical-align: middle;\n",
       "    }\n",
       "\n",
       "    .dataframe tbody tr th {\n",
       "        vertical-align: top;\n",
       "    }\n",
       "\n",
       "    .dataframe thead th {\n",
       "        text-align: right;\n",
       "    }\n",
       "</style>\n",
       "<table border=\"1\" class=\"dataframe\">\n",
       "  <thead>\n",
       "    <tr style=\"text-align: right;\">\n",
       "      <th></th>\n",
       "      <th>Name</th>\n",
       "      <th>City</th>\n",
       "      <th>State</th>\n",
       "      <th>Zip</th>\n",
       "      <th>Bank</th>\n",
       "      <th>BankState</th>\n",
       "      <th>NAICS</th>\n",
       "      <th>ApprovalDate</th>\n",
       "      <th>ApprovalFY</th>\n",
       "      <th>Term</th>\n",
       "      <th>...</th>\n",
       "      <th>RetainedJob</th>\n",
       "      <th>FranchiseCode</th>\n",
       "      <th>UrbanRural</th>\n",
       "      <th>RevLineCr</th>\n",
       "      <th>LowDoc</th>\n",
       "      <th>DisbursementDate</th>\n",
       "      <th>DisbursementGross</th>\n",
       "      <th>BalanceGross</th>\n",
       "      <th>GrAppv</th>\n",
       "      <th>SBA_Appv</th>\n",
       "    </tr>\n",
       "    <tr>\n",
       "      <th>Id</th>\n",
       "      <th></th>\n",
       "      <th></th>\n",
       "      <th></th>\n",
       "      <th></th>\n",
       "      <th></th>\n",
       "      <th></th>\n",
       "      <th></th>\n",
       "      <th></th>\n",
       "      <th></th>\n",
       "      <th></th>\n",
       "      <th></th>\n",
       "      <th></th>\n",
       "      <th></th>\n",
       "      <th></th>\n",
       "      <th></th>\n",
       "      <th></th>\n",
       "      <th></th>\n",
       "      <th></th>\n",
       "      <th></th>\n",
       "      <th></th>\n",
       "      <th></th>\n",
       "    </tr>\n",
       "  </thead>\n",
       "  <tbody>\n",
       "    <tr>\n",
       "      <th>0</th>\n",
       "      <td>NPE Realty, LLC</td>\n",
       "      <td>Pembroke Pines</td>\n",
       "      <td>FL</td>\n",
       "      <td>33027</td>\n",
       "      <td>TD BANK, NATIONAL ASSOCIATION</td>\n",
       "      <td>DE</td>\n",
       "      <td>334516</td>\n",
       "      <td>16-Apr-10</td>\n",
       "      <td>2010</td>\n",
       "      <td>130</td>\n",
       "      <td>...</td>\n",
       "      <td>0</td>\n",
       "      <td>0</td>\n",
       "      <td>1</td>\n",
       "      <td>N</td>\n",
       "      <td>N</td>\n",
       "      <td>1-May-10</td>\n",
       "      <td>$2,000,000.00</td>\n",
       "      <td>$0.00</td>\n",
       "      <td>$2,000,000.00</td>\n",
       "      <td>$1,500,000.00</td>\n",
       "    </tr>\n",
       "    <tr>\n",
       "      <th>1</th>\n",
       "      <td>KEVCO  CONSTRUCTION, LLC</td>\n",
       "      <td>SANDY</td>\n",
       "      <td>UT</td>\n",
       "      <td>84094</td>\n",
       "      <td>ZIONS FIRST NATIONAL BANK</td>\n",
       "      <td>UT</td>\n",
       "      <td>236115</td>\n",
       "      <td>30-Jan-10</td>\n",
       "      <td>2010</td>\n",
       "      <td>33</td>\n",
       "      <td>...</td>\n",
       "      <td>3</td>\n",
       "      <td>0</td>\n",
       "      <td>1</td>\n",
       "      <td>N</td>\n",
       "      <td>N</td>\n",
       "      <td>1-Feb-10</td>\n",
       "      <td>$17,000.00</td>\n",
       "      <td>$0.00</td>\n",
       "      <td>$17,000.00</td>\n",
       "      <td>$17,000.00</td>\n",
       "    </tr>\n",
       "    <tr>\n",
       "      <th>2</th>\n",
       "      <td>EAST L A SHOE REPAIR</td>\n",
       "      <td>LOS ANGELES</td>\n",
       "      <td>CA</td>\n",
       "      <td>90022</td>\n",
       "      <td>BANK OF AMERICA NATL ASSOC</td>\n",
       "      <td>NC</td>\n",
       "      <td>811430</td>\n",
       "      <td>29-Jul-02</td>\n",
       "      <td>2002</td>\n",
       "      <td>60</td>\n",
       "      <td>...</td>\n",
       "      <td>1</td>\n",
       "      <td>1</td>\n",
       "      <td>1</td>\n",
       "      <td>Y</td>\n",
       "      <td>N</td>\n",
       "      <td>31-Aug-02</td>\n",
       "      <td>$17,000.00</td>\n",
       "      <td>$0.00</td>\n",
       "      <td>$17,000.00</td>\n",
       "      <td>$8,500.00</td>\n",
       "    </tr>\n",
       "    <tr>\n",
       "      <th>3</th>\n",
       "      <td>RUSSLER, DANIEL C, MD</td>\n",
       "      <td>LODI</td>\n",
       "      <td>WI</td>\n",
       "      <td>53555</td>\n",
       "      <td>ASSOCIATED BANK NATL ASSOC</td>\n",
       "      <td>WI</td>\n",
       "      <td>0</td>\n",
       "      <td>10-Jun-94</td>\n",
       "      <td>1994</td>\n",
       "      <td>160</td>\n",
       "      <td>...</td>\n",
       "      <td>0</td>\n",
       "      <td>1</td>\n",
       "      <td>0</td>\n",
       "      <td>N</td>\n",
       "      <td>N</td>\n",
       "      <td>31-Jul-94</td>\n",
       "      <td>$137,000.00</td>\n",
       "      <td>$0.00</td>\n",
       "      <td>$137,000.00</td>\n",
       "      <td>$123,300.00</td>\n",
       "    </tr>\n",
       "    <tr>\n",
       "      <th>4</th>\n",
       "      <td>AFFORDABLE FAMILY DENISTRY LLC</td>\n",
       "      <td>LEBANON</td>\n",
       "      <td>MO</td>\n",
       "      <td>65536</td>\n",
       "      <td>COMMERCE BANK</td>\n",
       "      <td>MO</td>\n",
       "      <td>621210</td>\n",
       "      <td>6-Feb-06</td>\n",
       "      <td>2006</td>\n",
       "      <td>101</td>\n",
       "      <td>...</td>\n",
       "      <td>2</td>\n",
       "      <td>1</td>\n",
       "      <td>1</td>\n",
       "      <td>T</td>\n",
       "      <td>N</td>\n",
       "      <td>31-Mar-06</td>\n",
       "      <td>$46,665.00</td>\n",
       "      <td>$0.00</td>\n",
       "      <td>$25,000.00</td>\n",
       "      <td>$12,500.00</td>\n",
       "    </tr>\n",
       "  </tbody>\n",
       "</table>\n",
       "<p>5 rows × 23 columns</p>\n",
       "</div>"
      ],
      "text/plain": [
       "                              Name            City State    Zip  \\\n",
       "Id                                                                \n",
       "0                  NPE Realty, LLC  Pembroke Pines    FL  33027   \n",
       "1         KEVCO  CONSTRUCTION, LLC           SANDY    UT  84094   \n",
       "2             EAST L A SHOE REPAIR     LOS ANGELES    CA  90022   \n",
       "3            RUSSLER, DANIEL C, MD            LODI    WI  53555   \n",
       "4   AFFORDABLE FAMILY DENISTRY LLC         LEBANON    MO  65536   \n",
       "\n",
       "                             Bank BankState   NAICS ApprovalDate ApprovalFY  \\\n",
       "Id                                                                            \n",
       "0   TD BANK, NATIONAL ASSOCIATION        DE  334516    16-Apr-10       2010   \n",
       "1       ZIONS FIRST NATIONAL BANK        UT  236115    30-Jan-10       2010   \n",
       "2      BANK OF AMERICA NATL ASSOC        NC  811430    29-Jul-02       2002   \n",
       "3      ASSOCIATED BANK NATL ASSOC        WI       0    10-Jun-94       1994   \n",
       "4                   COMMERCE BANK        MO  621210     6-Feb-06       2006   \n",
       "\n",
       "    Term  ...  RetainedJob  FranchiseCode  UrbanRural  RevLineCr  LowDoc  \\\n",
       "Id        ...                                                              \n",
       "0    130  ...            0              0           1          N       N   \n",
       "1     33  ...            3              0           1          N       N   \n",
       "2     60  ...            1              1           1          Y       N   \n",
       "3    160  ...            0              1           0          N       N   \n",
       "4    101  ...            2              1           1          T       N   \n",
       "\n",
       "    DisbursementDate DisbursementGross BalanceGross          GrAppv  \\\n",
       "Id                                                                    \n",
       "0           1-May-10    $2,000,000.00        $0.00   $2,000,000.00    \n",
       "1           1-Feb-10       $17,000.00        $0.00      $17,000.00    \n",
       "2          31-Aug-02       $17,000.00        $0.00      $17,000.00    \n",
       "3          31-Jul-94      $137,000.00        $0.00     $137,000.00    \n",
       "4          31-Mar-06       $46,665.00        $0.00      $25,000.00    \n",
       "\n",
       "          SBA_Appv  \n",
       "Id                  \n",
       "0   $1,500,000.00   \n",
       "1      $17,000.00   \n",
       "2       $8,500.00   \n",
       "3     $123,300.00   \n",
       "4      $12,500.00   \n",
       "\n",
       "[5 rows x 23 columns]"
      ]
     },
     "execution_count": 22,
     "metadata": {},
     "output_type": "execute_result"
    }
   ],
   "source": [
    "x_train.head()"
   ]
  },
  {
   "cell_type": "code",
   "execution_count": 19,
   "metadata": {},
   "outputs": [],
   "source": [
    "to_dict = lambda d : dict(zip(d, range(len(d))))\n",
    "to_dict_reverse = lambda d : dict(enumerate(d))"
   ]
  },
  {
   "cell_type": "code",
   "execution_count": 71,
   "metadata": {},
   "outputs": [],
   "source": [
    "bank_naics_mapping = zip(x_train['Bank'], x_train['NAICS'])"
   ]
  },
  {
   "cell_type": "code",
   "execution_count": 72,
   "metadata": {},
   "outputs": [],
   "source": [
    "repeat = {}\n",
    "for b, n in bank_naics_mapping:\n",
    "    if n not in repeat:\n",
    "        repeat[n] = set()\n",
    "    repeat[n].add(b)"
   ]
  },
  {
   "cell_type": "code",
   "execution_count": 43,
   "metadata": {},
   "outputs": [
    {
     "data": {
      "text/plain": [
       "array([1., 1.])"
      ]
     },
     "execution_count": 43,
     "metadata": {},
     "output_type": "execute_result"
    }
   ],
   "source": [
    "import numpy as np\n",
    "np.round(p)"
   ]
  },
  {
   "cell_type": "code",
   "execution_count": 76,
   "metadata": {},
   "outputs": [
    {
     "data": {
      "text/plain": [
       "Index(['Name', 'City', 'State', 'Zip', 'Bank', 'BankState', 'NAICS',\n",
       "       'ApprovalDate', 'ApprovalFY', 'Term', 'NoEmp', 'NewExist', 'CreateJob',\n",
       "       'RetainedJob', 'FranchiseCode', 'UrbanRural', 'RevLineCr', 'LowDoc',\n",
       "       'DisbursementDate', 'DisbursementGross', 'BalanceGross', 'GrAppv',\n",
       "       'SBA_Appv'],\n",
       "      dtype='object')"
      ]
     },
     "execution_count": 76,
     "metadata": {},
     "output_type": "execute_result"
    }
   ],
   "source": [
    "x_train.columns"
   ]
  },
  {
   "cell_type": "code",
   "execution_count": 77,
   "metadata": {},
   "outputs": [],
   "source": [
    "value_mapping = {}\n",
    "for name in ['Name', 'City', 'State', 'Zip', 'Bank', 'BankState', 'NAICS', 'RevLineCr', 'LowDoc']:\n",
    "    value_mapping[name] = to_dict(set(x_train[name]))"
   ]
  }
 ],
 "metadata": {
  "kernelspec": {
   "display_name": "Python 3",
   "language": "python",
   "name": "python3"
  },
  "language_info": {
   "codemirror_mode": {
    "name": "ipython",
    "version": 3
   },
   "file_extension": ".py",
   "mimetype": "text/x-python",
   "name": "python",
   "nbconvert_exporter": "python",
   "pygments_lexer": "ipython3",
   "version": "3.7.3"
  }
 },
 "nbformat": 4,
 "nbformat_minor": 2
}
