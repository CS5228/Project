{
 "metadata": {
  "language_info": {
   "codemirror_mode": {
    "name": "ipython",
    "version": 3
   },
   "file_extension": ".py",
   "mimetype": "text/x-python",
   "name": "python",
   "nbconvert_exporter": "python",
   "pygments_lexer": "ipython3",
   "version": "3.8.3-candidate"
  },
  "orig_nbformat": 2,
  "kernelspec": {
   "name": "Python 3.8.3 64-bit",
   "display_name": "Python 3.8.3 64-bit",
   "metadata": {
    "interpreter": {
     "hash": "082e9a3bcad0a290d0001e938aa60b99250c6c2ef33a923c00b70f9826caf4b7"
    }
   }
  }
 },
 "nbformat": 4,
 "nbformat_minor": 2,
 "cells": [
  {
   "source": [
    "# Plots to do:\n",
    ">- Loan amount per industry \n",
    ">- Influence of recession in loans \n",
    ">- Correlation matrix\n",
    ">- Influence of long terms loans (Term) in terms of loan approval\n",
    ">- Map with rate per state\n",
    ">- Influence of loan size"
   ],
   "cell_type": "markdown",
   "metadata": {}
  },
  {
   "cell_type": "code",
   "execution_count": 14,
   "metadata": {},
   "outputs": [],
   "source": [
    "import pandas as pd\n",
    "import numpy as np\n",
    "from sklearn.model_selection import train_test_split, cross_val_score\n",
    "from sklearn.metrics import accuracy_score, confusion_matrix, classification_report\n",
    "from sklearn.preprocessing import StandardScaler\n",
    "from sklearn.pipeline import Pipeline\n",
    "from sklearn.feature_selection import SelectKBest\n",
    "from sklearn.linear_model import SGDRegressor\n",
    "from sklearn.linear_model import LogisticRegression\n",
    "from xgboost import XGBClassifier\n",
    "import matplotlib.pyplot as plt \n",
    "import seaborn as sns\n",
    "import plotly.graph_objects as go"
   ]
  },
  {
   "cell_type": "code",
   "execution_count": 13,
   "metadata": {},
   "outputs": [
    {
     "output_type": "execute_result",
     "data": {
      "text/plain": "                                 Name            City State    Zip  \\\nId                                                                   \n0                     NPE Realty, LLC  Pembroke Pines    FL  33027   \n1            KEVCO  CONSTRUCTION, LLC           SANDY    UT  84094   \n2                EAST L A SHOE REPAIR     LOS ANGELES    CA  90022   \n3               RUSSLER, DANIEL C, MD            LODI    WI  53555   \n4      AFFORDABLE FAMILY DENISTRY LLC         LEBANON    MO  65536   \n...                               ...             ...   ...    ...   \n49995                   WESTTOWN GULF    WEST CHESTER    PA  19382   \n49996                     HS ELECTRIC          ENCINO    CA  91316   \n49997     HARDIN GRAIN ELEVATOR, INC.          HARDIN    KY  42048   \n49998       THE WOODLANDS GOLF COURSE        SARASOTA    FL  34234   \n49999  ARDEN ARCHITECTURAL SPECIALTIE       ROSEVILLE    MN  55113   \n\n                                Bank BankState   NAICS ApprovalDate  \\\nId                                                                    \n0      TD BANK, NATIONAL ASSOCIATION        DE  334516    16-Apr-10   \n1          ZIONS FIRST NATIONAL BANK        UT  236115    30-Jan-10   \n2         BANK OF AMERICA NATL ASSOC        NC  811430    29-Jul-02   \n3         ASSOCIATED BANK NATL ASSOC        WI       0    10-Jun-94   \n4                      COMMERCE BANK        MO  621210     6-Feb-06   \n...                              ...       ...     ...          ...   \n49995       CITIZENS BANK NATL ASSOC        RI  445120    29-Aug-03   \n49996     BANK OF AMERICA NATL ASSOC        NC  541513    12-Jul-04   \n49997    COMMUNITY FINAN SERVICES BK        KY       0     4-Oct-91   \n49998                     IBERIABANK        FL  713910    19-Jan-96   \n49999    WELLS FARGO BANK NATL ASSOC        MN       0    28-Mar-97   \n\n      ApprovalFY  Term  ...  FranchiseCode  UrbanRural  RevLineCr  LowDoc  \\\nId                      ...                                                 \n0           2010   130  ...              0           1          N       N   \n1           2010    33  ...              0           1          N       N   \n2           2002    60  ...              1           1          Y       N   \n3           1994   160  ...              1           0          N       N   \n4           2006   101  ...              1           1          T       N   \n...          ...   ...  ...            ...         ...        ...     ...   \n49995       2003    84  ...              1           1          Y       N   \n49996       2004    77  ...              1           1          N       N   \n49997       1992   223  ...              1           0          N       N   \n49998       1996   116  ...              1           0          N       N   \n49999       1997    48  ...              1           0          0       N   \n\n       DisbursementDate  DisbursementGross BalanceGross          GrAppv  \\\nId                                                                        \n0              1-May-10     $2,000,000.00        $0.00   $2,000,000.00    \n1              1-Feb-10        $17,000.00        $0.00      $17,000.00    \n2             31-Aug-02        $17,000.00        $0.00      $17,000.00    \n3             31-Jul-94       $137,000.00        $0.00     $137,000.00    \n4             31-Mar-06        $46,665.00        $0.00      $25,000.00    \n...                 ...                ...          ...             ...   \n49995         30-Sep-03        $46,231.00        $0.00      $30,000.00    \n49996         31-Jul-04        $49,750.00        $0.00      $50,000.00    \n49997         31-Jan-92       $260,000.00        $0.00     $260,000.00    \n49998         30-Sep-96     $1,193,500.00        $0.00   $1,193,500.00    \n49999         30-Jun-97        $80,000.00        $0.00      $80,000.00    \n\n             SBA_Appv ChargeOff  \nId                               \n0      $1,500,000.00          0  \n1         $17,000.00          1  \n2          $8,500.00          0  \n3        $123,300.00          0  \n4         $12,500.00          0  \n...               ...       ...  \n49995     $15,000.00          0  \n49996     $25,000.00          1  \n49997    $221,000.00          0  \n49998    $749,995.00          0  \n49999     $64,000.00          0  \n\n[50000 rows x 24 columns]",
      "text/html": "<div>\n<style scoped>\n    .dataframe tbody tr th:only-of-type {\n        vertical-align: middle;\n    }\n\n    .dataframe tbody tr th {\n        vertical-align: top;\n    }\n\n    .dataframe thead th {\n        text-align: right;\n    }\n</style>\n<table border=\"1\" class=\"dataframe\">\n  <thead>\n    <tr style=\"text-align: right;\">\n      <th></th>\n      <th>Name</th>\n      <th>City</th>\n      <th>State</th>\n      <th>Zip</th>\n      <th>Bank</th>\n      <th>BankState</th>\n      <th>NAICS</th>\n      <th>ApprovalDate</th>\n      <th>ApprovalFY</th>\n      <th>Term</th>\n      <th>...</th>\n      <th>FranchiseCode</th>\n      <th>UrbanRural</th>\n      <th>RevLineCr</th>\n      <th>LowDoc</th>\n      <th>DisbursementDate</th>\n      <th>DisbursementGross</th>\n      <th>BalanceGross</th>\n      <th>GrAppv</th>\n      <th>SBA_Appv</th>\n      <th>ChargeOff</th>\n    </tr>\n    <tr>\n      <th>Id</th>\n      <th></th>\n      <th></th>\n      <th></th>\n      <th></th>\n      <th></th>\n      <th></th>\n      <th></th>\n      <th></th>\n      <th></th>\n      <th></th>\n      <th></th>\n      <th></th>\n      <th></th>\n      <th></th>\n      <th></th>\n      <th></th>\n      <th></th>\n      <th></th>\n      <th></th>\n      <th></th>\n      <th></th>\n    </tr>\n  </thead>\n  <tbody>\n    <tr>\n      <th>0</th>\n      <td>NPE Realty, LLC</td>\n      <td>Pembroke Pines</td>\n      <td>FL</td>\n      <td>33027</td>\n      <td>TD BANK, NATIONAL ASSOCIATION</td>\n      <td>DE</td>\n      <td>334516</td>\n      <td>16-Apr-10</td>\n      <td>2010</td>\n      <td>130</td>\n      <td>...</td>\n      <td>0</td>\n      <td>1</td>\n      <td>N</td>\n      <td>N</td>\n      <td>1-May-10</td>\n      <td>$2,000,000.00</td>\n      <td>$0.00</td>\n      <td>$2,000,000.00</td>\n      <td>$1,500,000.00</td>\n      <td>0</td>\n    </tr>\n    <tr>\n      <th>1</th>\n      <td>KEVCO  CONSTRUCTION, LLC</td>\n      <td>SANDY</td>\n      <td>UT</td>\n      <td>84094</td>\n      <td>ZIONS FIRST NATIONAL BANK</td>\n      <td>UT</td>\n      <td>236115</td>\n      <td>30-Jan-10</td>\n      <td>2010</td>\n      <td>33</td>\n      <td>...</td>\n      <td>0</td>\n      <td>1</td>\n      <td>N</td>\n      <td>N</td>\n      <td>1-Feb-10</td>\n      <td>$17,000.00</td>\n      <td>$0.00</td>\n      <td>$17,000.00</td>\n      <td>$17,000.00</td>\n      <td>1</td>\n    </tr>\n    <tr>\n      <th>2</th>\n      <td>EAST L A SHOE REPAIR</td>\n      <td>LOS ANGELES</td>\n      <td>CA</td>\n      <td>90022</td>\n      <td>BANK OF AMERICA NATL ASSOC</td>\n      <td>NC</td>\n      <td>811430</td>\n      <td>29-Jul-02</td>\n      <td>2002</td>\n      <td>60</td>\n      <td>...</td>\n      <td>1</td>\n      <td>1</td>\n      <td>Y</td>\n      <td>N</td>\n      <td>31-Aug-02</td>\n      <td>$17,000.00</td>\n      <td>$0.00</td>\n      <td>$17,000.00</td>\n      <td>$8,500.00</td>\n      <td>0</td>\n    </tr>\n    <tr>\n      <th>3</th>\n      <td>RUSSLER, DANIEL C, MD</td>\n      <td>LODI</td>\n      <td>WI</td>\n      <td>53555</td>\n      <td>ASSOCIATED BANK NATL ASSOC</td>\n      <td>WI</td>\n      <td>0</td>\n      <td>10-Jun-94</td>\n      <td>1994</td>\n      <td>160</td>\n      <td>...</td>\n      <td>1</td>\n      <td>0</td>\n      <td>N</td>\n      <td>N</td>\n      <td>31-Jul-94</td>\n      <td>$137,000.00</td>\n      <td>$0.00</td>\n      <td>$137,000.00</td>\n      <td>$123,300.00</td>\n      <td>0</td>\n    </tr>\n    <tr>\n      <th>4</th>\n      <td>AFFORDABLE FAMILY DENISTRY LLC</td>\n      <td>LEBANON</td>\n      <td>MO</td>\n      <td>65536</td>\n      <td>COMMERCE BANK</td>\n      <td>MO</td>\n      <td>621210</td>\n      <td>6-Feb-06</td>\n      <td>2006</td>\n      <td>101</td>\n      <td>...</td>\n      <td>1</td>\n      <td>1</td>\n      <td>T</td>\n      <td>N</td>\n      <td>31-Mar-06</td>\n      <td>$46,665.00</td>\n      <td>$0.00</td>\n      <td>$25,000.00</td>\n      <td>$12,500.00</td>\n      <td>0</td>\n    </tr>\n    <tr>\n      <th>...</th>\n      <td>...</td>\n      <td>...</td>\n      <td>...</td>\n      <td>...</td>\n      <td>...</td>\n      <td>...</td>\n      <td>...</td>\n      <td>...</td>\n      <td>...</td>\n      <td>...</td>\n      <td>...</td>\n      <td>...</td>\n      <td>...</td>\n      <td>...</td>\n      <td>...</td>\n      <td>...</td>\n      <td>...</td>\n      <td>...</td>\n      <td>...</td>\n      <td>...</td>\n      <td>...</td>\n    </tr>\n    <tr>\n      <th>49995</th>\n      <td>WESTTOWN GULF</td>\n      <td>WEST CHESTER</td>\n      <td>PA</td>\n      <td>19382</td>\n      <td>CITIZENS BANK NATL ASSOC</td>\n      <td>RI</td>\n      <td>445120</td>\n      <td>29-Aug-03</td>\n      <td>2003</td>\n      <td>84</td>\n      <td>...</td>\n      <td>1</td>\n      <td>1</td>\n      <td>Y</td>\n      <td>N</td>\n      <td>30-Sep-03</td>\n      <td>$46,231.00</td>\n      <td>$0.00</td>\n      <td>$30,000.00</td>\n      <td>$15,000.00</td>\n      <td>0</td>\n    </tr>\n    <tr>\n      <th>49996</th>\n      <td>HS ELECTRIC</td>\n      <td>ENCINO</td>\n      <td>CA</td>\n      <td>91316</td>\n      <td>BANK OF AMERICA NATL ASSOC</td>\n      <td>NC</td>\n      <td>541513</td>\n      <td>12-Jul-04</td>\n      <td>2004</td>\n      <td>77</td>\n      <td>...</td>\n      <td>1</td>\n      <td>1</td>\n      <td>N</td>\n      <td>N</td>\n      <td>31-Jul-04</td>\n      <td>$49,750.00</td>\n      <td>$0.00</td>\n      <td>$50,000.00</td>\n      <td>$25,000.00</td>\n      <td>1</td>\n    </tr>\n    <tr>\n      <th>49997</th>\n      <td>HARDIN GRAIN ELEVATOR, INC.</td>\n      <td>HARDIN</td>\n      <td>KY</td>\n      <td>42048</td>\n      <td>COMMUNITY FINAN SERVICES BK</td>\n      <td>KY</td>\n      <td>0</td>\n      <td>4-Oct-91</td>\n      <td>1992</td>\n      <td>223</td>\n      <td>...</td>\n      <td>1</td>\n      <td>0</td>\n      <td>N</td>\n      <td>N</td>\n      <td>31-Jan-92</td>\n      <td>$260,000.00</td>\n      <td>$0.00</td>\n      <td>$260,000.00</td>\n      <td>$221,000.00</td>\n      <td>0</td>\n    </tr>\n    <tr>\n      <th>49998</th>\n      <td>THE WOODLANDS GOLF COURSE</td>\n      <td>SARASOTA</td>\n      <td>FL</td>\n      <td>34234</td>\n      <td>IBERIABANK</td>\n      <td>FL</td>\n      <td>713910</td>\n      <td>19-Jan-96</td>\n      <td>1996</td>\n      <td>116</td>\n      <td>...</td>\n      <td>1</td>\n      <td>0</td>\n      <td>N</td>\n      <td>N</td>\n      <td>30-Sep-96</td>\n      <td>$1,193,500.00</td>\n      <td>$0.00</td>\n      <td>$1,193,500.00</td>\n      <td>$749,995.00</td>\n      <td>0</td>\n    </tr>\n    <tr>\n      <th>49999</th>\n      <td>ARDEN ARCHITECTURAL SPECIALTIE</td>\n      <td>ROSEVILLE</td>\n      <td>MN</td>\n      <td>55113</td>\n      <td>WELLS FARGO BANK NATL ASSOC</td>\n      <td>MN</td>\n      <td>0</td>\n      <td>28-Mar-97</td>\n      <td>1997</td>\n      <td>48</td>\n      <td>...</td>\n      <td>1</td>\n      <td>0</td>\n      <td>0</td>\n      <td>N</td>\n      <td>30-Jun-97</td>\n      <td>$80,000.00</td>\n      <td>$0.00</td>\n      <td>$80,000.00</td>\n      <td>$64,000.00</td>\n      <td>0</td>\n    </tr>\n  </tbody>\n</table>\n<p>50000 rows × 24 columns</p>\n</div>"
     },
     "metadata": {},
     "execution_count": 13
    }
   ],
   "source": [
    "pd.set_option('display.max_rows', 100)\n",
    "df_x_copy = pd.read_csv(\"/Users/macbookpro/Documents/Cours/Singapour/S2/Data discovery and data mining/Project/Project/Xtrain.csv\",index_col='Id')\n",
    "df_y_copy = pd.read_csv(\"/Users/macbookpro/Documents/Cours/Singapour/S2/Data discovery and data mining/Project/Project/Ytrain.csv\",index_col='Id')\n",
    "\n",
    "# Load the SBA loan data and make a copy for exploration\n",
    "\n",
    "df = pd.concat([df_x_copy,df_y_copy],join='inner',axis=1)\n",
    "df_used = df.copy(deep=True)\n",
    "df_used"
   ]
  },
  {
   "cell_type": "code",
   "execution_count": 54,
   "metadata": {},
   "outputs": [],
   "source": [
    "import requests\n",
    "req = requests.get('https://raw.githubusercontent.com/plotly/datasets/master/1962_2006_walmart_store_openings.csv')\n",
    "url_content = req.content\n",
    "csv_file = open('/Users/macbookpro/Documents/Cours/Singapour/S2/Data discovery and data mining/Project/US_states_per_year.csv', 'wb')\n",
    "\n",
    "csv_file.write(url_content)\n",
    "csv_file.close()\n"
   ]
  },
  {
   "cell_type": "code",
   "execution_count": 204,
   "metadata": {},
   "outputs": [
    {
     "output_type": "display_data",
     "data": {
      "application/vnd.plotly.v1+json": {
       "config": {
        "plotlyServerURL": "https://plot.ly"
       },
       "data": [
        {
         "fill": "tonexty",
         "name": "% charged off loans",
         "stackgroup": "one",
         "type": "scatter",
         "x": [
          1970,
          1972,
          1973,
          1974,
          1975,
          1976,
          1977,
          1978,
          1979,
          1980,
          1981,
          1982,
          1983,
          1984,
          1985,
          1986,
          1987,
          1988,
          1989,
          1990,
          1991,
          1992,
          1993,
          1994,
          1995,
          1996,
          1997,
          1998,
          1999,
          2000,
          2001,
          2002,
          2003,
          2004,
          2005,
          2006,
          2007,
          2008,
          2009,
          2010,
          2011,
          2012,
          2013
         ],
         "y": [
          2,
          4,
          6,
          5,
          6,
          12,
          26,
          51,
          47,
          80,
          59,
          62,
          93,
          105,
          127,
          129,
          134,
          114,
          129,
          114,
          59,
          73,
          78,
          116,
          186,
          260,
          391,
          474,
          632,
          677,
          714,
          905,
          1462,
          2109,
          3146,
          4484,
          4642,
          1960,
          612,
          298,
          145,
          60,
          11
         ]
        },
        {
         "fill": "tonexty",
         "name": "% not charged off loans",
         "stackgroup": "one",
         "type": "scatter",
         "x": [
          1970,
          1972,
          1973,
          1974,
          1975,
          1976,
          1977,
          1978,
          1979,
          1980,
          1981,
          1982,
          1983,
          1984,
          1985,
          1986,
          1987,
          1988,
          1989,
          1990,
          1991,
          1992,
          1993,
          1994,
          1995,
          1996,
          1997,
          1998,
          1999,
          2000,
          2001,
          2002,
          2003,
          2004,
          2005,
          2006,
          2007,
          2008,
          2009,
          2010,
          2011,
          2012,
          2013
         ],
         "y": [
          0,
          1,
          0,
          0,
          0,
          0,
          0,
          0,
          1,
          1,
          3,
          9,
          19,
          55,
          38,
          41,
          48,
          34,
          353,
          469,
          550,
          672,
          680,
          969,
          1485,
          1238,
          1288,
          1103,
          1272,
          1161,
          1176,
          1310,
          1648,
          1934,
          1858,
          1810,
          1237,
          812,
          600,
          542,
          366,
          206,
          77
         ]
        }
       ],
       "layout": {
        "legend": {
         "x": 1,
         "xanchor": "left",
         "y": 0.99,
         "yanchor": "top"
        },
        "paper_bgcolor": "rgba(0,0,0,0)",
        "plot_bgcolor": "rgba(0,0,0,0)",
        "template": {
         "data": {
          "bar": [
           {
            "error_x": {
             "color": "#2a3f5f"
            },
            "error_y": {
             "color": "#2a3f5f"
            },
            "marker": {
             "line": {
              "color": "#E5ECF6",
              "width": 0.5
             }
            },
            "type": "bar"
           }
          ],
          "barpolar": [
           {
            "marker": {
             "line": {
              "color": "#E5ECF6",
              "width": 0.5
             }
            },
            "type": "barpolar"
           }
          ],
          "carpet": [
           {
            "aaxis": {
             "endlinecolor": "#2a3f5f",
             "gridcolor": "white",
             "linecolor": "white",
             "minorgridcolor": "white",
             "startlinecolor": "#2a3f5f"
            },
            "baxis": {
             "endlinecolor": "#2a3f5f",
             "gridcolor": "white",
             "linecolor": "white",
             "minorgridcolor": "white",
             "startlinecolor": "#2a3f5f"
            },
            "type": "carpet"
           }
          ],
          "choropleth": [
           {
            "colorbar": {
             "outlinewidth": 0,
             "ticks": ""
            },
            "type": "choropleth"
           }
          ],
          "contour": [
           {
            "colorbar": {
             "outlinewidth": 0,
             "ticks": ""
            },
            "colorscale": [
             [
              0,
              "#0d0887"
             ],
             [
              0.1111111111111111,
              "#46039f"
             ],
             [
              0.2222222222222222,
              "#7201a8"
             ],
             [
              0.3333333333333333,
              "#9c179e"
             ],
             [
              0.4444444444444444,
              "#bd3786"
             ],
             [
              0.5555555555555556,
              "#d8576b"
             ],
             [
              0.6666666666666666,
              "#ed7953"
             ],
             [
              0.7777777777777778,
              "#fb9f3a"
             ],
             [
              0.8888888888888888,
              "#fdca26"
             ],
             [
              1,
              "#f0f921"
             ]
            ],
            "type": "contour"
           }
          ],
          "contourcarpet": [
           {
            "colorbar": {
             "outlinewidth": 0,
             "ticks": ""
            },
            "type": "contourcarpet"
           }
          ],
          "heatmap": [
           {
            "colorbar": {
             "outlinewidth": 0,
             "ticks": ""
            },
            "colorscale": [
             [
              0,
              "#0d0887"
             ],
             [
              0.1111111111111111,
              "#46039f"
             ],
             [
              0.2222222222222222,
              "#7201a8"
             ],
             [
              0.3333333333333333,
              "#9c179e"
             ],
             [
              0.4444444444444444,
              "#bd3786"
             ],
             [
              0.5555555555555556,
              "#d8576b"
             ],
             [
              0.6666666666666666,
              "#ed7953"
             ],
             [
              0.7777777777777778,
              "#fb9f3a"
             ],
             [
              0.8888888888888888,
              "#fdca26"
             ],
             [
              1,
              "#f0f921"
             ]
            ],
            "type": "heatmap"
           }
          ],
          "heatmapgl": [
           {
            "colorbar": {
             "outlinewidth": 0,
             "ticks": ""
            },
            "colorscale": [
             [
              0,
              "#0d0887"
             ],
             [
              0.1111111111111111,
              "#46039f"
             ],
             [
              0.2222222222222222,
              "#7201a8"
             ],
             [
              0.3333333333333333,
              "#9c179e"
             ],
             [
              0.4444444444444444,
              "#bd3786"
             ],
             [
              0.5555555555555556,
              "#d8576b"
             ],
             [
              0.6666666666666666,
              "#ed7953"
             ],
             [
              0.7777777777777778,
              "#fb9f3a"
             ],
             [
              0.8888888888888888,
              "#fdca26"
             ],
             [
              1,
              "#f0f921"
             ]
            ],
            "type": "heatmapgl"
           }
          ],
          "histogram": [
           {
            "marker": {
             "colorbar": {
              "outlinewidth": 0,
              "ticks": ""
             }
            },
            "type": "histogram"
           }
          ],
          "histogram2d": [
           {
            "colorbar": {
             "outlinewidth": 0,
             "ticks": ""
            },
            "colorscale": [
             [
              0,
              "#0d0887"
             ],
             [
              0.1111111111111111,
              "#46039f"
             ],
             [
              0.2222222222222222,
              "#7201a8"
             ],
             [
              0.3333333333333333,
              "#9c179e"
             ],
             [
              0.4444444444444444,
              "#bd3786"
             ],
             [
              0.5555555555555556,
              "#d8576b"
             ],
             [
              0.6666666666666666,
              "#ed7953"
             ],
             [
              0.7777777777777778,
              "#fb9f3a"
             ],
             [
              0.8888888888888888,
              "#fdca26"
             ],
             [
              1,
              "#f0f921"
             ]
            ],
            "type": "histogram2d"
           }
          ],
          "histogram2dcontour": [
           {
            "colorbar": {
             "outlinewidth": 0,
             "ticks": ""
            },
            "colorscale": [
             [
              0,
              "#0d0887"
             ],
             [
              0.1111111111111111,
              "#46039f"
             ],
             [
              0.2222222222222222,
              "#7201a8"
             ],
             [
              0.3333333333333333,
              "#9c179e"
             ],
             [
              0.4444444444444444,
              "#bd3786"
             ],
             [
              0.5555555555555556,
              "#d8576b"
             ],
             [
              0.6666666666666666,
              "#ed7953"
             ],
             [
              0.7777777777777778,
              "#fb9f3a"
             ],
             [
              0.8888888888888888,
              "#fdca26"
             ],
             [
              1,
              "#f0f921"
             ]
            ],
            "type": "histogram2dcontour"
           }
          ],
          "mesh3d": [
           {
            "colorbar": {
             "outlinewidth": 0,
             "ticks": ""
            },
            "type": "mesh3d"
           }
          ],
          "parcoords": [
           {
            "line": {
             "colorbar": {
              "outlinewidth": 0,
              "ticks": ""
             }
            },
            "type": "parcoords"
           }
          ],
          "pie": [
           {
            "automargin": true,
            "type": "pie"
           }
          ],
          "scatter": [
           {
            "marker": {
             "colorbar": {
              "outlinewidth": 0,
              "ticks": ""
             }
            },
            "type": "scatter"
           }
          ],
          "scatter3d": [
           {
            "line": {
             "colorbar": {
              "outlinewidth": 0,
              "ticks": ""
             }
            },
            "marker": {
             "colorbar": {
              "outlinewidth": 0,
              "ticks": ""
             }
            },
            "type": "scatter3d"
           }
          ],
          "scattercarpet": [
           {
            "marker": {
             "colorbar": {
              "outlinewidth": 0,
              "ticks": ""
             }
            },
            "type": "scattercarpet"
           }
          ],
          "scattergeo": [
           {
            "marker": {
             "colorbar": {
              "outlinewidth": 0,
              "ticks": ""
             }
            },
            "type": "scattergeo"
           }
          ],
          "scattergl": [
           {
            "marker": {
             "colorbar": {
              "outlinewidth": 0,
              "ticks": ""
             }
            },
            "type": "scattergl"
           }
          ],
          "scattermapbox": [
           {
            "marker": {
             "colorbar": {
              "outlinewidth": 0,
              "ticks": ""
             }
            },
            "type": "scattermapbox"
           }
          ],
          "scatterpolar": [
           {
            "marker": {
             "colorbar": {
              "outlinewidth": 0,
              "ticks": ""
             }
            },
            "type": "scatterpolar"
           }
          ],
          "scatterpolargl": [
           {
            "marker": {
             "colorbar": {
              "outlinewidth": 0,
              "ticks": ""
             }
            },
            "type": "scatterpolargl"
           }
          ],
          "scatterternary": [
           {
            "marker": {
             "colorbar": {
              "outlinewidth": 0,
              "ticks": ""
             }
            },
            "type": "scatterternary"
           }
          ],
          "surface": [
           {
            "colorbar": {
             "outlinewidth": 0,
             "ticks": ""
            },
            "colorscale": [
             [
              0,
              "#0d0887"
             ],
             [
              0.1111111111111111,
              "#46039f"
             ],
             [
              0.2222222222222222,
              "#7201a8"
             ],
             [
              0.3333333333333333,
              "#9c179e"
             ],
             [
              0.4444444444444444,
              "#bd3786"
             ],
             [
              0.5555555555555556,
              "#d8576b"
             ],
             [
              0.6666666666666666,
              "#ed7953"
             ],
             [
              0.7777777777777778,
              "#fb9f3a"
             ],
             [
              0.8888888888888888,
              "#fdca26"
             ],
             [
              1,
              "#f0f921"
             ]
            ],
            "type": "surface"
           }
          ],
          "table": [
           {
            "cells": {
             "fill": {
              "color": "#EBF0F8"
             },
             "line": {
              "color": "white"
             }
            },
            "header": {
             "fill": {
              "color": "#C8D4E3"
             },
             "line": {
              "color": "white"
             }
            },
            "type": "table"
           }
          ]
         },
         "layout": {
          "annotationdefaults": {
           "arrowcolor": "#2a3f5f",
           "arrowhead": 0,
           "arrowwidth": 1
          },
          "coloraxis": {
           "colorbar": {
            "outlinewidth": 0,
            "ticks": ""
           }
          },
          "colorscale": {
           "diverging": [
            [
             0,
             "#8e0152"
            ],
            [
             0.1,
             "#c51b7d"
            ],
            [
             0.2,
             "#de77ae"
            ],
            [
             0.3,
             "#f1b6da"
            ],
            [
             0.4,
             "#fde0ef"
            ],
            [
             0.5,
             "#f7f7f7"
            ],
            [
             0.6,
             "#e6f5d0"
            ],
            [
             0.7,
             "#b8e186"
            ],
            [
             0.8,
             "#7fbc41"
            ],
            [
             0.9,
             "#4d9221"
            ],
            [
             1,
             "#276419"
            ]
           ],
           "sequential": [
            [
             0,
             "#0d0887"
            ],
            [
             0.1111111111111111,
             "#46039f"
            ],
            [
             0.2222222222222222,
             "#7201a8"
            ],
            [
             0.3333333333333333,
             "#9c179e"
            ],
            [
             0.4444444444444444,
             "#bd3786"
            ],
            [
             0.5555555555555556,
             "#d8576b"
            ],
            [
             0.6666666666666666,
             "#ed7953"
            ],
            [
             0.7777777777777778,
             "#fb9f3a"
            ],
            [
             0.8888888888888888,
             "#fdca26"
            ],
            [
             1,
             "#f0f921"
            ]
           ],
           "sequentialminus": [
            [
             0,
             "#0d0887"
            ],
            [
             0.1111111111111111,
             "#46039f"
            ],
            [
             0.2222222222222222,
             "#7201a8"
            ],
            [
             0.3333333333333333,
             "#9c179e"
            ],
            [
             0.4444444444444444,
             "#bd3786"
            ],
            [
             0.5555555555555556,
             "#d8576b"
            ],
            [
             0.6666666666666666,
             "#ed7953"
            ],
            [
             0.7777777777777778,
             "#fb9f3a"
            ],
            [
             0.8888888888888888,
             "#fdca26"
            ],
            [
             1,
             "#f0f921"
            ]
           ]
          },
          "colorway": [
           "#636efa",
           "#EF553B",
           "#00cc96",
           "#ab63fa",
           "#FFA15A",
           "#19d3f3",
           "#FF6692",
           "#B6E880",
           "#FF97FF",
           "#FECB52"
          ],
          "font": {
           "color": "#2a3f5f"
          },
          "geo": {
           "bgcolor": "white",
           "lakecolor": "white",
           "landcolor": "#E5ECF6",
           "showlakes": true,
           "showland": true,
           "subunitcolor": "white"
          },
          "hoverlabel": {
           "align": "left"
          },
          "hovermode": "closest",
          "mapbox": {
           "style": "light"
          },
          "paper_bgcolor": "white",
          "plot_bgcolor": "#E5ECF6",
          "polar": {
           "angularaxis": {
            "gridcolor": "white",
            "linecolor": "white",
            "ticks": ""
           },
           "bgcolor": "#E5ECF6",
           "radialaxis": {
            "gridcolor": "white",
            "linecolor": "white",
            "ticks": ""
           }
          },
          "scene": {
           "xaxis": {
            "backgroundcolor": "#E5ECF6",
            "gridcolor": "white",
            "gridwidth": 2,
            "linecolor": "white",
            "showbackground": true,
            "ticks": "",
            "zerolinecolor": "white"
           },
           "yaxis": {
            "backgroundcolor": "#E5ECF6",
            "gridcolor": "white",
            "gridwidth": 2,
            "linecolor": "white",
            "showbackground": true,
            "ticks": "",
            "zerolinecolor": "white"
           },
           "zaxis": {
            "backgroundcolor": "#E5ECF6",
            "gridcolor": "white",
            "gridwidth": 2,
            "linecolor": "white",
            "showbackground": true,
            "ticks": "",
            "zerolinecolor": "white"
           }
          },
          "shapedefaults": {
           "line": {
            "color": "#2a3f5f"
           }
          },
          "ternary": {
           "aaxis": {
            "gridcolor": "white",
            "linecolor": "white",
            "ticks": ""
           },
           "baxis": {
            "gridcolor": "white",
            "linecolor": "white",
            "ticks": ""
           },
           "bgcolor": "#E5ECF6",
           "caxis": {
            "gridcolor": "white",
            "linecolor": "white",
            "ticks": ""
           }
          },
          "title": {
           "x": 0.05
          },
          "xaxis": {
           "automargin": true,
           "gridcolor": "white",
           "linecolor": "white",
           "ticks": "",
           "title": {
            "standoff": 15
           },
           "zerolinecolor": "white",
           "zerolinewidth": 2
          },
          "yaxis": {
           "automargin": true,
           "gridcolor": "white",
           "linecolor": "white",
           "ticks": "",
           "title": {
            "standoff": 15
           },
           "zerolinecolor": "white",
           "zerolinewidth": 2
          }
         }
        },
        "title": {
         "text": "Number of charged off loans in function of disbursment FY",
         "x": 0.5
        },
        "xaxis": {
         "showgrid": false
        },
        "yaxis": {
         "showgrid": false
        }
       }
      }
     },
     "metadata": {}
    }
   ],
   "source": [
    "import plotly.graph_objects as go\n",
    "\n",
    "x = list(df_used_test['DisFY'].unique())\n",
    "y0,y1 = [],[]\n",
    "x.sort()\n",
    "for x_ in (x):\n",
    "    df_target = df_used_test[df_used_test.DisFY == x_]\n",
    "    y0.append(df_target[df_target['ChargeOff'] == 0].shape[0])\n",
    "    y1.append(df_target[df_target['ChargeOff'] == 1].shape[0])\n",
    "layout = go.Layout(title_text=\"Percentage charged off loans in function of disbursment FY\")\n",
    "fig = go.Figure(layout=layout)\n",
    "fig.update_layout(legend=dict(\n",
    "    yanchor=\"top\",\n",
    "    y=0.99,\n",
    "    xanchor=\"left\",\n",
    "    x=1\n",
    "),paper_bgcolor='rgba(0,0,0,0)',\n",
    "    plot_bgcolor='rgba(0,0,0,0)')\n",
    "\n",
    "\n",
    "fig.update_layout(title_text=\"Number of charged off loans in function of disbursment FY\", title_x=0.5)\n",
    "fig.update_xaxes(showgrid=False)\n",
    "fig.update_yaxes(showgrid=False)\n",
    "fig.add_trace(go.Scatter(x=x, y=y1, fill='tonexty',stackgroup='one',name=\"% charged off loans\")) # fill to trace0 y\n",
    "fig.add_trace(go.Scatter(x=x, y=y0, fill='tonexty',stackgroup='one',name=\"% not charged off loans\")) # fill down to xaxis\n",
    "fig.show()"
   ]
  },
  {
   "cell_type": "code",
   "execution_count": 205,
   "metadata": {},
   "outputs": [
    {
     "output_type": "display_data",
     "data": {
      "application/vnd.plotly.v1+json": {
       "config": {
        "plotlyServerURL": "https://plot.ly"
       },
       "data": [
        {
         "fill": "tonexty",
         "name": "% charged off loans",
         "type": "scatter",
         "x": [
          1970,
          1972,
          1973,
          1974,
          1975,
          1976,
          1977,
          1978,
          1979,
          1980,
          1981,
          1982,
          1983,
          1984,
          1985,
          1986,
          1987,
          1988,
          1989,
          1990,
          1991,
          1992,
          1993,
          1994,
          1995,
          1996,
          1997,
          1998,
          1999,
          2000,
          2001,
          2002,
          2003,
          2004,
          2005,
          2006,
          2007,
          2008,
          2009,
          2010,
          2011,
          2012,
          2013
         ],
         "y": [
          1,
          0.8,
          1,
          1,
          1,
          1,
          1,
          1,
          0.9791666666666666,
          0.9876543209876543,
          0.9516129032258065,
          0.8732394366197183,
          0.8303571428571429,
          0.65625,
          0.7696969696969697,
          0.7588235294117647,
          0.7362637362637363,
          0.7702702702702703,
          0.2676348547717842,
          0.1955403087478559,
          0.09688013136288999,
          0.09798657718120805,
          0.10290237467018469,
          0.10691244239631337,
          0.11131059245960502,
          0.17356475300400534,
          0.2328767123287671,
          0.30057070386810397,
          0.3319327731092437,
          0.36833514689880303,
          0.37777777777777777,
          0.40857787810383744,
          0.470096463022508,
          0.5216423447934702,
          0.6286970423661071,
          0.7124245312996504,
          0.7895900663378126,
          0.7070707070707071,
          0.504950495049505,
          0.3547619047619048,
          0.2837573385518591,
          0.22556390977443608,
          0.125
         ]
        },
        {
         "fill": "tonexty",
         "name": "% not charged off loans",
         "type": "scatter",
         "x": [
          1970,
          1972,
          1973,
          1974,
          1975,
          1976,
          1977,
          1978,
          1979,
          1980,
          1981,
          1982,
          1983,
          1984,
          1985,
          1986,
          1987,
          1988,
          1989,
          1990,
          1991,
          1992,
          1993,
          1994,
          1995,
          1996,
          1997,
          1998,
          1999,
          2000,
          2001,
          2002,
          2003,
          2004,
          2005,
          2006,
          2007,
          2008,
          2009,
          2010,
          2011,
          2012,
          2013
         ],
         "y": [
          0,
          0.2,
          0,
          0,
          0,
          0,
          0,
          0,
          0.020833333333333332,
          0.012345679012345678,
          0.04838709677419355,
          0.1267605633802817,
          0.16964285714285715,
          0.34375,
          0.23030303030303031,
          0.2411764705882353,
          0.26373626373626374,
          0.22972972972972974,
          0.7323651452282157,
          0.8044596912521441,
          0.90311986863711,
          0.9020134228187919,
          0.8970976253298153,
          0.8930875576036866,
          0.8886894075403949,
          0.8264352469959947,
          0.7671232876712328,
          0.699429296131896,
          0.6680672268907563,
          0.6316648531011969,
          0.6222222222222222,
          0.5914221218961625,
          0.5299035369774919,
          0.4783576552065298,
          0.37130295763389287,
          0.28757546870034956,
          0.21040993366218744,
          0.29292929292929293,
          0.49504950495049505,
          0.6452380952380953,
          0.7162426614481409,
          0.7744360902255639,
          0.875
         ]
        }
       ],
       "layout": {
        "legend": {
         "x": 1,
         "xanchor": "left",
         "y": 0.99,
         "yanchor": "top"
        },
        "paper_bgcolor": "rgba(0,0,0,0)",
        "plot_bgcolor": "rgba(0,0,0,0)",
        "template": {
         "data": {
          "bar": [
           {
            "error_x": {
             "color": "#2a3f5f"
            },
            "error_y": {
             "color": "#2a3f5f"
            },
            "marker": {
             "line": {
              "color": "#E5ECF6",
              "width": 0.5
             }
            },
            "type": "bar"
           }
          ],
          "barpolar": [
           {
            "marker": {
             "line": {
              "color": "#E5ECF6",
              "width": 0.5
             }
            },
            "type": "barpolar"
           }
          ],
          "carpet": [
           {
            "aaxis": {
             "endlinecolor": "#2a3f5f",
             "gridcolor": "white",
             "linecolor": "white",
             "minorgridcolor": "white",
             "startlinecolor": "#2a3f5f"
            },
            "baxis": {
             "endlinecolor": "#2a3f5f",
             "gridcolor": "white",
             "linecolor": "white",
             "minorgridcolor": "white",
             "startlinecolor": "#2a3f5f"
            },
            "type": "carpet"
           }
          ],
          "choropleth": [
           {
            "colorbar": {
             "outlinewidth": 0,
             "ticks": ""
            },
            "type": "choropleth"
           }
          ],
          "contour": [
           {
            "colorbar": {
             "outlinewidth": 0,
             "ticks": ""
            },
            "colorscale": [
             [
              0,
              "#0d0887"
             ],
             [
              0.1111111111111111,
              "#46039f"
             ],
             [
              0.2222222222222222,
              "#7201a8"
             ],
             [
              0.3333333333333333,
              "#9c179e"
             ],
             [
              0.4444444444444444,
              "#bd3786"
             ],
             [
              0.5555555555555556,
              "#d8576b"
             ],
             [
              0.6666666666666666,
              "#ed7953"
             ],
             [
              0.7777777777777778,
              "#fb9f3a"
             ],
             [
              0.8888888888888888,
              "#fdca26"
             ],
             [
              1,
              "#f0f921"
             ]
            ],
            "type": "contour"
           }
          ],
          "contourcarpet": [
           {
            "colorbar": {
             "outlinewidth": 0,
             "ticks": ""
            },
            "type": "contourcarpet"
           }
          ],
          "heatmap": [
           {
            "colorbar": {
             "outlinewidth": 0,
             "ticks": ""
            },
            "colorscale": [
             [
              0,
              "#0d0887"
             ],
             [
              0.1111111111111111,
              "#46039f"
             ],
             [
              0.2222222222222222,
              "#7201a8"
             ],
             [
              0.3333333333333333,
              "#9c179e"
             ],
             [
              0.4444444444444444,
              "#bd3786"
             ],
             [
              0.5555555555555556,
              "#d8576b"
             ],
             [
              0.6666666666666666,
              "#ed7953"
             ],
             [
              0.7777777777777778,
              "#fb9f3a"
             ],
             [
              0.8888888888888888,
              "#fdca26"
             ],
             [
              1,
              "#f0f921"
             ]
            ],
            "type": "heatmap"
           }
          ],
          "heatmapgl": [
           {
            "colorbar": {
             "outlinewidth": 0,
             "ticks": ""
            },
            "colorscale": [
             [
              0,
              "#0d0887"
             ],
             [
              0.1111111111111111,
              "#46039f"
             ],
             [
              0.2222222222222222,
              "#7201a8"
             ],
             [
              0.3333333333333333,
              "#9c179e"
             ],
             [
              0.4444444444444444,
              "#bd3786"
             ],
             [
              0.5555555555555556,
              "#d8576b"
             ],
             [
              0.6666666666666666,
              "#ed7953"
             ],
             [
              0.7777777777777778,
              "#fb9f3a"
             ],
             [
              0.8888888888888888,
              "#fdca26"
             ],
             [
              1,
              "#f0f921"
             ]
            ],
            "type": "heatmapgl"
           }
          ],
          "histogram": [
           {
            "marker": {
             "colorbar": {
              "outlinewidth": 0,
              "ticks": ""
             }
            },
            "type": "histogram"
           }
          ],
          "histogram2d": [
           {
            "colorbar": {
             "outlinewidth": 0,
             "ticks": ""
            },
            "colorscale": [
             [
              0,
              "#0d0887"
             ],
             [
              0.1111111111111111,
              "#46039f"
             ],
             [
              0.2222222222222222,
              "#7201a8"
             ],
             [
              0.3333333333333333,
              "#9c179e"
             ],
             [
              0.4444444444444444,
              "#bd3786"
             ],
             [
              0.5555555555555556,
              "#d8576b"
             ],
             [
              0.6666666666666666,
              "#ed7953"
             ],
             [
              0.7777777777777778,
              "#fb9f3a"
             ],
             [
              0.8888888888888888,
              "#fdca26"
             ],
             [
              1,
              "#f0f921"
             ]
            ],
            "type": "histogram2d"
           }
          ],
          "histogram2dcontour": [
           {
            "colorbar": {
             "outlinewidth": 0,
             "ticks": ""
            },
            "colorscale": [
             [
              0,
              "#0d0887"
             ],
             [
              0.1111111111111111,
              "#46039f"
             ],
             [
              0.2222222222222222,
              "#7201a8"
             ],
             [
              0.3333333333333333,
              "#9c179e"
             ],
             [
              0.4444444444444444,
              "#bd3786"
             ],
             [
              0.5555555555555556,
              "#d8576b"
             ],
             [
              0.6666666666666666,
              "#ed7953"
             ],
             [
              0.7777777777777778,
              "#fb9f3a"
             ],
             [
              0.8888888888888888,
              "#fdca26"
             ],
             [
              1,
              "#f0f921"
             ]
            ],
            "type": "histogram2dcontour"
           }
          ],
          "mesh3d": [
           {
            "colorbar": {
             "outlinewidth": 0,
             "ticks": ""
            },
            "type": "mesh3d"
           }
          ],
          "parcoords": [
           {
            "line": {
             "colorbar": {
              "outlinewidth": 0,
              "ticks": ""
             }
            },
            "type": "parcoords"
           }
          ],
          "pie": [
           {
            "automargin": true,
            "type": "pie"
           }
          ],
          "scatter": [
           {
            "marker": {
             "colorbar": {
              "outlinewidth": 0,
              "ticks": ""
             }
            },
            "type": "scatter"
           }
          ],
          "scatter3d": [
           {
            "line": {
             "colorbar": {
              "outlinewidth": 0,
              "ticks": ""
             }
            },
            "marker": {
             "colorbar": {
              "outlinewidth": 0,
              "ticks": ""
             }
            },
            "type": "scatter3d"
           }
          ],
          "scattercarpet": [
           {
            "marker": {
             "colorbar": {
              "outlinewidth": 0,
              "ticks": ""
             }
            },
            "type": "scattercarpet"
           }
          ],
          "scattergeo": [
           {
            "marker": {
             "colorbar": {
              "outlinewidth": 0,
              "ticks": ""
             }
            },
            "type": "scattergeo"
           }
          ],
          "scattergl": [
           {
            "marker": {
             "colorbar": {
              "outlinewidth": 0,
              "ticks": ""
             }
            },
            "type": "scattergl"
           }
          ],
          "scattermapbox": [
           {
            "marker": {
             "colorbar": {
              "outlinewidth": 0,
              "ticks": ""
             }
            },
            "type": "scattermapbox"
           }
          ],
          "scatterpolar": [
           {
            "marker": {
             "colorbar": {
              "outlinewidth": 0,
              "ticks": ""
             }
            },
            "type": "scatterpolar"
           }
          ],
          "scatterpolargl": [
           {
            "marker": {
             "colorbar": {
              "outlinewidth": 0,
              "ticks": ""
             }
            },
            "type": "scatterpolargl"
           }
          ],
          "scatterternary": [
           {
            "marker": {
             "colorbar": {
              "outlinewidth": 0,
              "ticks": ""
             }
            },
            "type": "scatterternary"
           }
          ],
          "surface": [
           {
            "colorbar": {
             "outlinewidth": 0,
             "ticks": ""
            },
            "colorscale": [
             [
              0,
              "#0d0887"
             ],
             [
              0.1111111111111111,
              "#46039f"
             ],
             [
              0.2222222222222222,
              "#7201a8"
             ],
             [
              0.3333333333333333,
              "#9c179e"
             ],
             [
              0.4444444444444444,
              "#bd3786"
             ],
             [
              0.5555555555555556,
              "#d8576b"
             ],
             [
              0.6666666666666666,
              "#ed7953"
             ],
             [
              0.7777777777777778,
              "#fb9f3a"
             ],
             [
              0.8888888888888888,
              "#fdca26"
             ],
             [
              1,
              "#f0f921"
             ]
            ],
            "type": "surface"
           }
          ],
          "table": [
           {
            "cells": {
             "fill": {
              "color": "#EBF0F8"
             },
             "line": {
              "color": "white"
             }
            },
            "header": {
             "fill": {
              "color": "#C8D4E3"
             },
             "line": {
              "color": "white"
             }
            },
            "type": "table"
           }
          ]
         },
         "layout": {
          "annotationdefaults": {
           "arrowcolor": "#2a3f5f",
           "arrowhead": 0,
           "arrowwidth": 1
          },
          "coloraxis": {
           "colorbar": {
            "outlinewidth": 0,
            "ticks": ""
           }
          },
          "colorscale": {
           "diverging": [
            [
             0,
             "#8e0152"
            ],
            [
             0.1,
             "#c51b7d"
            ],
            [
             0.2,
             "#de77ae"
            ],
            [
             0.3,
             "#f1b6da"
            ],
            [
             0.4,
             "#fde0ef"
            ],
            [
             0.5,
             "#f7f7f7"
            ],
            [
             0.6,
             "#e6f5d0"
            ],
            [
             0.7,
             "#b8e186"
            ],
            [
             0.8,
             "#7fbc41"
            ],
            [
             0.9,
             "#4d9221"
            ],
            [
             1,
             "#276419"
            ]
           ],
           "sequential": [
            [
             0,
             "#0d0887"
            ],
            [
             0.1111111111111111,
             "#46039f"
            ],
            [
             0.2222222222222222,
             "#7201a8"
            ],
            [
             0.3333333333333333,
             "#9c179e"
            ],
            [
             0.4444444444444444,
             "#bd3786"
            ],
            [
             0.5555555555555556,
             "#d8576b"
            ],
            [
             0.6666666666666666,
             "#ed7953"
            ],
            [
             0.7777777777777778,
             "#fb9f3a"
            ],
            [
             0.8888888888888888,
             "#fdca26"
            ],
            [
             1,
             "#f0f921"
            ]
           ],
           "sequentialminus": [
            [
             0,
             "#0d0887"
            ],
            [
             0.1111111111111111,
             "#46039f"
            ],
            [
             0.2222222222222222,
             "#7201a8"
            ],
            [
             0.3333333333333333,
             "#9c179e"
            ],
            [
             0.4444444444444444,
             "#bd3786"
            ],
            [
             0.5555555555555556,
             "#d8576b"
            ],
            [
             0.6666666666666666,
             "#ed7953"
            ],
            [
             0.7777777777777778,
             "#fb9f3a"
            ],
            [
             0.8888888888888888,
             "#fdca26"
            ],
            [
             1,
             "#f0f921"
            ]
           ]
          },
          "colorway": [
           "#636efa",
           "#EF553B",
           "#00cc96",
           "#ab63fa",
           "#FFA15A",
           "#19d3f3",
           "#FF6692",
           "#B6E880",
           "#FF97FF",
           "#FECB52"
          ],
          "font": {
           "color": "#2a3f5f"
          },
          "geo": {
           "bgcolor": "white",
           "lakecolor": "white",
           "landcolor": "#E5ECF6",
           "showlakes": true,
           "showland": true,
           "subunitcolor": "white"
          },
          "hoverlabel": {
           "align": "left"
          },
          "hovermode": "closest",
          "mapbox": {
           "style": "light"
          },
          "paper_bgcolor": "white",
          "plot_bgcolor": "#E5ECF6",
          "polar": {
           "angularaxis": {
            "gridcolor": "white",
            "linecolor": "white",
            "ticks": ""
           },
           "bgcolor": "#E5ECF6",
           "radialaxis": {
            "gridcolor": "white",
            "linecolor": "white",
            "ticks": ""
           }
          },
          "scene": {
           "xaxis": {
            "backgroundcolor": "#E5ECF6",
            "gridcolor": "white",
            "gridwidth": 2,
            "linecolor": "white",
            "showbackground": true,
            "ticks": "",
            "zerolinecolor": "white"
           },
           "yaxis": {
            "backgroundcolor": "#E5ECF6",
            "gridcolor": "white",
            "gridwidth": 2,
            "linecolor": "white",
            "showbackground": true,
            "ticks": "",
            "zerolinecolor": "white"
           },
           "zaxis": {
            "backgroundcolor": "#E5ECF6",
            "gridcolor": "white",
            "gridwidth": 2,
            "linecolor": "white",
            "showbackground": true,
            "ticks": "",
            "zerolinecolor": "white"
           }
          },
          "shapedefaults": {
           "line": {
            "color": "#2a3f5f"
           }
          },
          "ternary": {
           "aaxis": {
            "gridcolor": "white",
            "linecolor": "white",
            "ticks": ""
           },
           "baxis": {
            "gridcolor": "white",
            "linecolor": "white",
            "ticks": ""
           },
           "bgcolor": "#E5ECF6",
           "caxis": {
            "gridcolor": "white",
            "linecolor": "white",
            "ticks": ""
           }
          },
          "title": {
           "x": 0.05
          },
          "xaxis": {
           "automargin": true,
           "gridcolor": "white",
           "linecolor": "white",
           "ticks": "",
           "title": {
            "standoff": 15
           },
           "zerolinecolor": "white",
           "zerolinewidth": 2
          },
          "yaxis": {
           "automargin": true,
           "gridcolor": "white",
           "linecolor": "white",
           "ticks": "",
           "title": {
            "standoff": 15
           },
           "zerolinecolor": "white",
           "zerolinewidth": 2
          }
         }
        },
        "title": {
         "text": "Percentage of charged off loans in function of years",
         "x": 0.5
        }
       }
      }
     },
     "metadata": {}
    }
   ],
   "source": [
    "import plotly.graph_objects as go\n",
    "\n",
    "x = list(df_used_test['DisFY'].unique())\n",
    "y0,y1 = [],[]\n",
    "x.sort()\n",
    "for x_ in (x):\n",
    "    df_target = df_used_test[df_used_test.DisFY == x_]\n",
    "    y0.append(df_target[df_target['ChargeOff'] == 0].shape[0]/df_target.shape[0])\n",
    "    y1.append(df_target[df_target['ChargeOff'] == 1].shape[0]/df_target.shape[0])\n",
    "\n",
    "fig = go.Figure()\n",
    "fig.update_layout(legend=dict(\n",
    "    yanchor=\"top\",\n",
    "    y=0.99,\n",
    "    xanchor=\"left\",\n",
    "    x=1\n",
    "),paper_bgcolor='rgba(0,0,0,0)',\n",
    "    plot_bgcolor='rgba(0,0,0,0)')\n",
    "fig.update_layout(title_text=\"Percentage of charged off loans in function of years\", title_x=0.5)\n",
    "fig.add_trace(go.Scatter(x=x, y=y1, fill='tonexty',name=\"% charged off loans\")) # fill to trace0 y\n",
    "fig.add_trace(go.Scatter(x=x, y=y0, fill='tonexty',name=\"% not charged off loans\")) # fill down to xaxis\n",
    "fig.show()"
   ]
  },
  {
   "cell_type": "code",
   "execution_count": 57,
   "metadata": {},
   "outputs": [],
   "source": [
    "df_states= pd.read_csv('/Users/macbookpro/Documents/Cours/Singapour/S2/Data discovery and data mining/Project/US_states.csv')\n",
    "\n",
    "dict_sum = dict(df_used.groupby('State').sum()['ChargeOff'])\n",
    "dict_ = dict(df_used['State'].value_counts())\n",
    "dict_res = {}\n",
    "for k in dict_.keys():\n",
    "    dict_res.update({k:round(float(dict_sum[k]/dict_[k]),3)})"
   ]
  },
  {
   "cell_type": "code",
   "execution_count": 58,
   "metadata": {},
   "outputs": [],
   "source": []
  },
  {
   "cell_type": "code",
   "execution_count": null,
   "metadata": {},
   "outputs": [],
   "source": []
  },
  {
   "cell_type": "code",
   "execution_count": 168,
   "metadata": {},
   "outputs": [
    {
     "output_type": "display_data",
     "data": {
      "application/vnd.plotly.v1+json": {
       "config": {
        "plotlyServerURL": "https://plot.ly"
       },
       "data": [
        {
         "colorbar": {
          "title": {
           "text": "Percentage of charged off loans"
          }
         },
         "colorscale": [
          [
           0,
           "rgb(255,245,240)"
          ],
          [
           0.125,
           "rgb(254,224,210)"
          ],
          [
           0.25,
           "rgb(252,187,161)"
          ],
          [
           0.375,
           "rgb(252,146,114)"
          ],
          [
           0.5,
           "rgb(251,106,74)"
          ],
          [
           0.625,
           "rgb(239,59,44)"
          ],
          [
           0.75,
           "rgb(203,24,29)"
          ],
          [
           0.875,
           "rgb(165,15,21)"
          ],
          [
           1,
           "rgb(103,0,13)"
          ]
         ],
         "locationmode": "USA-states",
         "locations": [
          "AL",
          "AK",
          "AZ",
          "AR",
          "CA",
          "CO",
          "CT",
          "DE",
          "FL",
          "GA",
          "HI",
          "ID",
          "IL",
          "IN",
          "IA",
          "KS",
          "KY",
          "LA",
          "ME",
          "MD",
          "MA",
          "MI",
          "MN",
          "MS",
          "MO",
          "MT",
          "NE",
          "NV",
          "NH",
          "NJ",
          "NM",
          "NY",
          "NC",
          "ND",
          "OH",
          "OK",
          "OR",
          "PA",
          "RI",
          "SC",
          "SD",
          "TN",
          "TX",
          "UT",
          "VT",
          "VA",
          "WA",
          "WV",
          "WI",
          "WY"
         ],
         "type": "choropleth",
         "z": [
          0.75,
          0.667,
          0.561,
          0.231,
          0.271,
          0.293,
          0.1,
          0.333,
          0.422,
          0.345,
          0.1,
          0.357,
          0.349,
          0.355,
          0.314,
          0.333,
          0.588,
          0.5,
          0.182,
          0.435,
          0.179,
          0.157,
          0.259,
          0.407,
          0.342,
          0.133,
          0.353,
          0.533,
          0.286,
          0.318,
          0.375,
          0.247,
          0.342,
          0.091,
          0.382,
          0.5,
          0.286,
          0.182,
          0.133,
          0.7,
          0.111,
          0.25,
          0.381,
          0.31,
          0,
          0.345,
          0.121,
          0.333,
          0.224,
          0.2
         ]
        }
       ],
       "layout": {
        "autosize": true,
        "geo": {
         "scope": "usa"
        },
        "height": 800,
        "template": {
         "data": {
          "bar": [
           {
            "error_x": {
             "color": "#2a3f5f"
            },
            "error_y": {
             "color": "#2a3f5f"
            },
            "marker": {
             "line": {
              "color": "#E5ECF6",
              "width": 0.5
             }
            },
            "type": "bar"
           }
          ],
          "barpolar": [
           {
            "marker": {
             "line": {
              "color": "#E5ECF6",
              "width": 0.5
             }
            },
            "type": "barpolar"
           }
          ],
          "carpet": [
           {
            "aaxis": {
             "endlinecolor": "#2a3f5f",
             "gridcolor": "white",
             "linecolor": "white",
             "minorgridcolor": "white",
             "startlinecolor": "#2a3f5f"
            },
            "baxis": {
             "endlinecolor": "#2a3f5f",
             "gridcolor": "white",
             "linecolor": "white",
             "minorgridcolor": "white",
             "startlinecolor": "#2a3f5f"
            },
            "type": "carpet"
           }
          ],
          "choropleth": [
           {
            "colorbar": {
             "outlinewidth": 0,
             "ticks": ""
            },
            "type": "choropleth"
           }
          ],
          "contour": [
           {
            "colorbar": {
             "outlinewidth": 0,
             "ticks": ""
            },
            "colorscale": [
             [
              0,
              "#0d0887"
             ],
             [
              0.1111111111111111,
              "#46039f"
             ],
             [
              0.2222222222222222,
              "#7201a8"
             ],
             [
              0.3333333333333333,
              "#9c179e"
             ],
             [
              0.4444444444444444,
              "#bd3786"
             ],
             [
              0.5555555555555556,
              "#d8576b"
             ],
             [
              0.6666666666666666,
              "#ed7953"
             ],
             [
              0.7777777777777778,
              "#fb9f3a"
             ],
             [
              0.8888888888888888,
              "#fdca26"
             ],
             [
              1,
              "#f0f921"
             ]
            ],
            "type": "contour"
           }
          ],
          "contourcarpet": [
           {
            "colorbar": {
             "outlinewidth": 0,
             "ticks": ""
            },
            "type": "contourcarpet"
           }
          ],
          "heatmap": [
           {
            "colorbar": {
             "outlinewidth": 0,
             "ticks": ""
            },
            "colorscale": [
             [
              0,
              "#0d0887"
             ],
             [
              0.1111111111111111,
              "#46039f"
             ],
             [
              0.2222222222222222,
              "#7201a8"
             ],
             [
              0.3333333333333333,
              "#9c179e"
             ],
             [
              0.4444444444444444,
              "#bd3786"
             ],
             [
              0.5555555555555556,
              "#d8576b"
             ],
             [
              0.6666666666666666,
              "#ed7953"
             ],
             [
              0.7777777777777778,
              "#fb9f3a"
             ],
             [
              0.8888888888888888,
              "#fdca26"
             ],
             [
              1,
              "#f0f921"
             ]
            ],
            "type": "heatmap"
           }
          ],
          "heatmapgl": [
           {
            "colorbar": {
             "outlinewidth": 0,
             "ticks": ""
            },
            "colorscale": [
             [
              0,
              "#0d0887"
             ],
             [
              0.1111111111111111,
              "#46039f"
             ],
             [
              0.2222222222222222,
              "#7201a8"
             ],
             [
              0.3333333333333333,
              "#9c179e"
             ],
             [
              0.4444444444444444,
              "#bd3786"
             ],
             [
              0.5555555555555556,
              "#d8576b"
             ],
             [
              0.6666666666666666,
              "#ed7953"
             ],
             [
              0.7777777777777778,
              "#fb9f3a"
             ],
             [
              0.8888888888888888,
              "#fdca26"
             ],
             [
              1,
              "#f0f921"
             ]
            ],
            "type": "heatmapgl"
           }
          ],
          "histogram": [
           {
            "marker": {
             "colorbar": {
              "outlinewidth": 0,
              "ticks": ""
             }
            },
            "type": "histogram"
           }
          ],
          "histogram2d": [
           {
            "colorbar": {
             "outlinewidth": 0,
             "ticks": ""
            },
            "colorscale": [
             [
              0,
              "#0d0887"
             ],
             [
              0.1111111111111111,
              "#46039f"
             ],
             [
              0.2222222222222222,
              "#7201a8"
             ],
             [
              0.3333333333333333,
              "#9c179e"
             ],
             [
              0.4444444444444444,
              "#bd3786"
             ],
             [
              0.5555555555555556,
              "#d8576b"
             ],
             [
              0.6666666666666666,
              "#ed7953"
             ],
             [
              0.7777777777777778,
              "#fb9f3a"
             ],
             [
              0.8888888888888888,
              "#fdca26"
             ],
             [
              1,
              "#f0f921"
             ]
            ],
            "type": "histogram2d"
           }
          ],
          "histogram2dcontour": [
           {
            "colorbar": {
             "outlinewidth": 0,
             "ticks": ""
            },
            "colorscale": [
             [
              0,
              "#0d0887"
             ],
             [
              0.1111111111111111,
              "#46039f"
             ],
             [
              0.2222222222222222,
              "#7201a8"
             ],
             [
              0.3333333333333333,
              "#9c179e"
             ],
             [
              0.4444444444444444,
              "#bd3786"
             ],
             [
              0.5555555555555556,
              "#d8576b"
             ],
             [
              0.6666666666666666,
              "#ed7953"
             ],
             [
              0.7777777777777778,
              "#fb9f3a"
             ],
             [
              0.8888888888888888,
              "#fdca26"
             ],
             [
              1,
              "#f0f921"
             ]
            ],
            "type": "histogram2dcontour"
           }
          ],
          "mesh3d": [
           {
            "colorbar": {
             "outlinewidth": 0,
             "ticks": ""
            },
            "type": "mesh3d"
           }
          ],
          "parcoords": [
           {
            "line": {
             "colorbar": {
              "outlinewidth": 0,
              "ticks": ""
             }
            },
            "type": "parcoords"
           }
          ],
          "pie": [
           {
            "automargin": true,
            "type": "pie"
           }
          ],
          "scatter": [
           {
            "marker": {
             "colorbar": {
              "outlinewidth": 0,
              "ticks": ""
             }
            },
            "type": "scatter"
           }
          ],
          "scatter3d": [
           {
            "line": {
             "colorbar": {
              "outlinewidth": 0,
              "ticks": ""
             }
            },
            "marker": {
             "colorbar": {
              "outlinewidth": 0,
              "ticks": ""
             }
            },
            "type": "scatter3d"
           }
          ],
          "scattercarpet": [
           {
            "marker": {
             "colorbar": {
              "outlinewidth": 0,
              "ticks": ""
             }
            },
            "type": "scattercarpet"
           }
          ],
          "scattergeo": [
           {
            "marker": {
             "colorbar": {
              "outlinewidth": 0,
              "ticks": ""
             }
            },
            "type": "scattergeo"
           }
          ],
          "scattergl": [
           {
            "marker": {
             "colorbar": {
              "outlinewidth": 0,
              "ticks": ""
             }
            },
            "type": "scattergl"
           }
          ],
          "scattermapbox": [
           {
            "marker": {
             "colorbar": {
              "outlinewidth": 0,
              "ticks": ""
             }
            },
            "type": "scattermapbox"
           }
          ],
          "scatterpolar": [
           {
            "marker": {
             "colorbar": {
              "outlinewidth": 0,
              "ticks": ""
             }
            },
            "type": "scatterpolar"
           }
          ],
          "scatterpolargl": [
           {
            "marker": {
             "colorbar": {
              "outlinewidth": 0,
              "ticks": ""
             }
            },
            "type": "scatterpolargl"
           }
          ],
          "scatterternary": [
           {
            "marker": {
             "colorbar": {
              "outlinewidth": 0,
              "ticks": ""
             }
            },
            "type": "scatterternary"
           }
          ],
          "surface": [
           {
            "colorbar": {
             "outlinewidth": 0,
             "ticks": ""
            },
            "colorscale": [
             [
              0,
              "#0d0887"
             ],
             [
              0.1111111111111111,
              "#46039f"
             ],
             [
              0.2222222222222222,
              "#7201a8"
             ],
             [
              0.3333333333333333,
              "#9c179e"
             ],
             [
              0.4444444444444444,
              "#bd3786"
             ],
             [
              0.5555555555555556,
              "#d8576b"
             ],
             [
              0.6666666666666666,
              "#ed7953"
             ],
             [
              0.7777777777777778,
              "#fb9f3a"
             ],
             [
              0.8888888888888888,
              "#fdca26"
             ],
             [
              1,
              "#f0f921"
             ]
            ],
            "type": "surface"
           }
          ],
          "table": [
           {
            "cells": {
             "fill": {
              "color": "#EBF0F8"
             },
             "line": {
              "color": "white"
             }
            },
            "header": {
             "fill": {
              "color": "#C8D4E3"
             },
             "line": {
              "color": "white"
             }
            },
            "type": "table"
           }
          ]
         },
         "layout": {
          "annotationdefaults": {
           "arrowcolor": "#2a3f5f",
           "arrowhead": 0,
           "arrowwidth": 1
          },
          "coloraxis": {
           "colorbar": {
            "outlinewidth": 0,
            "ticks": ""
           }
          },
          "colorscale": {
           "diverging": [
            [
             0,
             "#8e0152"
            ],
            [
             0.1,
             "#c51b7d"
            ],
            [
             0.2,
             "#de77ae"
            ],
            [
             0.3,
             "#f1b6da"
            ],
            [
             0.4,
             "#fde0ef"
            ],
            [
             0.5,
             "#f7f7f7"
            ],
            [
             0.6,
             "#e6f5d0"
            ],
            [
             0.7,
             "#b8e186"
            ],
            [
             0.8,
             "#7fbc41"
            ],
            [
             0.9,
             "#4d9221"
            ],
            [
             1,
             "#276419"
            ]
           ],
           "sequential": [
            [
             0,
             "#0d0887"
            ],
            [
             0.1111111111111111,
             "#46039f"
            ],
            [
             0.2222222222222222,
             "#7201a8"
            ],
            [
             0.3333333333333333,
             "#9c179e"
            ],
            [
             0.4444444444444444,
             "#bd3786"
            ],
            [
             0.5555555555555556,
             "#d8576b"
            ],
            [
             0.6666666666666666,
             "#ed7953"
            ],
            [
             0.7777777777777778,
             "#fb9f3a"
            ],
            [
             0.8888888888888888,
             "#fdca26"
            ],
            [
             1,
             "#f0f921"
            ]
           ],
           "sequentialminus": [
            [
             0,
             "#0d0887"
            ],
            [
             0.1111111111111111,
             "#46039f"
            ],
            [
             0.2222222222222222,
             "#7201a8"
            ],
            [
             0.3333333333333333,
             "#9c179e"
            ],
            [
             0.4444444444444444,
             "#bd3786"
            ],
            [
             0.5555555555555556,
             "#d8576b"
            ],
            [
             0.6666666666666666,
             "#ed7953"
            ],
            [
             0.7777777777777778,
             "#fb9f3a"
            ],
            [
             0.8888888888888888,
             "#fdca26"
            ],
            [
             1,
             "#f0f921"
            ]
           ]
          },
          "colorway": [
           "#636efa",
           "#EF553B",
           "#00cc96",
           "#ab63fa",
           "#FFA15A",
           "#19d3f3",
           "#FF6692",
           "#B6E880",
           "#FF97FF",
           "#FECB52"
          ],
          "font": {
           "color": "#2a3f5f"
          },
          "geo": {
           "bgcolor": "white",
           "lakecolor": "white",
           "landcolor": "#E5ECF6",
           "showlakes": true,
           "showland": true,
           "subunitcolor": "white"
          },
          "hoverlabel": {
           "align": "left"
          },
          "hovermode": "closest",
          "mapbox": {
           "style": "light"
          },
          "paper_bgcolor": "white",
          "plot_bgcolor": "#E5ECF6",
          "polar": {
           "angularaxis": {
            "gridcolor": "white",
            "linecolor": "white",
            "ticks": ""
           },
           "bgcolor": "#E5ECF6",
           "radialaxis": {
            "gridcolor": "white",
            "linecolor": "white",
            "ticks": ""
           }
          },
          "scene": {
           "xaxis": {
            "backgroundcolor": "#E5ECF6",
            "gridcolor": "white",
            "gridwidth": 2,
            "linecolor": "white",
            "showbackground": true,
            "ticks": "",
            "zerolinecolor": "white"
           },
           "yaxis": {
            "backgroundcolor": "#E5ECF6",
            "gridcolor": "white",
            "gridwidth": 2,
            "linecolor": "white",
            "showbackground": true,
            "ticks": "",
            "zerolinecolor": "white"
           },
           "zaxis": {
            "backgroundcolor": "#E5ECF6",
            "gridcolor": "white",
            "gridwidth": 2,
            "linecolor": "white",
            "showbackground": true,
            "ticks": "",
            "zerolinecolor": "white"
           }
          },
          "shapedefaults": {
           "line": {
            "color": "#2a3f5f"
           }
          },
          "ternary": {
           "aaxis": {
            "gridcolor": "white",
            "linecolor": "white",
            "ticks": ""
           },
           "baxis": {
            "gridcolor": "white",
            "linecolor": "white",
            "ticks": ""
           },
           "bgcolor": "#E5ECF6",
           "caxis": {
            "gridcolor": "white",
            "linecolor": "white",
            "ticks": ""
           }
          },
          "title": {
           "x": 0.05
          },
          "xaxis": {
           "automargin": true,
           "gridcolor": "white",
           "linecolor": "white",
           "ticks": "",
           "title": {
            "standoff": 15
           },
           "zerolinecolor": "white",
           "zerolinewidth": 2
          },
          "yaxis": {
           "automargin": true,
           "gridcolor": "white",
           "linecolor": "white",
           "ticks": "",
           "title": {
            "standoff": 15
           },
           "zerolinecolor": "white",
           "zerolinewidth": 2
          }
         }
        },
        "title": {
         "text": "Percentage of charged off loans per state in function of state per 1970-2013",
         "x": 0.5
        },
        "width": 1500
       }
      }
     },
     "metadata": {}
    }
   ],
   "source": [
    "\n",
    "fig = go.Figure(data=go.Choropleth(\n",
    "    locations=df_states['code'], # Spatial coordinates\n",
    "    z = list_res, # Data to be color-coded\n",
    "    locationmode = 'USA-states', # set of locations match entries in `locations`\n",
    "    colorscale = 'Reds',\n",
    "    colorbar_title = \"Percentage of charged off loans\",\n",
    "))\n",
    "\n",
    "fig.update_layout(autosize=True,width=1500, height=800,\n",
    "title_x=0.5,\n",
    "    title_text = 'Percentage of charged off loans per state in function of state per 1970-2013',\n",
    "    geo_scope='usa', # limite map scope to USA\n",
    ")\n",
    "\n",
    "fig.show()"
   ]
  },
  {
   "cell_type": "code",
   "execution_count": 94,
   "metadata": {},
   "outputs": [
    {
     "output_type": "execute_result",
     "data": {
      "text/plain": "array([2010, 2002, 1994, 2006, 2008, 1999, 2007, 2004, 2001, 2011, 1996,\n       1984, 1989, 2000, 2003, 2009, 1997, 1992, 1990, 2005, 1993, 1985,\n       1983, 1995, 1991, 1998, 1987, 2012, 1982, 1988, 1986, 2013, 1981,\n       1978, 1979, 1980, 1977, 1973, 1975, 1976, 1972, 1974, 1970])"
     },
     "metadata": {},
     "execution_count": 94
    }
   ],
   "source": [
    "df_used[['ApprovalDate', 'DisbursementDate']] = df_used[['ApprovalDate', 'DisbursementDate']].apply(pd.to_datetime)\n",
    "df_used['DisFY'] = df_used['DisbursementDate'].map(lambda x: x.year).apply('int64')\n",
    "df_used_test = df_used[df_used['DisFY'].isin([i for i in range(1970,2014)])]"
   ]
  },
  {
   "cell_type": "code",
   "execution_count": 150,
   "metadata": {},
   "outputs": [],
   "source": [
    "df_states= pd.read_csv('/Users/macbookpro/Documents/Cours/Singapour/S2/Data discovery and data mining/Project/US_states.csv')\n",
    "def find_data(start,end):\n",
    "    df_target = df_used_test[df_used_test['DisFY'].isin([i for i in range(start,end)])]\n",
    "    dict_sum = dict(df_target.groupby('State').sum()['ChargeOff'])\n",
    "    dict_ = dict(df_target['State'].value_counts())\n",
    "    dict_res = {}\n",
    "    for k in dict_.keys():\n",
    "        dict_res.update({k:round(float(dict_sum[k]/dict_[k]),3)})\n",
    "    return dict_res,df_target\n"
   ]
  },
  {
   "cell_type": "code",
   "execution_count": 167,
   "metadata": {
    "tags": []
   },
   "outputs": [
    {
     "output_type": "display_data",
     "data": {
      "application/vnd.plotly.v1+json": {
       "config": {
        "plotlyServerURL": "https://plot.ly"
       },
       "data": [
        {
         "colorbar": {
          "title": {
           "text": "Percentage of Charge off loans"
          }
         },
         "colorscale": [
          [
           0,
           "rgb(255,245,240)"
          ],
          [
           0.125,
           "rgb(254,224,210)"
          ],
          [
           0.25,
           "rgb(252,187,161)"
          ],
          [
           0.375,
           "rgb(252,146,114)"
          ],
          [
           0.5,
           "rgb(251,106,74)"
          ],
          [
           0.625,
           "rgb(239,59,44)"
          ],
          [
           0.75,
           "rgb(203,24,29)"
          ],
          [
           0.875,
           "rgb(165,15,21)"
          ],
          [
           1,
           "rgb(103,0,13)"
          ]
         ],
         "geo": "geo",
         "locationmode": "USA-states",
         "locations": [
          "AL",
          "AK",
          "AZ",
          "AR",
          "CA",
          "CO",
          "CT",
          "DE",
          "FL",
          "GA",
          "HI",
          "ID",
          "IL",
          "IN",
          "IA",
          "KS",
          "KY",
          "LA",
          "ME",
          "MD",
          "MA",
          "MI",
          "MN",
          "MS",
          "MO",
          "MT",
          "NE",
          "NV",
          "NH",
          "NJ",
          "NM",
          "NY",
          "NC",
          "ND",
          "OH",
          "OK",
          "OR",
          "PA",
          "RI",
          "SC",
          "SD",
          "TN",
          "TX",
          "UT",
          "VT",
          "VA",
          "WA",
          "WV",
          "WI",
          "WY"
         ],
         "showscale": true,
         "type": "choropleth",
         "z": [
          0.667,
          1,
          0.81,
          1,
          0.729,
          0.789,
          0.75,
          1,
          0.789,
          0.711,
          0.667,
          0.636,
          0.889,
          0.7,
          0.9,
          0.857,
          0.786,
          1,
          0.667,
          0.7,
          0.5,
          0.667,
          0.625,
          0.8,
          0.773,
          1,
          0.889,
          0.778,
          0.714,
          0.783,
          0.923,
          0.7,
          0.357,
          0.917,
          0.6,
          0.92,
          0.8,
          0.857,
          0.375,
          0.8,
          0.875,
          0.733,
          0.919,
          0.682,
          1,
          0.556,
          0.737,
          1,
          0.5,
          1
         ]
        },
        {
         "geo": "geo",
         "lat": [
          51
         ],
         "lon": [
          -100
         ],
         "mode": "text",
         "showlegend": false,
         "text": [
          "1980-1989"
         ],
         "type": "scattergeo"
        },
        {
         "colorbar": {
          "title": {
           "text": "Percentage of Charge off loans"
          }
         },
         "colorscale": [
          [
           0,
           "rgb(255,245,240)"
          ],
          [
           0.125,
           "rgb(254,224,210)"
          ],
          [
           0.25,
           "rgb(252,187,161)"
          ],
          [
           0.375,
           "rgb(252,146,114)"
          ],
          [
           0.5,
           "rgb(251,106,74)"
          ],
          [
           0.625,
           "rgb(239,59,44)"
          ],
          [
           0.75,
           "rgb(203,24,29)"
          ],
          [
           0.875,
           "rgb(165,15,21)"
          ],
          [
           1,
           "rgb(103,0,13)"
          ]
         ],
         "geo": "geo2",
         "locationmode": "USA-states",
         "locations": [
          "AL",
          "AK",
          "AZ",
          "AR",
          "CA",
          "CO",
          "CT",
          "DE",
          "FL",
          "GA",
          "HI",
          "ID",
          "IL",
          "IN",
          "IA",
          "KS",
          "KY",
          "LA",
          "ME",
          "MD",
          "MA",
          "MI",
          "MN",
          "MS",
          "MO",
          "MT",
          "NE",
          "NV",
          "NH",
          "NJ",
          "NM",
          "NY",
          "NC",
          "ND",
          "OH",
          "OK",
          "OR",
          "PA",
          "RI",
          "SC",
          "SD",
          "TN",
          "TX",
          "UT",
          "VT",
          "VA",
          "WA",
          "WV",
          "WI",
          "WY"
         ],
         "showscale": false,
         "type": "choropleth",
         "z": [
          0.145,
          0.109,
          0.142,
          0.203,
          0.15,
          0.179,
          0.159,
          0.25,
          0.217,
          0.198,
          0.171,
          0.149,
          0.231,
          0.125,
          0.093,
          0.128,
          0.258,
          0.203,
          0.108,
          0.208,
          0.094,
          0.192,
          0.142,
          0.151,
          0.163,
          0.073,
          0.174,
          0.183,
          0.116,
          0.253,
          0.193,
          0.231,
          0.115,
          0.121,
          0.178,
          0.228,
          0.09,
          0.202,
          0.198,
          0.294,
          0.096,
          0.139,
          0.205,
          0.136,
          0.074,
          0.201,
          0.133,
          0.212,
          0.177,
          0.13
         ]
        },
        {
         "geo": "geo2",
         "lat": [
          51
         ],
         "lon": [
          -100
         ],
         "mode": "text",
         "showlegend": false,
         "text": [
          "1990-1999"
         ],
         "type": "scattergeo"
        },
        {
         "colorbar": {
          "title": {
           "text": "Percentage of Charge off loans"
          }
         },
         "colorscale": [
          [
           0,
           "rgb(255,245,240)"
          ],
          [
           0.125,
           "rgb(254,224,210)"
          ],
          [
           0.25,
           "rgb(252,187,161)"
          ],
          [
           0.375,
           "rgb(252,146,114)"
          ],
          [
           0.5,
           "rgb(251,106,74)"
          ],
          [
           0.625,
           "rgb(239,59,44)"
          ],
          [
           0.75,
           "rgb(203,24,29)"
          ],
          [
           0.875,
           "rgb(165,15,21)"
          ],
          [
           1,
           "rgb(103,0,13)"
          ]
         ],
         "geo": "geo3",
         "locationmode": "USA-states",
         "locations": [
          "AL",
          "AK",
          "AZ",
          "AR",
          "CA",
          "CO",
          "CT",
          "DE",
          "FL",
          "GA",
          "HI",
          "ID",
          "IL",
          "IN",
          "IA",
          "KS",
          "KY",
          "LA",
          "ME",
          "MD",
          "MA",
          "MI",
          "MN",
          "MS",
          "MO",
          "MT",
          "NE",
          "NV",
          "NH",
          "NJ",
          "NM",
          "NY",
          "NC",
          "ND",
          "OH",
          "OK",
          "OR",
          "PA",
          "RI",
          "SC",
          "SD",
          "TN",
          "TX",
          "UT",
          "VT",
          "VA",
          "WA",
          "WV",
          "WI",
          "WY"
         ],
         "showscale": false,
         "type": "choropleth",
         "z": [
          0.596,
          0.429,
          0.521,
          0.709,
          0.464,
          0.551,
          0.404,
          0.511,
          0.597,
          0.553,
          0.556,
          0.356,
          0.529,
          0.522,
          0.453,
          0.571,
          0.642,
          0.556,
          0.341,
          0.513,
          0.449,
          0.592,
          0.411,
          0.494,
          0.507,
          0.304,
          0.435,
          0.547,
          0.393,
          0.437,
          0.247,
          0.54,
          0.475,
          0.195,
          0.539,
          0.52,
          0.455,
          0.445,
          0.361,
          0.598,
          0.277,
          0.632,
          0.556,
          0.443,
          0.375,
          0.509,
          0.443,
          0.508,
          0.425,
          0.308
         ]
        },
        {
         "geo": "geo3",
         "lat": [
          51
         ],
         "lon": [
          -100
         ],
         "mode": "text",
         "showlegend": false,
         "text": [
          "2000-2006"
         ],
         "type": "scattergeo"
        },
        {
         "colorbar": {
          "title": {
           "text": "Percentage of Charge off loans"
          }
         },
         "colorscale": [
          [
           0,
           "rgb(255,245,240)"
          ],
          [
           0.125,
           "rgb(254,224,210)"
          ],
          [
           0.25,
           "rgb(252,187,161)"
          ],
          [
           0.375,
           "rgb(252,146,114)"
          ],
          [
           0.5,
           "rgb(251,106,74)"
          ],
          [
           0.625,
           "rgb(239,59,44)"
          ],
          [
           0.75,
           "rgb(203,24,29)"
          ],
          [
           0.875,
           "rgb(165,15,21)"
          ],
          [
           1,
           "rgb(103,0,13)"
          ]
         ],
         "geo": "geo4",
         "locationmode": "USA-states",
         "locations": [
          "AL",
          "AK",
          "AZ",
          "AR",
          "CA",
          "CO",
          "CT",
          "DE",
          "FL",
          "GA",
          "HI",
          "ID",
          "IL",
          "IN",
          "IA",
          "KS",
          "KY",
          "LA",
          "ME",
          "MD",
          "MA",
          "MI",
          "MN",
          "MS",
          "MO",
          "MT",
          "NE",
          "NV",
          "NH",
          "NJ",
          "NM",
          "NY",
          "NC",
          "ND",
          "OH",
          "OK",
          "OR",
          "PA",
          "RI",
          "SC",
          "SD",
          "TN",
          "TX",
          "UT",
          "VT",
          "VA",
          "WA",
          "WV",
          "WI",
          "WY"
         ],
         "showscale": false,
         "type": "choropleth",
         "z": [
          0.632,
          0.5,
          0.814,
          0.652,
          0.859,
          0.761,
          0.742,
          0.625,
          0.887,
          0.848,
          0.71,
          0.711,
          0.801,
          0.644,
          0.51,
          0.595,
          0.65,
          0.77,
          0.394,
          0.827,
          0.62,
          0.713,
          0.639,
          0.76,
          0.701,
          0.545,
          0.559,
          0.833,
          0.553,
          0.785,
          0.605,
          0.764,
          0.793,
          0.385,
          0.68,
          0.634,
          0.709,
          0.621,
          0.632,
          0.746,
          0.409,
          0.832,
          0.747,
          0.76,
          0.526,
          0.77,
          0.744,
          0.6,
          0.614,
          0.3
         ]
        },
        {
         "geo": "geo4",
         "lat": [
          51
         ],
         "lon": [
          -100
         ],
         "mode": "text",
         "showlegend": false,
         "text": [
          "2007-2009"
         ],
         "type": "scattergeo"
        },
        {
         "colorbar": {
          "title": {
           "text": "Percentage of Charge off loans"
          }
         },
         "colorscale": [
          [
           0,
           "rgb(255,245,240)"
          ],
          [
           0.125,
           "rgb(254,224,210)"
          ],
          [
           0.25,
           "rgb(252,187,161)"
          ],
          [
           0.375,
           "rgb(252,146,114)"
          ],
          [
           0.5,
           "rgb(251,106,74)"
          ],
          [
           0.625,
           "rgb(239,59,44)"
          ],
          [
           0.75,
           "rgb(203,24,29)"
          ],
          [
           0.875,
           "rgb(165,15,21)"
          ],
          [
           1,
           "rgb(103,0,13)"
          ]
         ],
         "geo": "geo5",
         "locationmode": "USA-states",
         "locations": [
          "AL",
          "AK",
          "AZ",
          "AR",
          "CA",
          "CO",
          "CT",
          "DE",
          "FL",
          "GA",
          "HI",
          "ID",
          "IL",
          "IN",
          "IA",
          "KS",
          "KY",
          "LA",
          "ME",
          "MD",
          "MA",
          "MI",
          "MN",
          "MS",
          "MO",
          "MT",
          "NE",
          "NV",
          "NH",
          "NJ",
          "NM",
          "NY",
          "NC",
          "ND",
          "OH",
          "OK",
          "OR",
          "PA",
          "RI",
          "SC",
          "SD",
          "TN",
          "TX",
          "UT",
          "VT",
          "VA",
          "WA",
          "WV",
          "WI",
          "WY"
         ],
         "showscale": false,
         "type": "choropleth",
         "z": [
          0.75,
          0.667,
          0.561,
          0.231,
          0.271,
          0.293,
          0.1,
          0.333,
          0.422,
          0.345,
          0.1,
          0.357,
          0.349,
          0.355,
          0.314,
          0.333,
          0.588,
          0.5,
          0.182,
          0.435,
          0.179,
          0.157,
          0.259,
          0.407,
          0.342,
          0.133,
          0.353,
          0.533,
          0.286,
          0.318,
          0.375,
          0.247,
          0.342,
          0.091,
          0.382,
          0.5,
          0.286,
          0.182,
          0.133,
          0.7,
          0.111,
          0.25,
          0.381,
          0.31,
          0,
          0.345,
          0.121,
          0.333,
          0.224,
          0.2
         ]
        },
        {
         "geo": "geo5",
         "lat": [
          51
         ],
         "lon": [
          -100
         ],
         "mode": "text",
         "showlegend": false,
         "text": [
          "2010-2013"
         ],
         "type": "scattergeo"
        }
       ],
       "layout": {
        "annotations": [
         {
          "showarrow": false,
          "text": "Nb of loans: 1151 <br> Overall % charged off 0.785",
          "x": 0.05,
          "xref": "paper",
          "y": 0.73,
          "yref": "paper"
         },
         {
          "showarrow": false,
          "text": "Nb of loans: 10205 <br> Overall % charged off 0.172",
          "x": 0.9,
          "xref": "paper",
          "y": 0.73,
          "yref": "paper"
         },
         {
          "showarrow": false,
          "text": "Nb of loans: 18100 <br> Overall % charged off 0.498",
          "x": 0.05,
          "xref": "paper",
          "y": 0.38,
          "yref": "paper"
         },
         {
          "showarrow": false,
          "text": "Nb of loans: 8651 <br> Overall % charged off 0.763",
          "x": 0.9,
          "xref": "paper",
          "y": 0.38,
          "yref": "paper"
         },
         {
          "showarrow": false,
          "text": "Nb of loans: 1617 <br> Overall % charged off 0.311",
          "x": 0.05,
          "xref": "paper",
          "y": 0.03,
          "yref": "paper"
         }
        ],
        "autosize": false,
        "geo": {
         "domain": {
          "x": [
           0,
           0.5
          ],
          "y": [
           0.6666666666666666,
           1
          ]
         },
         "landcolor": "rgb(229, 229, 229)",
         "scope": "usa",
         "showcountries": false,
         "showland": true,
         "subunitcolor": "rgb(255, 255, 255)"
        },
        "geo2": {
         "domain": {
          "x": [
           0.5,
           1
          ],
          "y": [
           0.6666666666666666,
           1
          ]
         },
         "landcolor": "rgb(229, 229, 229)",
         "scope": "usa",
         "showcountries": false,
         "showland": true,
         "subunitcolor": "rgb(255, 255, 255)"
        },
        "geo3": {
         "domain": {
          "x": [
           0,
           0.5
          ],
          "y": [
           0.3333333333333333,
           0.6666666666666666
          ]
         },
         "landcolor": "rgb(229, 229, 229)",
         "scope": "usa",
         "showcountries": false,
         "showland": true,
         "subunitcolor": "rgb(255, 255, 255)"
        },
        "geo4": {
         "domain": {
          "x": [
           0.5,
           1
          ],
          "y": [
           0.3333333333333333,
           0.6666666666666666
          ]
         },
         "landcolor": "rgb(229, 229, 229)",
         "scope": "usa",
         "showcountries": false,
         "showland": true,
         "subunitcolor": "rgb(255, 255, 255)"
        },
        "geo5": {
         "domain": {
          "x": [
           0,
           0.5
          ],
          "y": [
           0,
           0.3333333333333333
          ]
         },
         "landcolor": "rgb(229, 229, 229)",
         "scope": "usa",
         "showcountries": false,
         "showland": true,
         "subunitcolor": "rgb(255, 255, 255)"
        },
        "height": 900,
        "hovermode": false,
        "legend": {
         "bgcolor": "rgba(255, 255, 255, 0)",
         "font": {
          "size": 1
         },
         "x": 0.7,
         "y": -0.1
        },
        "showlegend": true,
        "template": {
         "data": {
          "bar": [
           {
            "error_x": {
             "color": "#2a3f5f"
            },
            "error_y": {
             "color": "#2a3f5f"
            },
            "marker": {
             "line": {
              "color": "#E5ECF6",
              "width": 0.5
             }
            },
            "type": "bar"
           }
          ],
          "barpolar": [
           {
            "marker": {
             "line": {
              "color": "#E5ECF6",
              "width": 0.5
             }
            },
            "type": "barpolar"
           }
          ],
          "carpet": [
           {
            "aaxis": {
             "endlinecolor": "#2a3f5f",
             "gridcolor": "white",
             "linecolor": "white",
             "minorgridcolor": "white",
             "startlinecolor": "#2a3f5f"
            },
            "baxis": {
             "endlinecolor": "#2a3f5f",
             "gridcolor": "white",
             "linecolor": "white",
             "minorgridcolor": "white",
             "startlinecolor": "#2a3f5f"
            },
            "type": "carpet"
           }
          ],
          "choropleth": [
           {
            "colorbar": {
             "outlinewidth": 0,
             "ticks": ""
            },
            "type": "choropleth"
           }
          ],
          "contour": [
           {
            "colorbar": {
             "outlinewidth": 0,
             "ticks": ""
            },
            "colorscale": [
             [
              0,
              "#0d0887"
             ],
             [
              0.1111111111111111,
              "#46039f"
             ],
             [
              0.2222222222222222,
              "#7201a8"
             ],
             [
              0.3333333333333333,
              "#9c179e"
             ],
             [
              0.4444444444444444,
              "#bd3786"
             ],
             [
              0.5555555555555556,
              "#d8576b"
             ],
             [
              0.6666666666666666,
              "#ed7953"
             ],
             [
              0.7777777777777778,
              "#fb9f3a"
             ],
             [
              0.8888888888888888,
              "#fdca26"
             ],
             [
              1,
              "#f0f921"
             ]
            ],
            "type": "contour"
           }
          ],
          "contourcarpet": [
           {
            "colorbar": {
             "outlinewidth": 0,
             "ticks": ""
            },
            "type": "contourcarpet"
           }
          ],
          "heatmap": [
           {
            "colorbar": {
             "outlinewidth": 0,
             "ticks": ""
            },
            "colorscale": [
             [
              0,
              "#0d0887"
             ],
             [
              0.1111111111111111,
              "#46039f"
             ],
             [
              0.2222222222222222,
              "#7201a8"
             ],
             [
              0.3333333333333333,
              "#9c179e"
             ],
             [
              0.4444444444444444,
              "#bd3786"
             ],
             [
              0.5555555555555556,
              "#d8576b"
             ],
             [
              0.6666666666666666,
              "#ed7953"
             ],
             [
              0.7777777777777778,
              "#fb9f3a"
             ],
             [
              0.8888888888888888,
              "#fdca26"
             ],
             [
              1,
              "#f0f921"
             ]
            ],
            "type": "heatmap"
           }
          ],
          "heatmapgl": [
           {
            "colorbar": {
             "outlinewidth": 0,
             "ticks": ""
            },
            "colorscale": [
             [
              0,
              "#0d0887"
             ],
             [
              0.1111111111111111,
              "#46039f"
             ],
             [
              0.2222222222222222,
              "#7201a8"
             ],
             [
              0.3333333333333333,
              "#9c179e"
             ],
             [
              0.4444444444444444,
              "#bd3786"
             ],
             [
              0.5555555555555556,
              "#d8576b"
             ],
             [
              0.6666666666666666,
              "#ed7953"
             ],
             [
              0.7777777777777778,
              "#fb9f3a"
             ],
             [
              0.8888888888888888,
              "#fdca26"
             ],
             [
              1,
              "#f0f921"
             ]
            ],
            "type": "heatmapgl"
           }
          ],
          "histogram": [
           {
            "marker": {
             "colorbar": {
              "outlinewidth": 0,
              "ticks": ""
             }
            },
            "type": "histogram"
           }
          ],
          "histogram2d": [
           {
            "colorbar": {
             "outlinewidth": 0,
             "ticks": ""
            },
            "colorscale": [
             [
              0,
              "#0d0887"
             ],
             [
              0.1111111111111111,
              "#46039f"
             ],
             [
              0.2222222222222222,
              "#7201a8"
             ],
             [
              0.3333333333333333,
              "#9c179e"
             ],
             [
              0.4444444444444444,
              "#bd3786"
             ],
             [
              0.5555555555555556,
              "#d8576b"
             ],
             [
              0.6666666666666666,
              "#ed7953"
             ],
             [
              0.7777777777777778,
              "#fb9f3a"
             ],
             [
              0.8888888888888888,
              "#fdca26"
             ],
             [
              1,
              "#f0f921"
             ]
            ],
            "type": "histogram2d"
           }
          ],
          "histogram2dcontour": [
           {
            "colorbar": {
             "outlinewidth": 0,
             "ticks": ""
            },
            "colorscale": [
             [
              0,
              "#0d0887"
             ],
             [
              0.1111111111111111,
              "#46039f"
             ],
             [
              0.2222222222222222,
              "#7201a8"
             ],
             [
              0.3333333333333333,
              "#9c179e"
             ],
             [
              0.4444444444444444,
              "#bd3786"
             ],
             [
              0.5555555555555556,
              "#d8576b"
             ],
             [
              0.6666666666666666,
              "#ed7953"
             ],
             [
              0.7777777777777778,
              "#fb9f3a"
             ],
             [
              0.8888888888888888,
              "#fdca26"
             ],
             [
              1,
              "#f0f921"
             ]
            ],
            "type": "histogram2dcontour"
           }
          ],
          "mesh3d": [
           {
            "colorbar": {
             "outlinewidth": 0,
             "ticks": ""
            },
            "type": "mesh3d"
           }
          ],
          "parcoords": [
           {
            "line": {
             "colorbar": {
              "outlinewidth": 0,
              "ticks": ""
             }
            },
            "type": "parcoords"
           }
          ],
          "pie": [
           {
            "automargin": true,
            "type": "pie"
           }
          ],
          "scatter": [
           {
            "marker": {
             "colorbar": {
              "outlinewidth": 0,
              "ticks": ""
             }
            },
            "type": "scatter"
           }
          ],
          "scatter3d": [
           {
            "line": {
             "colorbar": {
              "outlinewidth": 0,
              "ticks": ""
             }
            },
            "marker": {
             "colorbar": {
              "outlinewidth": 0,
              "ticks": ""
             }
            },
            "type": "scatter3d"
           }
          ],
          "scattercarpet": [
           {
            "marker": {
             "colorbar": {
              "outlinewidth": 0,
              "ticks": ""
             }
            },
            "type": "scattercarpet"
           }
          ],
          "scattergeo": [
           {
            "marker": {
             "colorbar": {
              "outlinewidth": 0,
              "ticks": ""
             }
            },
            "type": "scattergeo"
           }
          ],
          "scattergl": [
           {
            "marker": {
             "colorbar": {
              "outlinewidth": 0,
              "ticks": ""
             }
            },
            "type": "scattergl"
           }
          ],
          "scattermapbox": [
           {
            "marker": {
             "colorbar": {
              "outlinewidth": 0,
              "ticks": ""
             }
            },
            "type": "scattermapbox"
           }
          ],
          "scatterpolar": [
           {
            "marker": {
             "colorbar": {
              "outlinewidth": 0,
              "ticks": ""
             }
            },
            "type": "scatterpolar"
           }
          ],
          "scatterpolargl": [
           {
            "marker": {
             "colorbar": {
              "outlinewidth": 0,
              "ticks": ""
             }
            },
            "type": "scatterpolargl"
           }
          ],
          "scatterternary": [
           {
            "marker": {
             "colorbar": {
              "outlinewidth": 0,
              "ticks": ""
             }
            },
            "type": "scatterternary"
           }
          ],
          "surface": [
           {
            "colorbar": {
             "outlinewidth": 0,
             "ticks": ""
            },
            "colorscale": [
             [
              0,
              "#0d0887"
             ],
             [
              0.1111111111111111,
              "#46039f"
             ],
             [
              0.2222222222222222,
              "#7201a8"
             ],
             [
              0.3333333333333333,
              "#9c179e"
             ],
             [
              0.4444444444444444,
              "#bd3786"
             ],
             [
              0.5555555555555556,
              "#d8576b"
             ],
             [
              0.6666666666666666,
              "#ed7953"
             ],
             [
              0.7777777777777778,
              "#fb9f3a"
             ],
             [
              0.8888888888888888,
              "#fdca26"
             ],
             [
              1,
              "#f0f921"
             ]
            ],
            "type": "surface"
           }
          ],
          "table": [
           {
            "cells": {
             "fill": {
              "color": "#EBF0F8"
             },
             "line": {
              "color": "white"
             }
            },
            "header": {
             "fill": {
              "color": "#C8D4E3"
             },
             "line": {
              "color": "white"
             }
            },
            "type": "table"
           }
          ]
         },
         "layout": {
          "annotationdefaults": {
           "arrowcolor": "#2a3f5f",
           "arrowhead": 0,
           "arrowwidth": 1
          },
          "coloraxis": {
           "colorbar": {
            "outlinewidth": 0,
            "ticks": ""
           }
          },
          "colorscale": {
           "diverging": [
            [
             0,
             "#8e0152"
            ],
            [
             0.1,
             "#c51b7d"
            ],
            [
             0.2,
             "#de77ae"
            ],
            [
             0.3,
             "#f1b6da"
            ],
            [
             0.4,
             "#fde0ef"
            ],
            [
             0.5,
             "#f7f7f7"
            ],
            [
             0.6,
             "#e6f5d0"
            ],
            [
             0.7,
             "#b8e186"
            ],
            [
             0.8,
             "#7fbc41"
            ],
            [
             0.9,
             "#4d9221"
            ],
            [
             1,
             "#276419"
            ]
           ],
           "sequential": [
            [
             0,
             "#0d0887"
            ],
            [
             0.1111111111111111,
             "#46039f"
            ],
            [
             0.2222222222222222,
             "#7201a8"
            ],
            [
             0.3333333333333333,
             "#9c179e"
            ],
            [
             0.4444444444444444,
             "#bd3786"
            ],
            [
             0.5555555555555556,
             "#d8576b"
            ],
            [
             0.6666666666666666,
             "#ed7953"
            ],
            [
             0.7777777777777778,
             "#fb9f3a"
            ],
            [
             0.8888888888888888,
             "#fdca26"
            ],
            [
             1,
             "#f0f921"
            ]
           ],
           "sequentialminus": [
            [
             0,
             "#0d0887"
            ],
            [
             0.1111111111111111,
             "#46039f"
            ],
            [
             0.2222222222222222,
             "#7201a8"
            ],
            [
             0.3333333333333333,
             "#9c179e"
            ],
            [
             0.4444444444444444,
             "#bd3786"
            ],
            [
             0.5555555555555556,
             "#d8576b"
            ],
            [
             0.6666666666666666,
             "#ed7953"
            ],
            [
             0.7777777777777778,
             "#fb9f3a"
            ],
            [
             0.8888888888888888,
             "#fdca26"
            ],
            [
             1,
             "#f0f921"
            ]
           ]
          },
          "colorway": [
           "#636efa",
           "#EF553B",
           "#00cc96",
           "#ab63fa",
           "#FFA15A",
           "#19d3f3",
           "#FF6692",
           "#B6E880",
           "#FF97FF",
           "#FECB52"
          ],
          "font": {
           "color": "#2a3f5f"
          },
          "geo": {
           "bgcolor": "white",
           "lakecolor": "white",
           "landcolor": "#E5ECF6",
           "showlakes": true,
           "showland": true,
           "subunitcolor": "white"
          },
          "hoverlabel": {
           "align": "left"
          },
          "hovermode": "closest",
          "mapbox": {
           "style": "light"
          },
          "paper_bgcolor": "white",
          "plot_bgcolor": "#E5ECF6",
          "polar": {
           "angularaxis": {
            "gridcolor": "white",
            "linecolor": "white",
            "ticks": ""
           },
           "bgcolor": "#E5ECF6",
           "radialaxis": {
            "gridcolor": "white",
            "linecolor": "white",
            "ticks": ""
           }
          },
          "scene": {
           "xaxis": {
            "backgroundcolor": "#E5ECF6",
            "gridcolor": "white",
            "gridwidth": 2,
            "linecolor": "white",
            "showbackground": true,
            "ticks": "",
            "zerolinecolor": "white"
           },
           "yaxis": {
            "backgroundcolor": "#E5ECF6",
            "gridcolor": "white",
            "gridwidth": 2,
            "linecolor": "white",
            "showbackground": true,
            "ticks": "",
            "zerolinecolor": "white"
           },
           "zaxis": {
            "backgroundcolor": "#E5ECF6",
            "gridcolor": "white",
            "gridwidth": 2,
            "linecolor": "white",
            "showbackground": true,
            "ticks": "",
            "zerolinecolor": "white"
           }
          },
          "shapedefaults": {
           "line": {
            "color": "#2a3f5f"
           }
          },
          "ternary": {
           "aaxis": {
            "gridcolor": "white",
            "linecolor": "white",
            "ticks": ""
           },
           "baxis": {
            "gridcolor": "white",
            "linecolor": "white",
            "ticks": ""
           },
           "bgcolor": "#E5ECF6",
           "caxis": {
            "gridcolor": "white",
            "linecolor": "white",
            "ticks": ""
           }
          },
          "title": {
           "x": 0.05
          },
          "xaxis": {
           "automargin": true,
           "gridcolor": "white",
           "linecolor": "white",
           "ticks": "",
           "title": {
            "standoff": 15
           },
           "zerolinecolor": "white",
           "zerolinewidth": 2
          },
          "yaxis": {
           "automargin": true,
           "gridcolor": "white",
           "linecolor": "white",
           "ticks": "",
           "title": {
            "standoff": 15
           },
           "zerolinecolor": "white",
           "zerolinewidth": 2
          }
         }
        },
        "title": {
         "text": "Evolution of charged off loans percentage in function of state and disbursment FY",
         "x": 0.1
        },
        "width": 800
       }
      }
     },
     "metadata": {}
    }
   ],
   "source": [
    "\n",
    "import plotly.graph_objs as go\n",
    "from plotly import tools\n",
    "years = [1980,1990,2000,2007,2010,2014]\n",
    "annotations_ = []\n",
    "#fig = tools.make_subplots(rows=1, cols=len(years) ,print_grid=False);\n",
    "data = []\n",
    "text_ = []\n",
    "layout = dict(title = 'Evolution of charged off loans percentage in function of state and disbursment FY',\n",
    "    title_x=0.1,\n",
    "    showlegend = True,\n",
    "    autosize = False,\n",
    "    width = 1000,\n",
    "    height = 900,\n",
    "    hovermode = False,\n",
    "    legend = dict(\n",
    "        x=0.7,\n",
    "        y=-0.1,\n",
    "        bgcolor=\"rgba(255, 255, 255, 0)\",\n",
    "        font = dict( size=1 ), ))\n",
    "for i in range(len(years)-1):\n",
    "    geo_key = 'geo'+str(i+1) if i != 0 else 'geo'\n",
    "    dict_res,df = find_data(years[i],years[i+1]-1)\n",
    "    list_res = []\n",
    "    for code in list(df_states['code']):\n",
    "        list_res.append(dict_res[code])\n",
    "    \n",
    "    text_.append('Nb of loans: {} <br> Overall % charged off {}'.format(df.shape[0],round(df['ChargeOff'].sum()/df.shape[0],3)))\n",
    "    if i == 0:\n",
    "\n",
    "        data.append(\n",
    "        dict(\n",
    "            type = 'choropleth',\n",
    "            locations=df_states['code'], # Spatial coordinates\n",
    "            z = list_res, # Data to be color-coded\n",
    "            locationmode = 'USA-states', # set of locations match entries in `locations`\n",
    "            colorscale = 'Reds',\n",
    "            showscale=True,\n",
    "            colorbar_title = \"Percentage of Charge off loans\",\n",
    "            geo = geo_key,\n",
    "            \n",
    "            ))\n",
    "        \n",
    "    else:\n",
    "        data.append(\n",
    "        dict(\n",
    "            type = 'choropleth',\n",
    "            locations=df_states['code'], # Spatial coordinates\n",
    "            z = list_res, # Data to be color-coded\n",
    "            locationmode = 'USA-states', # set of locations match entries in `locations`\n",
    "            colorscale = 'Reds',\n",
    "            showscale=False,\n",
    "            colorbar_title = \"Percentage of Charge off loans\",\n",
    "            geo = geo_key,\n",
    "            \n",
    "            ))\n",
    "    ''' data =go.Choropleth(\n",
    "        locations=df_states['code'], # Spatial coordinates\n",
    "        z = list_res, # Data to be color-coded\n",
    "        locationmode = 'USA-states', # set of locations match entries in `locations`\n",
    "        colorscale = 'Reds',\n",
    "        colorbar_title = \"Percentage of charged off loans\",\n",
    "    )'''\n",
    "    #fig.append_trace(data, 1, i+1)\n",
    "    data.append(\n",
    "        dict(\n",
    "            type = 'scattergeo',\n",
    "            showlegend = False,\n",
    "            lon = [-100],\n",
    "            lat = [51],\n",
    "            geo = geo_key,\n",
    "            text = ['{}-{}'.format(years[i],years[i+1]-1)],\n",
    "            mode = 'text',\n",
    "        )\n",
    "    )\n",
    "    layout[geo_key] = dict(\n",
    "       \n",
    "        scope = 'usa',\n",
    "        showland = True,\n",
    "        landcolor = 'rgb(229, 229, 229)',\n",
    "        showcountries = False,\n",
    "        domain = dict( x = [], y = [] ),\n",
    "        subunitcolor = \"rgb(255, 255, 255)\",\n",
    "    )\n",
    "\n",
    "\n",
    "z = 0\n",
    "COLS = 2\n",
    "ROWS = 3\n",
    "i_cur = -1\n",
    "for y in reversed(range(ROWS)):\n",
    "    for x in range(COLS):\n",
    "        i_cur += 1\n",
    "        try:\n",
    "            geo_key = 'geo'+str(z+1) if z != 0 else 'geo'\n",
    "            layout[geo_key]['domain']['x'] = [float(x)/float(COLS), float(x+1)/float(COLS)]\n",
    "            layout[geo_key]['domain']['y'] = [float(y)/float(ROWS), float(y+1)/float(ROWS)]\n",
    "            annotations_.append(dict(\n",
    "        x=0.05+0.85*(x),\n",
    "        y=0.03+0.35*y,\n",
    "        xref='paper',\n",
    "        yref='paper',\n",
    "        text=text_[i_cur],\n",
    "        showarrow = False))\n",
    "            z=z+1\n",
    "            if z > 42:\n",
    "                break\n",
    "\n",
    "        except:pass\n",
    "\n",
    "fig = go.Figure(data=data, layout=layout)\n",
    "fig.update_layout(width=800,annotations = annotations_)\n",
    "fig.show()\n"
   ]
  },
  {
   "cell_type": "code",
   "execution_count": 7,
   "metadata": {
    "tags": []
   },
   "outputs": [
    {
     "output_type": "stream",
     "name": "stdout",
     "text": "100000\n"
    },
    {
     "output_type": "error",
     "ename": "KeyError",
     "evalue": "&quot;None of [Index([&#39;DisbursementGross&#39;, &#39;BalanceGross&#39;, &#39;GrAppv&#39;, &#39;SBA_Appv&#39;], dtype=&#39;object&#39;)] are in the [columns]&quot;",
     "traceback": [
      "\u001b[0;31m---------------------------------------------------------------------------\u001b[0m",
      "\u001b[0;31mKeyError\u001b[0m                                  Traceback (most recent call last)",
      "\u001b[0;32m&lt;ipython-input-7-29b26b07e376&gt;\u001b[0m in \u001b[0;36m&lt;module&gt;\u001b[0;34m\u001b[0m\n\u001b[1;32m      1\u001b[0m \u001b[0mdf_used_test\u001b[0m \u001b[0;34m=\u001b[0m \u001b[0mdf_used\u001b[0m\u001b[0;34m.\u001b[0m\u001b[0mcopy\u001b[0m\u001b[0;34m(\u001b[0m\u001b[0mdeep\u001b[0m\u001b[0;34m=\u001b[0m\u001b[0;32mTrue\u001b[0m\u001b[0;34m)\u001b[0m\u001b[0;34m\u001b[0m\u001b[0;34m\u001b[0m\u001b[0m\n\u001b[1;32m      2\u001b[0m \u001b[0mprint\u001b[0m\u001b[0;34m(\u001b[0m\u001b[0mdf_used_test\u001b[0m\u001b[0;34m.\u001b[0m\u001b[0mshape\u001b[0m\u001b[0;34m[\u001b[0m\u001b[0;36m0\u001b[0m\u001b[0;34m]\u001b[0m\u001b[0;34m)\u001b[0m\u001b[0;34m\u001b[0m\u001b[0;34m\u001b[0m\u001b[0m\n\u001b[0;32m----&gt; 3\u001b[0;31m \u001b[0mdf_used_test\u001b[0m\u001b[0;34m[\u001b[0m\u001b[0;34m[\u001b[0m\u001b[0;34m&#39;DisbursementGross&#39;\u001b[0m\u001b[0;34m,\u001b[0m \u001b[0;34m&#39;BalanceGross&#39;\u001b[0m\u001b[0;34m,\u001b[0m \u001b[0;34m&#39;GrAppv&#39;\u001b[0m\u001b[0;34m,\u001b[0m \u001b[0;34m&#39;SBA_Appv&#39;\u001b[0m\u001b[0;34m]\u001b[0m\u001b[0;34m]\u001b[0m \u001b[0;34m=\u001b[0m \u001b[0mdf_used_test\u001b[0m\u001b[0;34m[\u001b[0m\u001b[0;34m[\u001b[0m\u001b[0;34m&#39;DisbursementGross&#39;\u001b[0m\u001b[0;34m,\u001b[0m \u001b[0;34m&#39;BalanceGross&#39;\u001b[0m\u001b[0;34m,\u001b[0m \u001b[0;34m&#39;GrAppv&#39;\u001b[0m\u001b[0;34m,\u001b[0m \u001b[0;34m&#39;SBA_Appv&#39;\u001b[0m\u001b[0;34m]\u001b[0m\u001b[0;34m]\u001b[0m\u001b[0;34m.\u001b[0m\u001b[0mastype\u001b[0m\u001b[0;34m(\u001b[0m\u001b[0;34m&#39;string&#39;\u001b[0m\u001b[0;34m)\u001b[0m\u001b[0;34m\u001b[0m\u001b[0;34m\u001b[0m\u001b[0m\n\u001b[0m\u001b[1;32m      4\u001b[0m \u001b[0mdf_used_test\u001b[0m\u001b[0;34m[\u001b[0m\u001b[0;34m[\u001b[0m\u001b[0;34m&#39;DisbursementGross&#39;\u001b[0m\u001b[0;34m,\u001b[0m \u001b[0;34m&#39;BalanceGross&#39;\u001b[0m\u001b[0;34m,\u001b[0m \u001b[0;34m&#39;GrAppv&#39;\u001b[0m\u001b[0;34m,\u001b[0m \u001b[0;34m&#39;SBA_Appv&#39;\u001b[0m\u001b[0;34m]\u001b[0m\u001b[0;34m]\u001b[0m \u001b[0;34m=\u001b[0m \u001b[0mdf_used_test\u001b[0m\u001b[0;34m[\u001b[0m\u001b[0;34m[\u001b[0m\u001b[0;34m&#39;DisbursementGross&#39;\u001b[0m\u001b[0;34m,\u001b[0m \u001b[0;34m&#39;BalanceGross&#39;\u001b[0m\u001b[0;34m,\u001b[0m \u001b[0;34m&#39;GrAppv&#39;\u001b[0m\u001b[0;34m,\u001b[0m \u001b[0;34m&#39;SBA_Appv&#39;\u001b[0m\u001b[0;34m]\u001b[0m\u001b[0;34m]\u001b[0m\u001b[0;34m.\u001b[0m\u001b[0mapplymap\u001b[0m\u001b[0;34m(\u001b[0m\u001b[0;32mlambda\u001b[0m \u001b[0mx\u001b[0m\u001b[0;34m:\u001b[0m \u001b[0mx\u001b[0m\u001b[0;34m.\u001b[0m\u001b[0mstrip\u001b[0m\u001b[0;34m(\u001b[0m\u001b[0;34m)\u001b[0m\u001b[0;34m.\u001b[0m\u001b[0mreplace\u001b[0m\u001b[0;34m(\u001b[0m\u001b[0;34m&#39;$&#39;\u001b[0m\u001b[0;34m,\u001b[0m \u001b[0;34m&#39;&#39;\u001b[0m\u001b[0;34m)\u001b[0m\u001b[0;34m.\u001b[0m\u001b[0mreplace\u001b[0m\u001b[0;34m(\u001b[0m\u001b[0;34m&#39;,&#39;\u001b[0m\u001b[0;34m,\u001b[0m \u001b[0;34m&#39;&#39;\u001b[0m\u001b[0;34m)\u001b[0m\u001b[0;34m.\u001b[0m\u001b[0mreplace\u001b[0m\u001b[0;34m(\u001b[0m\u001b[0;34m&#39;.&#39;\u001b[0m\u001b[0;34m,\u001b[0m\u001b[0;34m&#39;&#39;\u001b[0m\u001b[0;34m)\u001b[0m\u001b[0;34m)\u001b[0m\u001b[0;34m.\u001b[0m\u001b[0mastype\u001b[0m\u001b[0;34m(\u001b[0m\u001b[0;34m&#39;int64&#39;\u001b[0m\u001b[0;34m)\u001b[0m\u001b[0;34m\u001b[0m\u001b[0;34m\u001b[0m\u001b[0m\n\u001b[1;32m      5\u001b[0m \u001b[0mprint\u001b[0m\u001b[0;34m(\u001b[0m\u001b[0mdf_used_test\u001b[0m\u001b[0;34m.\u001b[0m\u001b[0mshape\u001b[0m\u001b[0;34m[\u001b[0m\u001b[0;36m0\u001b[0m\u001b[0;34m]\u001b[0m\u001b[0;34m)\u001b[0m\u001b[0;34m\u001b[0m\u001b[0;34m\u001b[0m\u001b[0m\n",
      "\u001b[0;32m/Library/Frameworks/Python.framework/Versions/3.8/lib/python3.8/site-packages/pandas/core/frame.py\u001b[0m in \u001b[0;36m__getitem__\u001b[0;34m(self, key)\u001b[0m\n\u001b[1;32m   2903\u001b[0m             \u001b[0;32mif\u001b[0m \u001b[0mis_iterator\u001b[0m\u001b[0;34m(\u001b[0m\u001b[0mkey\u001b[0m\u001b[0;34m)\u001b[0m\u001b[0;34m:\u001b[0m\u001b[0;34m\u001b[0m\u001b[0;34m\u001b[0m\u001b[0m\n\u001b[1;32m   2904\u001b[0m                 \u001b[0mkey\u001b[0m \u001b[0;34m=\u001b[0m \u001b[0mlist\u001b[0m\u001b[0;34m(\u001b[0m\u001b[0mkey\u001b[0m\u001b[0;34m)\u001b[0m\u001b[0;34m\u001b[0m\u001b[0;34m\u001b[0m\u001b[0m\n\u001b[0;32m-&gt; 2905\u001b[0;31m             \u001b[0mindexer\u001b[0m \u001b[0;34m=\u001b[0m \u001b[0mself\u001b[0m\u001b[0;34m.\u001b[0m\u001b[0mloc\u001b[0m\u001b[0;34m.\u001b[0m\u001b[0m_get_listlike_indexer\u001b[0m\u001b[0;34m(\u001b[0m\u001b[0mkey\u001b[0m\u001b[0;34m,\u001b[0m \u001b[0maxis\u001b[0m\u001b[0;34m=\u001b[0m\u001b[0;36m1\u001b[0m\u001b[0;34m,\u001b[0m \u001b[0mraise_missing\u001b[0m\u001b[0;34m=\u001b[0m\u001b[0;32mTrue\u001b[0m\u001b[0;34m)\u001b[0m\u001b[0;34m[\u001b[0m\u001b[0;36m1\u001b[0m\u001b[0;34m]\u001b[0m\u001b[0;34m\u001b[0m\u001b[0;34m\u001b[0m\u001b[0m\n\u001b[0m\u001b[1;32m   2906\u001b[0m \u001b[0;34m\u001b[0m\u001b[0m\n\u001b[1;32m   2907\u001b[0m         \u001b[0;31m# take() does not accept boolean indexers\u001b[0m\u001b[0;34m\u001b[0m\u001b[0;34m\u001b[0m\u001b[0;34m\u001b[0m\u001b[0m\n",
      "\u001b[0;32m/Library/Frameworks/Python.framework/Versions/3.8/lib/python3.8/site-packages/pandas/core/indexing.py\u001b[0m in \u001b[0;36m_get_listlike_indexer\u001b[0;34m(self, key, axis, raise_missing)\u001b[0m\n\u001b[1;32m   1252\u001b[0m             \u001b[0mkeyarr\u001b[0m\u001b[0;34m,\u001b[0m \u001b[0mindexer\u001b[0m\u001b[0;34m,\u001b[0m \u001b[0mnew_indexer\u001b[0m \u001b[0;34m=\u001b[0m \u001b[0max\u001b[0m\u001b[0;34m.\u001b[0m\u001b[0m_reindex_non_unique\u001b[0m\u001b[0;34m(\u001b[0m\u001b[0mkeyarr\u001b[0m\u001b[0;34m)\u001b[0m\u001b[0;34m\u001b[0m\u001b[0;34m\u001b[0m\u001b[0m\n\u001b[1;32m   1253\u001b[0m \u001b[0;34m\u001b[0m\u001b[0m\n\u001b[0;32m-&gt; 1254\u001b[0;31m         \u001b[0mself\u001b[0m\u001b[0;34m.\u001b[0m\u001b[0m_validate_read_indexer\u001b[0m\u001b[0;34m(\u001b[0m\u001b[0mkeyarr\u001b[0m\u001b[0;34m,\u001b[0m \u001b[0mindexer\u001b[0m\u001b[0;34m,\u001b[0m \u001b[0maxis\u001b[0m\u001b[0;34m,\u001b[0m \u001b[0mraise_missing\u001b[0m\u001b[0;34m=\u001b[0m\u001b[0mraise_missing\u001b[0m\u001b[0;34m)\u001b[0m\u001b[0;34m\u001b[0m\u001b[0;34m\u001b[0m\u001b[0m\n\u001b[0m\u001b[1;32m   1255\u001b[0m         \u001b[0;32mreturn\u001b[0m \u001b[0mkeyarr\u001b[0m\u001b[0;34m,\u001b[0m \u001b[0mindexer\u001b[0m\u001b[0;34m\u001b[0m\u001b[0;34m\u001b[0m\u001b[0m\n\u001b[1;32m   1256\u001b[0m \u001b[0;34m\u001b[0m\u001b[0m\n",
      "\u001b[0;32m/Library/Frameworks/Python.framework/Versions/3.8/lib/python3.8/site-packages/pandas/core/indexing.py\u001b[0m in \u001b[0;36m_validate_read_indexer\u001b[0;34m(self, key, indexer, axis, raise_missing)\u001b[0m\n\u001b[1;32m   1296\u001b[0m             \u001b[0;32mif\u001b[0m \u001b[0mmissing\u001b[0m \u001b[0;34m==\u001b[0m \u001b[0mlen\u001b[0m\u001b[0;34m(\u001b[0m\u001b[0mindexer\u001b[0m\u001b[0;34m)\u001b[0m\u001b[0;34m:\u001b[0m\u001b[0;34m\u001b[0m\u001b[0;34m\u001b[0m\u001b[0m\n\u001b[1;32m   1297\u001b[0m                 \u001b[0maxis_name\u001b[0m \u001b[0;34m=\u001b[0m \u001b[0mself\u001b[0m\u001b[0;34m.\u001b[0m\u001b[0mobj\u001b[0m\u001b[0;34m.\u001b[0m\u001b[0m_get_axis_name\u001b[0m\u001b[0;34m(\u001b[0m\u001b[0maxis\u001b[0m\u001b[0;34m)\u001b[0m\u001b[0;34m\u001b[0m\u001b[0;34m\u001b[0m\u001b[0m\n\u001b[0;32m-&gt; 1298\u001b[0;31m                 \u001b[0;32mraise\u001b[0m \u001b[0mKeyError\u001b[0m\u001b[0;34m(\u001b[0m\u001b[0;34mf&quot;None of [{key}] are in the [{axis_name}]&quot;\u001b[0m\u001b[0;34m)\u001b[0m\u001b[0;34m\u001b[0m\u001b[0;34m\u001b[0m\u001b[0m\n\u001b[0m\u001b[1;32m   1299\u001b[0m \u001b[0;34m\u001b[0m\u001b[0m\n\u001b[1;32m   1300\u001b[0m             \u001b[0;31m# We (temporarily) allow for some missing keys with .loc, except in\u001b[0m\u001b[0;34m\u001b[0m\u001b[0;34m\u001b[0m\u001b[0;34m\u001b[0m\u001b[0m\n",
      "\u001b[0;31mKeyError\u001b[0m: &quot;None of [Index([&#39;DisbursementGross&#39;, &#39;BalanceGross&#39;, &#39;GrAppv&#39;, &#39;SBA_Appv&#39;], dtype=&#39;object&#39;)] are in the [columns]&quot;"
     ]
    }
   ],
   "source": [
    "df_used_test = df_used.copy(deep=True)\n",
    "print(df_used_test.shape[0])\n",
    "df_used_test[['DisbursementGross', 'BalanceGross', 'GrAppv', 'SBA_Appv']] = df_used_test[['DisbursementGross', 'BalanceGross', 'GrAppv', 'SBA_Appv']].astype('string')\n",
    "df_used_test[['DisbursementGross', 'BalanceGross', 'GrAppv', 'SBA_Appv']] = df_used_test[['DisbursementGross', 'BalanceGross', 'GrAppv', 'SBA_Appv']].applymap(lambda x: x.strip().replace('$', '').replace(',', '').replace('.','')).astype('int64')\n",
    "print(df_used_test.shape[0])\n",
    "df_used_test['ApprovalFY'] = df_used_test['ApprovalFY'].astype('string')\n",
    "df_used_test['ApprovalFY'] = df_used_test['ApprovalFY'].apply(lambda x: x.replace('A', '')).astype('int64')\n",
    "\n",
    "df_used_test['Industry'] = df_used_test['NAICS'].astype('str').apply(lambda x: x[:2])\n",
    "\n",
    "\"\"\"NAICS code: https://www.census.gov/cgi-bin/sssd/naics/naicsrch?chart=2017\"\"\"\n",
    "\n",
    "df_used_test['Industry'] = df_used_test['Industry'].map({\n",
    "    '11': 'Agriculture, Forestry, Fishing and Hunting',\n",
    "    '21': 'Mining, Quarrying, and Oil and Gas Extraction',\n",
    "    '22': 'Utilities',\n",
    "    '23': 'Construction',\n",
    "    '31': 'Manufacturing',\n",
    "    '32': 'Manufacturing',\n",
    "    '33': 'Manufacturing',\n",
    "    '42': 'Wholesale trade',\n",
    "    '44': 'Retail trade',\n",
    "    '45': 'Retail trade',\n",
    "    '48': 'Transportation and Warehousing',\n",
    "    '49': 'Transportation and Warehousing',\n",
    "    '51': 'Information',\n",
    "    '52': 'Finance and Insurance',\n",
    "    '53': 'Real Estate and Rental and Leasing',\n",
    "    '54': 'Professional, Scientific, and Technical Services',\n",
    "    '55': 'Management of Companies and Enterprises',\n",
    "    '56': 'Administrative and Support and Waste Management and Remediation Services',\n",
    "    '61': 'Educational Services',\n",
    "    '62': 'Health Care and Social Assistance',\n",
    "    '71': 'Arts, Entertainment, and Recreation',\n",
    "    '72': 'Accommodation and Food Services',\n",
    "    '81': 'Other Services (except Public Administration)',\n",
    "    '92': 'Public Administration'\n",
    "})\n",
    "print( df_used_test.shape[0])\n",
    "df_used_test['NewExist'] = df_used_test['NewExist'].astype('int64')\n",
    "df_used_test = df_used_test[df_used_test['NewExist'].isin([1,2])]\n",
    "print('NewExist',df_used_test.shape[0])\n",
    "\n",
    "df_used_test['IsFranchised'] = df_used_test.FranchiseCode\n",
    "df_used_test[df_used_test['IsFranchised'] <= 1].IsFranchised = 0 \n",
    "df_used_test[df_used_test['IsFranchised'] > 1].IsFranchised = 1\n",
    "print('IsFranchised',df_used_test.shape[0])\n",
    "\n",
    "df_used_test = df_used_test[df_used_test['UrbanRural'].isin([0,1,2])]\n",
    "print(df_used_test.shape[0])\n",
    "df_used_test = df_used_test[df_used_test['LowDoc'].isin(['Y','N'])]\n",
    "print(df_used_test.shape[0])\n",
    "#df_used = df_used[df_used['RevLineCr'].isin(['Y','N','0'])]\n",
    "#print(df_used.shape[0])\n",
    "\n",
    "df_used_test['LowDoc'] = df_used_test['LowDoc'].map({'Y': '1','N': '0'}).astype('int64')\n",
    "#df_used['RevLineCr'] = df_used['RevLineCr'].map({'Y': '1','N': '0','0':2}).astype('int64')\n",
    "df_used_test['ApprovalFY'] = df_used_test['ApprovalFY'].astype('string')\n",
    "df_used_test['ApprovalFY'] = df_used_test['ApprovalFY'].apply(lambda x: x.replace('A', '')).astype('int64')\n",
    "df_used_test[['ApprovalDate', 'DisbursementDate']] = df_used_test[['ApprovalDate', 'DisbursementDate']].apply(pd.to_datetime)\n",
    "df_used_test['DisFY'] = df_used_test['DisbursementDate'].map(lambda x: x.year).apply('int64')\n",
    "df_used_test['ratioApproved'] = df_used_test['SBA_Appv'] / df_used_test['GrAppv']\n",
    "df_used_test['ratioBankAmount'] = df_used_test['GrAppv'] / df_used_test['DisbursementGross']\n",
    "df_used_test.loc[df_used_test['GrAppv'] > df_used_test['DisbursementGross'],'BalanceComp'] = 1\n",
    "df_used_test.loc[df_used_test['GrAppv'] < df_used_test['DisbursementGross'],'BalanceComp'] = 2\n",
    "df_used_test.loc[df_used_test['GrAppv'] == df_used_test['DisbursementGross'],'BalanceComp'] = 0\n",
    "df_used_test.loc[df_used_test['BankState'] == df_used_test['State'],'FlagState'] = 1\n",
    "df_used_test.loc[df_used_test['BankState'] != df_used_test['State'],'FlagState'] = 0\n",
    "df_used_test['CreateJobPer'] = df_used_test['CreateJob'] / df_used_test['NoEmp']\n",
    "df_used_test['RetainedJobPer'] = df_used_test['RetainedJob'] / df_used_test['NoEmp']\n",
    "df_used_test['BalanceComp'].astype('int64')\n",
    "print(df_used_test.shape[0])\n"
   ]
  },
  {
   "cell_type": "code",
   "execution_count": 211,
   "metadata": {},
   "outputs": [],
   "source": [
    "\n",
    "df_used_test['Industry'] = df_used['NAICS'].astype('str').apply(lambda x: x[:2])\n",
    "\n",
    "\"\"\"NAICS code: https://www.census.gov/cgi-bin/sssd/naics/naicsrch?chart=2017\"\"\"\n",
    "\n",
    "df_used_test['Industry'] = df_used_test['Industry'].map({\n",
    "    '11': 'Agriculture, Forestry, Fishing and Hunting',\n",
    "    '21': 'Mining, Quarrying, and Oil and Gas Extraction',\n",
    "    '22': 'Utilities',\n",
    "    '23': 'Construction',\n",
    "    '31': 'Manufacturing',\n",
    "    '32': 'Manufacturing',\n",
    "    '33': 'Manufacturing',\n",
    "    '42': 'Wholesale trade',\n",
    "    '44': 'Retail trade',\n",
    "    '45': 'Retail trade',\n",
    "    '48': 'Transportation and Warehousing',\n",
    "    '49': 'Transportation and Warehousing',\n",
    "    '51': 'Information',\n",
    "    '52': 'Finance and Insurance',\n",
    "    '53': 'Real Estate and Rental and Leasing',\n",
    "    '54': 'Professional, Scientific, and Technical Services',\n",
    "    '55': 'Management of Companies and Enterprises',\n",
    "    '56': 'Administrative and Support and Waste Management and Remediation Services',\n",
    "    '61': 'Educational Services',\n",
    "    '62': 'Health Care and Social Assistance',\n",
    "    '71': 'Arts, Entertainment, and Recreation',\n",
    "    '72': 'Accommodation and Food Services',\n",
    "    '81': 'Other Services (except Public Administration)',\n",
    "    '92': 'Public Administration'\n",
    "})\n",
    "df_used_test = df_used_test.dropna(subset=['Industry'])"
   ]
  },
  {
   "cell_type": "code",
   "execution_count": 244,
   "metadata": {},
   "outputs": [
    {
     "output_type": "execute_result",
     "data": {
      "text/plain": "                                 Name              City State    Zip  \\\nId                                                                     \n178    RR&amp;R Dynamic Business Solution  SOUTH OZONE PARK    NY  11420   \n584         COLUMBIA BUSINESS INSIGHT         VANCOUVER    WA  98683   \n3739              SOLLERS PARTNERSHIP            MORRIS    MN  56267   \n7716                      WS Live LLC             PLANO    TX  75093   \n10561                BEAR TRACK L L C      WILLIAMSBURG    MI  49690   \n17614             CLAY PROPERTIES LLC       GREAT FALLS    MT  59405   \n19276  SHERI L. WILKERSON DBA NASH NU              NASH    TX  75569   \n19996              AURORA LEASING LLC            TUCSON    AZ  85706   \n22228  Restaurant Entertainment Ventu      INDIANAPOLIS    IN  46202   \n32731            BURNS SUPPLY COMPANY            DALLAS    TX  75244   \n32823  COMPAS ARCHITECTURAL STONE INT       LOS ANGELES    CA  90069   \n32944                     ELAN CENTRE         CLAREMONT    CA  91711   \n39600       GABRIELSE ENTERPRISES LLC         SHEBOYGAN    WI  53081   \n40526  NIEMEYER BROTHERS PLUMBING, IN           PHOENIX    AZ  85027   \n40671            255 INMAN RENTAL LLC            AVENEL    NJ   7001   \n41647          OCCASIONS BY GALDO INC      PHILADELPHIA    PA  19145   \n45918  Buck&#39;s 4X4 Offroad Center, Inc       GARDEN CITY    ID  83714   \n\n                                 Bank BankState   NAICS ApprovalDate  \\\nId                                                                     \n178            HSBC BK USA NATL ASSOC        VA  551112   2005-07-27   \n584    U.S. BANK NATIONAL ASSOCIATION        OH  551114   2005-11-07   \n3739                 BANK OF THE WEST        MN  551112   1997-06-23   \n7716   JPMORGAN CHASE BANK NATL ASSOC        IL  551112   2006-09-20   \n10561           FIRSTMERIT BANK, N.A.        MI  551112   1998-08-17   \n17614     MOUNTAIN W. BANK NATL ASSOC        MT  551112   2000-12-26   \n19276          CAPITAL ONE NATL ASSOC        VA  551112   2004-11-23   \n19996                     UMPQUA BANK        OR  551112   1999-07-09   \n22228  JPMORGAN CHASE BANK NATL ASSOC        IL  551112   2005-02-23   \n32731   GE CAP. SMALL BUS. FINAN CORP        TX  551112   1998-07-21   \n32823         CALIFORNIA BANK &amp; TRUST        CA  551112   2001-05-04   \n32944  U.S. BANK NATIONAL ASSOCIATION        CA  551112   1996-10-15   \n39600          COMMUNITY BANK &amp; TRUST        WI  551112   2001-04-30   \n40526     WELLS FARGO BANK NATL ASSOC        SD  551112   1996-04-30   \n40671                      UNITY BANK        NJ  551112   2001-08-17   \n41647           READYCAP LENDING, LLC        CA  551112   1998-02-19   \n45918       ZIONS FIRST NATIONAL BANK        UT  551112   2009-08-31   \n\n      ApprovalFY  Term  ...  RevLineCr  LowDoc  DisbursementDate  \\\nId                      ...                                        \n178         2005    59  ...          N       N        2005-08-31   \n584         2006    84  ...          Y       N        2006-05-31   \n3739        1997   120  ...          N       Y        1997-11-30   \n7716        2006   120  ...          N       N        2006-12-31   \n10561       1998   249  ...          0       N        1998-09-30   \n17614       2001   240  ...          0       N        2002-01-31   \n19276       2005    29  ...          N       N        2004-12-31   \n19996       1999   180  ...          0       N        1999-07-31   \n22228       2005    55  ...          N       N        2005-02-28   \n32731       1998   240  ...          0       N        1998-08-31   \n32823       2001   300  ...          0       N        2001-07-31   \n32944       1997   300  ...          0       N        1996-10-31   \n39600       2001   120  ...          0       N        2001-05-31   \n40526       1996   306  ...          0       N        1996-09-30   \n40671       2001   288  ...          0       N        2001-09-30   \n41647       1998   252  ...          0       N        1998-08-31   \n45918       2009    53  ...          N       N        2009-09-01   \n\n       DisbursementGross  BalanceGross          GrAppv        SBA_Appv  \\\nId                                                                       \n178         $100,000.00         $0.00     $100,000.00      $50,000.00    \n584         $213,792.00         $0.00      $50,000.00      $25,000.00    \n3739        $100,000.00         $0.00     $100,000.00      $80,000.00    \n7716      $2,000,000.00         $0.00   $2,000,000.00   $1,500,000.00    \n10561       $850,000.00         $0.00     $850,000.00     $637,500.00    \n17614       $628,000.00         $0.00     $628,000.00     $471,000.00    \n19276        $35,000.00         $0.00      $35,000.00      $17,500.00    \n19996       $252,000.00         $0.00     $252,000.00     $189,000.00    \n22228       $180,000.00         $0.00     $180,000.00      $90,000.00    \n32731       $200,000.00         $0.00     $200,000.00     $150,000.00    \n32823       $720,000.00         $0.00     $720,000.00     $540,000.00    \n32944       $133,000.00         $0.00     $133,000.00      $99,750.00    \n39600        $34,000.00         $0.00      $34,000.00      $17,000.00    \n40526       $414,200.00         $0.00     $496,000.00     $372,000.00    \n40671       $350,000.00         $0.00     $350,000.00     $262,500.00    \n41647     $1,356,919.00         $0.00   $1,486,000.00     $749,984.00    \n45918        $35,000.00         $0.00      $35,000.00      $35,000.00    \n\n      ChargeOff DisFY                                 Industry  \nId                                                              \n178           1  2005  Management of Companies and Enterprises  \n584           0  2006  Management of Companies and Enterprises  \n3739          0  1997  Management of Companies and Enterprises  \n7716          0  2006  Management of Companies and Enterprises  \n10561         0  1998  Management of Companies and Enterprises  \n17614         0  2002  Management of Companies and Enterprises  \n19276         1  2004  Management of Companies and Enterprises  \n19996         0  1999  Management of Companies and Enterprises  \n22228         1  2005  Management of Companies and Enterprises  \n32731         0  1998  Management of Companies and Enterprises  \n32823         0  2001  Management of Companies and Enterprises  \n32944         0  1996  Management of Companies and Enterprises  \n39600         0  2001  Management of Companies and Enterprises  \n40526         0  1996  Management of Companies and Enterprises  \n40671         0  2001  Management of Companies and Enterprises  \n41647         0  1998  Management of Companies and Enterprises  \n45918         1  2009  Management of Companies and Enterprises  \n\n[17 rows x 26 columns]",
      "text/html": "<div>\n<style scoped>\n    .dataframe tbody tr th:only-of-type {\n        vertical-align: middle;\n    }\n\n    .dataframe tbody tr th {\n        vertical-align: top;\n    }\n\n    .dataframe thead th {\n        text-align: right;\n    }\n</style>\n<table border=\"1\" class=\"dataframe\">\n  <thead>\n    <tr style=\"text-align: right;\">\n      <th></th>\n      <th>Name</th>\n      <th>City</th>\n      <th>State</th>\n      <th>Zip</th>\n      <th>Bank</th>\n      <th>BankState</th>\n      <th>NAICS</th>\n      <th>ApprovalDate</th>\n      <th>ApprovalFY</th>\n      <th>Term</th>\n      <th>...</th>\n      <th>RevLineCr</th>\n      <th>LowDoc</th>\n      <th>DisbursementDate</th>\n      <th>DisbursementGross</th>\n      <th>BalanceGross</th>\n      <th>GrAppv</th>\n      <th>SBA_Appv</th>\n      <th>ChargeOff</th>\n      <th>DisFY</th>\n      <th>Industry</th>\n    </tr>\n    <tr>\n      <th>Id</th>\n      <th></th>\n      <th></th>\n      <th></th>\n      <th></th>\n      <th></th>\n      <th></th>\n      <th></th>\n      <th></th>\n      <th></th>\n      <th></th>\n      <th></th>\n      <th></th>\n      <th></th>\n      <th></th>\n      <th></th>\n      <th></th>\n      <th></th>\n      <th></th>\n      <th></th>\n      <th></th>\n      <th></th>\n    </tr>\n  </thead>\n  <tbody>\n    <tr>\n      <th>178</th>\n      <td>RR&amp;R Dynamic Business Solution</td>\n      <td>SOUTH OZONE PARK</td>\n      <td>NY</td>\n      <td>11420</td>\n      <td>HSBC BK USA NATL ASSOC</td>\n      <td>VA</td>\n      <td>551112</td>\n      <td>2005-07-27</td>\n      <td>2005</td>\n      <td>59</td>\n      <td>...</td>\n      <td>N</td>\n      <td>N</td>\n      <td>2005-08-31</td>\n      <td>$100,000.00</td>\n      <td>$0.00</td>\n      <td>$100,000.00</td>\n      <td>$50,000.00</td>\n      <td>1</td>\n      <td>2005</td>\n      <td>Management of Companies and Enterprises</td>\n    </tr>\n    <tr>\n      <th>584</th>\n      <td>COLUMBIA BUSINESS INSIGHT</td>\n      <td>VANCOUVER</td>\n      <td>WA</td>\n      <td>98683</td>\n      <td>U.S. BANK NATIONAL ASSOCIATION</td>\n      <td>OH</td>\n      <td>551114</td>\n      <td>2005-11-07</td>\n      <td>2006</td>\n      <td>84</td>\n      <td>...</td>\n      <td>Y</td>\n      <td>N</td>\n      <td>2006-05-31</td>\n      <td>$213,792.00</td>\n      <td>$0.00</td>\n      <td>$50,000.00</td>\n      <td>$25,000.00</td>\n      <td>0</td>\n      <td>2006</td>\n      <td>Management of Companies and Enterprises</td>\n    </tr>\n    <tr>\n      <th>3739</th>\n      <td>SOLLERS PARTNERSHIP</td>\n      <td>MORRIS</td>\n      <td>MN</td>\n      <td>56267</td>\n      <td>BANK OF THE WEST</td>\n      <td>MN</td>\n      <td>551112</td>\n      <td>1997-06-23</td>\n      <td>1997</td>\n      <td>120</td>\n      <td>...</td>\n      <td>N</td>\n      <td>Y</td>\n      <td>1997-11-30</td>\n      <td>$100,000.00</td>\n      <td>$0.00</td>\n      <td>$100,000.00</td>\n      <td>$80,000.00</td>\n      <td>0</td>\n      <td>1997</td>\n      <td>Management of Companies and Enterprises</td>\n    </tr>\n    <tr>\n      <th>7716</th>\n      <td>WS Live LLC</td>\n      <td>PLANO</td>\n      <td>TX</td>\n      <td>75093</td>\n      <td>JPMORGAN CHASE BANK NATL ASSOC</td>\n      <td>IL</td>\n      <td>551112</td>\n      <td>2006-09-20</td>\n      <td>2006</td>\n      <td>120</td>\n      <td>...</td>\n      <td>N</td>\n      <td>N</td>\n      <td>2006-12-31</td>\n      <td>$2,000,000.00</td>\n      <td>$0.00</td>\n      <td>$2,000,000.00</td>\n      <td>$1,500,000.00</td>\n      <td>0</td>\n      <td>2006</td>\n      <td>Management of Companies and Enterprises</td>\n    </tr>\n    <tr>\n      <th>10561</th>\n      <td>BEAR TRACK L L C</td>\n      <td>WILLIAMSBURG</td>\n      <td>MI</td>\n      <td>49690</td>\n      <td>FIRSTMERIT BANK, N.A.</td>\n      <td>MI</td>\n      <td>551112</td>\n      <td>1998-08-17</td>\n      <td>1998</td>\n      <td>249</td>\n      <td>...</td>\n      <td>0</td>\n      <td>N</td>\n      <td>1998-09-30</td>\n      <td>$850,000.00</td>\n      <td>$0.00</td>\n      <td>$850,000.00</td>\n      <td>$637,500.00</td>\n      <td>0</td>\n      <td>1998</td>\n      <td>Management of Companies and Enterprises</td>\n    </tr>\n    <tr>\n      <th>17614</th>\n      <td>CLAY PROPERTIES LLC</td>\n      <td>GREAT FALLS</td>\n      <td>MT</td>\n      <td>59405</td>\n      <td>MOUNTAIN W. BANK NATL ASSOC</td>\n      <td>MT</td>\n      <td>551112</td>\n      <td>2000-12-26</td>\n      <td>2001</td>\n      <td>240</td>\n      <td>...</td>\n      <td>0</td>\n      <td>N</td>\n      <td>2002-01-31</td>\n      <td>$628,000.00</td>\n      <td>$0.00</td>\n      <td>$628,000.00</td>\n      <td>$471,000.00</td>\n      <td>0</td>\n      <td>2002</td>\n      <td>Management of Companies and Enterprises</td>\n    </tr>\n    <tr>\n      <th>19276</th>\n      <td>SHERI L. WILKERSON DBA NASH NU</td>\n      <td>NASH</td>\n      <td>TX</td>\n      <td>75569</td>\n      <td>CAPITAL ONE NATL ASSOC</td>\n      <td>VA</td>\n      <td>551112</td>\n      <td>2004-11-23</td>\n      <td>2005</td>\n      <td>29</td>\n      <td>...</td>\n      <td>N</td>\n      <td>N</td>\n      <td>2004-12-31</td>\n      <td>$35,000.00</td>\n      <td>$0.00</td>\n      <td>$35,000.00</td>\n      <td>$17,500.00</td>\n      <td>1</td>\n      <td>2004</td>\n      <td>Management of Companies and Enterprises</td>\n    </tr>\n    <tr>\n      <th>19996</th>\n      <td>AURORA LEASING LLC</td>\n      <td>TUCSON</td>\n      <td>AZ</td>\n      <td>85706</td>\n      <td>UMPQUA BANK</td>\n      <td>OR</td>\n      <td>551112</td>\n      <td>1999-07-09</td>\n      <td>1999</td>\n      <td>180</td>\n      <td>...</td>\n      <td>0</td>\n      <td>N</td>\n      <td>1999-07-31</td>\n      <td>$252,000.00</td>\n      <td>$0.00</td>\n      <td>$252,000.00</td>\n      <td>$189,000.00</td>\n      <td>0</td>\n      <td>1999</td>\n      <td>Management of Companies and Enterprises</td>\n    </tr>\n    <tr>\n      <th>22228</th>\n      <td>Restaurant Entertainment Ventu</td>\n      <td>INDIANAPOLIS</td>\n      <td>IN</td>\n      <td>46202</td>\n      <td>JPMORGAN CHASE BANK NATL ASSOC</td>\n      <td>IL</td>\n      <td>551112</td>\n      <td>2005-02-23</td>\n      <td>2005</td>\n      <td>55</td>\n      <td>...</td>\n      <td>N</td>\n      <td>N</td>\n      <td>2005-02-28</td>\n      <td>$180,000.00</td>\n      <td>$0.00</td>\n      <td>$180,000.00</td>\n      <td>$90,000.00</td>\n      <td>1</td>\n      <td>2005</td>\n      <td>Management of Companies and Enterprises</td>\n    </tr>\n    <tr>\n      <th>32731</th>\n      <td>BURNS SUPPLY COMPANY</td>\n      <td>DALLAS</td>\n      <td>TX</td>\n      <td>75244</td>\n      <td>GE CAP. SMALL BUS. FINAN CORP</td>\n      <td>TX</td>\n      <td>551112</td>\n      <td>1998-07-21</td>\n      <td>1998</td>\n      <td>240</td>\n      <td>...</td>\n      <td>0</td>\n      <td>N</td>\n      <td>1998-08-31</td>\n      <td>$200,000.00</td>\n      <td>$0.00</td>\n      <td>$200,000.00</td>\n      <td>$150,000.00</td>\n      <td>0</td>\n      <td>1998</td>\n      <td>Management of Companies and Enterprises</td>\n    </tr>\n    <tr>\n      <th>32823</th>\n      <td>COMPAS ARCHITECTURAL STONE INT</td>\n      <td>LOS ANGELES</td>\n      <td>CA</td>\n      <td>90069</td>\n      <td>CALIFORNIA BANK &amp; TRUST</td>\n      <td>CA</td>\n      <td>551112</td>\n      <td>2001-05-04</td>\n      <td>2001</td>\n      <td>300</td>\n      <td>...</td>\n      <td>0</td>\n      <td>N</td>\n      <td>2001-07-31</td>\n      <td>$720,000.00</td>\n      <td>$0.00</td>\n      <td>$720,000.00</td>\n      <td>$540,000.00</td>\n      <td>0</td>\n      <td>2001</td>\n      <td>Management of Companies and Enterprises</td>\n    </tr>\n    <tr>\n      <th>32944</th>\n      <td>ELAN CENTRE</td>\n      <td>CLAREMONT</td>\n      <td>CA</td>\n      <td>91711</td>\n      <td>U.S. BANK NATIONAL ASSOCIATION</td>\n      <td>CA</td>\n      <td>551112</td>\n      <td>1996-10-15</td>\n      <td>1997</td>\n      <td>300</td>\n      <td>...</td>\n      <td>0</td>\n      <td>N</td>\n      <td>1996-10-31</td>\n      <td>$133,000.00</td>\n      <td>$0.00</td>\n      <td>$133,000.00</td>\n      <td>$99,750.00</td>\n      <td>0</td>\n      <td>1996</td>\n      <td>Management of Companies and Enterprises</td>\n    </tr>\n    <tr>\n      <th>39600</th>\n      <td>GABRIELSE ENTERPRISES LLC</td>\n      <td>SHEBOYGAN</td>\n      <td>WI</td>\n      <td>53081</td>\n      <td>COMMUNITY BANK &amp; TRUST</td>\n      <td>WI</td>\n      <td>551112</td>\n      <td>2001-04-30</td>\n      <td>2001</td>\n      <td>120</td>\n      <td>...</td>\n      <td>0</td>\n      <td>N</td>\n      <td>2001-05-31</td>\n      <td>$34,000.00</td>\n      <td>$0.00</td>\n      <td>$34,000.00</td>\n      <td>$17,000.00</td>\n      <td>0</td>\n      <td>2001</td>\n      <td>Management of Companies and Enterprises</td>\n    </tr>\n    <tr>\n      <th>40526</th>\n      <td>NIEMEYER BROTHERS PLUMBING, IN</td>\n      <td>PHOENIX</td>\n      <td>AZ</td>\n      <td>85027</td>\n      <td>WELLS FARGO BANK NATL ASSOC</td>\n      <td>SD</td>\n      <td>551112</td>\n      <td>1996-04-30</td>\n      <td>1996</td>\n      <td>306</td>\n      <td>...</td>\n      <td>0</td>\n      <td>N</td>\n      <td>1996-09-30</td>\n      <td>$414,200.00</td>\n      <td>$0.00</td>\n      <td>$496,000.00</td>\n      <td>$372,000.00</td>\n      <td>0</td>\n      <td>1996</td>\n      <td>Management of Companies and Enterprises</td>\n    </tr>\n    <tr>\n      <th>40671</th>\n      <td>255 INMAN RENTAL LLC</td>\n      <td>AVENEL</td>\n      <td>NJ</td>\n      <td>7001</td>\n      <td>UNITY BANK</td>\n      <td>NJ</td>\n      <td>551112</td>\n      <td>2001-08-17</td>\n      <td>2001</td>\n      <td>288</td>\n      <td>...</td>\n      <td>0</td>\n      <td>N</td>\n      <td>2001-09-30</td>\n      <td>$350,000.00</td>\n      <td>$0.00</td>\n      <td>$350,000.00</td>\n      <td>$262,500.00</td>\n      <td>0</td>\n      <td>2001</td>\n      <td>Management of Companies and Enterprises</td>\n    </tr>\n    <tr>\n      <th>41647</th>\n      <td>OCCASIONS BY GALDO INC</td>\n      <td>PHILADELPHIA</td>\n      <td>PA</td>\n      <td>19145</td>\n      <td>READYCAP LENDING, LLC</td>\n      <td>CA</td>\n      <td>551112</td>\n      <td>1998-02-19</td>\n      <td>1998</td>\n      <td>252</td>\n      <td>...</td>\n      <td>0</td>\n      <td>N</td>\n      <td>1998-08-31</td>\n      <td>$1,356,919.00</td>\n      <td>$0.00</td>\n      <td>$1,486,000.00</td>\n      <td>$749,984.00</td>\n      <td>0</td>\n      <td>1998</td>\n      <td>Management of Companies and Enterprises</td>\n    </tr>\n    <tr>\n      <th>45918</th>\n      <td>Buck's 4X4 Offroad Center, Inc</td>\n      <td>GARDEN CITY</td>\n      <td>ID</td>\n      <td>83714</td>\n      <td>ZIONS FIRST NATIONAL BANK</td>\n      <td>UT</td>\n      <td>551112</td>\n      <td>2009-08-31</td>\n      <td>2009</td>\n      <td>53</td>\n      <td>...</td>\n      <td>N</td>\n      <td>N</td>\n      <td>2009-09-01</td>\n      <td>$35,000.00</td>\n      <td>$0.00</td>\n      <td>$35,000.00</td>\n      <td>$35,000.00</td>\n      <td>1</td>\n      <td>2009</td>\n      <td>Management of Companies and Enterprises</td>\n    </tr>\n  </tbody>\n</table>\n<p>17 rows × 26 columns</p>\n</div>"
     },
     "metadata": {},
     "execution_count": 244
    }
   ],
   "source": [
    "df_used_test[df_used_test['Industry'].isin(['Management of Companies and Enterprises'])]"
   ]
  },
  {
   "cell_type": "code",
   "execution_count": 369,
   "metadata": {
    "tags": []
   },
   "outputs": [
    {
     "output_type": "display_data",
     "data": {
      "application/vnd.plotly.v1+json": {
       "config": {
        "plotlyServerURL": "https://plot.ly"
       },
       "data": [
        {
         "marker": {
          "color": "rgb(55, 83, 109)"
         },
         "name": "% charged off loans",
         "text": [
          "1686",
          "2385",
          "2393",
          "917",
          "4425",
          "1487",
          "887",
          "2253",
          "448",
          "2075",
          "655",
          "1204",
          "459",
          "438",
          "26",
          "133",
          "271",
          "4",
          "8",
          "19"
         ],
         "textposition": "outside",
         "texttemplate": "%{text:.2s}",
         "type": "bar",
         "x": [
          "Manufacturing",
          "Construction",
          "Other Services (except Public Administration)",
          "Health Care and Social Assistance",
          "Retail trade",
          "Wholesale trade",
          "Transportation and Warehousing",
          "Accommodation and Food Services",
          "Information",
          "Professional, Scientific, and Technical Services",
          "Real Estate and Rental and Leasing",
          "Administrative and Support and Waste Management and Remediation Services",
          "Arts, Entertainment, and Recreation",
          "Finance and Insurance",
          "Mining, Quarrying, and Oil and Gas Extraction",
          "Agriculture, Forestry, Fishing and Hunting",
          "Educational Services",
          "Management of Companies and Enterprises",
          "Public Administration",
          "Utilities"
         ],
         "y": [
          1686,
          2385,
          2393,
          917,
          4425,
          1487,
          887,
          2253,
          448,
          2075,
          655,
          1204,
          459,
          438,
          26,
          133,
          271,
          4,
          8,
          19
         ]
        },
        {
         "marker": {
          "color": "indianred"
         },
         "name": "% not charged off loans",
         "text": [
          "1975",
          "1710",
          "2002",
          "1669",
          "3364",
          "1330",
          "561",
          "1803",
          "294",
          "1884",
          "325",
          "803",
          "377",
          "224",
          "56",
          "314",
          "162",
          "13",
          "4",
          "21"
         ],
         "textposition": "outside",
         "texttemplate": "%{text:.2s}",
         "type": "bar",
         "x": [
          "Manufacturing",
          "Construction",
          "Other Services (except Public Administration)",
          "Health Care and Social Assistance",
          "Retail trade",
          "Wholesale trade",
          "Transportation and Warehousing",
          "Accommodation and Food Services",
          "Information",
          "Professional, Scientific, and Technical Services",
          "Real Estate and Rental and Leasing",
          "Administrative and Support and Waste Management and Remediation Services",
          "Arts, Entertainment, and Recreation",
          "Finance and Insurance",
          "Mining, Quarrying, and Oil and Gas Extraction",
          "Agriculture, Forestry, Fishing and Hunting",
          "Educational Services",
          "Management of Companies and Enterprises",
          "Public Administration",
          "Utilities"
         ],
         "y": [
          1975,
          1710,
          2002,
          1669,
          3364,
          1330,
          561,
          1803,
          294,
          1884,
          325,
          803,
          377,
          224,
          56,
          314,
          162,
          13,
          4,
          21
         ]
        }
       ],
       "layout": {
        "autosize": false,
        "barmode": "stack",
        "height": 1000,
        "margin": {
         "b": 300,
         "l": 0,
         "r": 0,
         "t": 100
        },
        "paper_bgcolor": "rgb(255, 255, 255)",
        "plot_bgcolor": "rgb(255, 255, 255)",
        "template": {
         "data": {
          "bar": [
           {
            "error_x": {
             "color": "#2a3f5f"
            },
            "error_y": {
             "color": "#2a3f5f"
            },
            "marker": {
             "line": {
              "color": "#E5ECF6",
              "width": 0.5
             }
            },
            "type": "bar"
           }
          ],
          "barpolar": [
           {
            "marker": {
             "line": {
              "color": "#E5ECF6",
              "width": 0.5
             }
            },
            "type": "barpolar"
           }
          ],
          "carpet": [
           {
            "aaxis": {
             "endlinecolor": "#2a3f5f",
             "gridcolor": "white",
             "linecolor": "white",
             "minorgridcolor": "white",
             "startlinecolor": "#2a3f5f"
            },
            "baxis": {
             "endlinecolor": "#2a3f5f",
             "gridcolor": "white",
             "linecolor": "white",
             "minorgridcolor": "white",
             "startlinecolor": "#2a3f5f"
            },
            "type": "carpet"
           }
          ],
          "choropleth": [
           {
            "colorbar": {
             "outlinewidth": 0,
             "ticks": ""
            },
            "type": "choropleth"
           }
          ],
          "contour": [
           {
            "colorbar": {
             "outlinewidth": 0,
             "ticks": ""
            },
            "colorscale": [
             [
              0,
              "#0d0887"
             ],
             [
              0.1111111111111111,
              "#46039f"
             ],
             [
              0.2222222222222222,
              "#7201a8"
             ],
             [
              0.3333333333333333,
              "#9c179e"
             ],
             [
              0.4444444444444444,
              "#bd3786"
             ],
             [
              0.5555555555555556,
              "#d8576b"
             ],
             [
              0.6666666666666666,
              "#ed7953"
             ],
             [
              0.7777777777777778,
              "#fb9f3a"
             ],
             [
              0.8888888888888888,
              "#fdca26"
             ],
             [
              1,
              "#f0f921"
             ]
            ],
            "type": "contour"
           }
          ],
          "contourcarpet": [
           {
            "colorbar": {
             "outlinewidth": 0,
             "ticks": ""
            },
            "type": "contourcarpet"
           }
          ],
          "heatmap": [
           {
            "colorbar": {
             "outlinewidth": 0,
             "ticks": ""
            },
            "colorscale": [
             [
              0,
              "#0d0887"
             ],
             [
              0.1111111111111111,
              "#46039f"
             ],
             [
              0.2222222222222222,
              "#7201a8"
             ],
             [
              0.3333333333333333,
              "#9c179e"
             ],
             [
              0.4444444444444444,
              "#bd3786"
             ],
             [
              0.5555555555555556,
              "#d8576b"
             ],
             [
              0.6666666666666666,
              "#ed7953"
             ],
             [
              0.7777777777777778,
              "#fb9f3a"
             ],
             [
              0.8888888888888888,
              "#fdca26"
             ],
             [
              1,
              "#f0f921"
             ]
            ],
            "type": "heatmap"
           }
          ],
          "heatmapgl": [
           {
            "colorbar": {
             "outlinewidth": 0,
             "ticks": ""
            },
            "colorscale": [
             [
              0,
              "#0d0887"
             ],
             [
              0.1111111111111111,
              "#46039f"
             ],
             [
              0.2222222222222222,
              "#7201a8"
             ],
             [
              0.3333333333333333,
              "#9c179e"
             ],
             [
              0.4444444444444444,
              "#bd3786"
             ],
             [
              0.5555555555555556,
              "#d8576b"
             ],
             [
              0.6666666666666666,
              "#ed7953"
             ],
             [
              0.7777777777777778,
              "#fb9f3a"
             ],
             [
              0.8888888888888888,
              "#fdca26"
             ],
             [
              1,
              "#f0f921"
             ]
            ],
            "type": "heatmapgl"
           }
          ],
          "histogram": [
           {
            "marker": {
             "colorbar": {
              "outlinewidth": 0,
              "ticks": ""
             }
            },
            "type": "histogram"
           }
          ],
          "histogram2d": [
           {
            "colorbar": {
             "outlinewidth": 0,
             "ticks": ""
            },
            "colorscale": [
             [
              0,
              "#0d0887"
             ],
             [
              0.1111111111111111,
              "#46039f"
             ],
             [
              0.2222222222222222,
              "#7201a8"
             ],
             [
              0.3333333333333333,
              "#9c179e"
             ],
             [
              0.4444444444444444,
              "#bd3786"
             ],
             [
              0.5555555555555556,
              "#d8576b"
             ],
             [
              0.6666666666666666,
              "#ed7953"
             ],
             [
              0.7777777777777778,
              "#fb9f3a"
             ],
             [
              0.8888888888888888,
              "#fdca26"
             ],
             [
              1,
              "#f0f921"
             ]
            ],
            "type": "histogram2d"
           }
          ],
          "histogram2dcontour": [
           {
            "colorbar": {
             "outlinewidth": 0,
             "ticks": ""
            },
            "colorscale": [
             [
              0,
              "#0d0887"
             ],
             [
              0.1111111111111111,
              "#46039f"
             ],
             [
              0.2222222222222222,
              "#7201a8"
             ],
             [
              0.3333333333333333,
              "#9c179e"
             ],
             [
              0.4444444444444444,
              "#bd3786"
             ],
             [
              0.5555555555555556,
              "#d8576b"
             ],
             [
              0.6666666666666666,
              "#ed7953"
             ],
             [
              0.7777777777777778,
              "#fb9f3a"
             ],
             [
              0.8888888888888888,
              "#fdca26"
             ],
             [
              1,
              "#f0f921"
             ]
            ],
            "type": "histogram2dcontour"
           }
          ],
          "mesh3d": [
           {
            "colorbar": {
             "outlinewidth": 0,
             "ticks": ""
            },
            "type": "mesh3d"
           }
          ],
          "parcoords": [
           {
            "line": {
             "colorbar": {
              "outlinewidth": 0,
              "ticks": ""
             }
            },
            "type": "parcoords"
           }
          ],
          "pie": [
           {
            "automargin": true,
            "type": "pie"
           }
          ],
          "scatter": [
           {
            "marker": {
             "colorbar": {
              "outlinewidth": 0,
              "ticks": ""
             }
            },
            "type": "scatter"
           }
          ],
          "scatter3d": [
           {
            "line": {
             "colorbar": {
              "outlinewidth": 0,
              "ticks": ""
             }
            },
            "marker": {
             "colorbar": {
              "outlinewidth": 0,
              "ticks": ""
             }
            },
            "type": "scatter3d"
           }
          ],
          "scattercarpet": [
           {
            "marker": {
             "colorbar": {
              "outlinewidth": 0,
              "ticks": ""
             }
            },
            "type": "scattercarpet"
           }
          ],
          "scattergeo": [
           {
            "marker": {
             "colorbar": {
              "outlinewidth": 0,
              "ticks": ""
             }
            },
            "type": "scattergeo"
           }
          ],
          "scattergl": [
           {
            "marker": {
             "colorbar": {
              "outlinewidth": 0,
              "ticks": ""
             }
            },
            "type": "scattergl"
           }
          ],
          "scattermapbox": [
           {
            "marker": {
             "colorbar": {
              "outlinewidth": 0,
              "ticks": ""
             }
            },
            "type": "scattermapbox"
           }
          ],
          "scatterpolar": [
           {
            "marker": {
             "colorbar": {
              "outlinewidth": 0,
              "ticks": ""
             }
            },
            "type": "scatterpolar"
           }
          ],
          "scatterpolargl": [
           {
            "marker": {
             "colorbar": {
              "outlinewidth": 0,
              "ticks": ""
             }
            },
            "type": "scatterpolargl"
           }
          ],
          "scatterternary": [
           {
            "marker": {
             "colorbar": {
              "outlinewidth": 0,
              "ticks": ""
             }
            },
            "type": "scatterternary"
           }
          ],
          "surface": [
           {
            "colorbar": {
             "outlinewidth": 0,
             "ticks": ""
            },
            "colorscale": [
             [
              0,
              "#0d0887"
             ],
             [
              0.1111111111111111,
              "#46039f"
             ],
             [
              0.2222222222222222,
              "#7201a8"
             ],
             [
              0.3333333333333333,
              "#9c179e"
             ],
             [
              0.4444444444444444,
              "#bd3786"
             ],
             [
              0.5555555555555556,
              "#d8576b"
             ],
             [
              0.6666666666666666,
              "#ed7953"
             ],
             [
              0.7777777777777778,
              "#fb9f3a"
             ],
             [
              0.8888888888888888,
              "#fdca26"
             ],
             [
              1,
              "#f0f921"
             ]
            ],
            "type": "surface"
           }
          ],
          "table": [
           {
            "cells": {
             "fill": {
              "color": "#EBF0F8"
             },
             "line": {
              "color": "white"
             }
            },
            "header": {
             "fill": {
              "color": "#C8D4E3"
             },
             "line": {
              "color": "white"
             }
            },
            "type": "table"
           }
          ]
         },
         "layout": {
          "annotationdefaults": {
           "arrowcolor": "#2a3f5f",
           "arrowhead": 0,
           "arrowwidth": 1
          },
          "coloraxis": {
           "colorbar": {
            "outlinewidth": 0,
            "ticks": ""
           }
          },
          "colorscale": {
           "diverging": [
            [
             0,
             "#8e0152"
            ],
            [
             0.1,
             "#c51b7d"
            ],
            [
             0.2,
             "#de77ae"
            ],
            [
             0.3,
             "#f1b6da"
            ],
            [
             0.4,
             "#fde0ef"
            ],
            [
             0.5,
             "#f7f7f7"
            ],
            [
             0.6,
             "#e6f5d0"
            ],
            [
             0.7,
             "#b8e186"
            ],
            [
             0.8,
             "#7fbc41"
            ],
            [
             0.9,
             "#4d9221"
            ],
            [
             1,
             "#276419"
            ]
           ],
           "sequential": [
            [
             0,
             "#0d0887"
            ],
            [
             0.1111111111111111,
             "#46039f"
            ],
            [
             0.2222222222222222,
             "#7201a8"
            ],
            [
             0.3333333333333333,
             "#9c179e"
            ],
            [
             0.4444444444444444,
             "#bd3786"
            ],
            [
             0.5555555555555556,
             "#d8576b"
            ],
            [
             0.6666666666666666,
             "#ed7953"
            ],
            [
             0.7777777777777778,
             "#fb9f3a"
            ],
            [
             0.8888888888888888,
             "#fdca26"
            ],
            [
             1,
             "#f0f921"
            ]
           ],
           "sequentialminus": [
            [
             0,
             "#0d0887"
            ],
            [
             0.1111111111111111,
             "#46039f"
            ],
            [
             0.2222222222222222,
             "#7201a8"
            ],
            [
             0.3333333333333333,
             "#9c179e"
            ],
            [
             0.4444444444444444,
             "#bd3786"
            ],
            [
             0.5555555555555556,
             "#d8576b"
            ],
            [
             0.6666666666666666,
             "#ed7953"
            ],
            [
             0.7777777777777778,
             "#fb9f3a"
            ],
            [
             0.8888888888888888,
             "#fdca26"
            ],
            [
             1,
             "#f0f921"
            ]
           ]
          },
          "colorway": [
           "#636efa",
           "#EF553B",
           "#00cc96",
           "#ab63fa",
           "#FFA15A",
           "#19d3f3",
           "#FF6692",
           "#B6E880",
           "#FF97FF",
           "#FECB52"
          ],
          "font": {
           "color": "#2a3f5f"
          },
          "geo": {
           "bgcolor": "white",
           "lakecolor": "white",
           "landcolor": "#E5ECF6",
           "showlakes": true,
           "showland": true,
           "subunitcolor": "white"
          },
          "hoverlabel": {
           "align": "left"
          },
          "hovermode": "closest",
          "mapbox": {
           "style": "light"
          },
          "paper_bgcolor": "white",
          "plot_bgcolor": "#E5ECF6",
          "polar": {
           "angularaxis": {
            "gridcolor": "white",
            "linecolor": "white",
            "ticks": ""
           },
           "bgcolor": "#E5ECF6",
           "radialaxis": {
            "gridcolor": "white",
            "linecolor": "white",
            "ticks": ""
           }
          },
          "scene": {
           "xaxis": {
            "backgroundcolor": "#E5ECF6",
            "gridcolor": "white",
            "gridwidth": 2,
            "linecolor": "white",
            "showbackground": true,
            "ticks": "",
            "zerolinecolor": "white"
           },
           "yaxis": {
            "backgroundcolor": "#E5ECF6",
            "gridcolor": "white",
            "gridwidth": 2,
            "linecolor": "white",
            "showbackground": true,
            "ticks": "",
            "zerolinecolor": "white"
           },
           "zaxis": {
            "backgroundcolor": "#E5ECF6",
            "gridcolor": "white",
            "gridwidth": 2,
            "linecolor": "white",
            "showbackground": true,
            "ticks": "",
            "zerolinecolor": "white"
           }
          },
          "shapedefaults": {
           "line": {
            "color": "#2a3f5f"
           }
          },
          "ternary": {
           "aaxis": {
            "gridcolor": "white",
            "linecolor": "white",
            "ticks": ""
           },
           "baxis": {
            "gridcolor": "white",
            "linecolor": "white",
            "ticks": ""
           },
           "bgcolor": "#E5ECF6",
           "caxis": {
            "gridcolor": "white",
            "linecolor": "white",
            "ticks": ""
           }
          },
          "title": {
           "x": 0.05
          },
          "xaxis": {
           "automargin": true,
           "gridcolor": "white",
           "linecolor": "white",
           "ticks": "",
           "title": {
            "standoff": 15
           },
           "zerolinecolor": "white",
           "zerolinewidth": 2
          },
          "yaxis": {
           "automargin": true,
           "gridcolor": "white",
           "linecolor": "white",
           "ticks": "",
           "title": {
            "standoff": 15
           },
           "zerolinecolor": "white",
           "zerolinewidth": 2
          }
         }
        },
        "title": {
         "text": "Percentage of charged off loans in function of industry sectors",
         "x": 0.5
        },
        "width": 1500,
        "xaxis": {
         "showgrid": false,
         "showline": false,
         "zeroline": false
        },
        "yaxis": {
         "showgrid": false,
         "showline": false
        }
       }
      }
     },
     "metadata": {}
    }
   ],
   "source": [
    "import plotly.graph_objects as go\n",
    "from plotly.subplots import make_subplots\n",
    "import plotly.express as px\n",
    "import numpy as np\n",
    "y0,y1 = [],[]\n",
    "x = list(df_used_test['Industry'].unique())\n",
    "for x_ in x:\n",
    "    df_target = df_used_test[df_used_test['Industry'].isin([x_])]\n",
    "    y0.append(df_target[df_target.ChargeOff == 0].shape[0])\n",
    "    y1.append(df_target[df_target.ChargeOff == 1].shape[0])\n",
    "\n",
    "\n",
    "fig = go.Figure(data=[\n",
    "    go.Bar(name='% charged off loans', x=x, y=y1,text=y1,marker_color='rgb(55, 83, 109)'),\n",
    "    go.Bar(name='% not charged off loans', x=x, y=y0,text=y0,marker_color='indianred')\n",
    "])\n",
    "fig.update_layout(barmode='stack')\n",
    "fig.update_layout(\n",
    "    title='Percentage of charged off loans in function of industry sectors',\n",
    "    title_x=0.5,\n",
    "    yaxis=dict(\n",
    "        showgrid=False,\n",
    "        showline=False,\n",
    "    \n",
    "    ),\n",
    "    \n",
    "    xaxis=dict(\n",
    "        zeroline=False,\n",
    "        showline=False,\n",
    "        showgrid=False,\n",
    "       \n",
    "    ),\n",
    "    autosize=False,\n",
    "\n",
    "    width=1500,\n",
    "    height=1000,\n",
    "    paper_bgcolor='rgb(255, 255, 255)',\n",
    "    plot_bgcolor='rgb(255, 255, 255)',\n",
    ")\n",
    "fig.update_traces(texttemplate='%{text:.2s}', textposition='outside')\n",
    "fig.update_layout(margin={\"r\":0,\"t\":100,\"l\":0,\"b\":300})\n",
    "fig.update_layout(margin={\"r\":0,\"t\":100,\"l\":0,\"b\":300})\n",
    "\n",
    "fig.show()"
   ]
  },
  {
   "cell_type": "code",
   "execution_count": 303,
   "metadata": {},
   "outputs": [],
   "source": [
    "#f_used_test[df_used_test['DisFY']  + \n",
    "df_used_test['Offset'] = df_used_test['Term'].apply(lambda x: pd.DateOffset(months=x))"
   ]
  },
  {
   "cell_type": "code",
   "execution_count": 311,
   "metadata": {},
   "outputs": [],
   "source": [
    "df_used_test['Offset'] = df_used_test['Term'].apply(lambda x: pd.DateOffset(months=x))\n",
    "df_used_test['Offset_end'] = df_used_test['DisbursementDate'] +df_used_test['Offset']"
   ]
  },
  {
   "cell_type": "code",
   "execution_count": 328,
   "metadata": {},
   "outputs": [],
   "source": [
    "from datetime import datetime\n",
    "df_used_test['Offset'] = df_used_test['Term'].apply(lambda x: pd.DateOffset(months=x))\n",
    "df_used_test['Offset_end'] = df_used_test['DisbursementDate'] +df_used_test['Offset']\n",
    "df_used_test['IsActiveRecession'] = 0\n",
    "df_used_test.loc[(df_used_test['Offset_end'] >= datetime(year=2007, month=12, day=1)) & (df_used_test['Offset_end'] <= datetime(year=2010, month=12, day=1)),'IsActiveRecession']= 1"
   ]
  },
  {
   "cell_type": "code",
   "execution_count": 346,
   "metadata": {},
   "outputs": [
    {
     "output_type": "execute_result",
     "data": {
      "text/plain": "                                                         Zip      NAICS  \\\nIndustry                                                                  \nAccommodation and Food Services                     44850115  626104255   \nAdministrative and Support and Waste Management...  29147601  326903419   \nAgriculture, Forestry, Fishing and Hunting           4017929    8151788   \nArts, Entertainment, and Recreation                 11063115  140503381   \nConstruction                                        55214552  245171420   \nEducational Services                                 5478236   61771491   \nFinance and Insurance                                9964711   87943229   \nHealth Care and Social Assistance                   28041647  319122543   \nInformation                                         11420316  105406502   \nManagement of Companies and Enterprises                57622    1102224   \nManufacturing                                       41728758  255983386   \nMining, Quarrying, and Oil and Gas Extraction         869176    3191501   \nOther Services (except Public Administration)       54733455  885718787   \nProfessional, Scientific, and Technical Services    52177743  564261363   \nPublic Administration                                  29618    1855230   \nReal Estate and Rental and Leasing                  12398892  125970937   \nRetail trade                                        97717275  849739928   \nTransportation and Warehousing                      21908553  208903654   \nUtilities                                             453348    1991403   \nWholesale trade                                     34417771  282107950   \n\n                                                      Term  NoEmp  NewExist  \\\nIndustry                                                                      \nAccommodation and Food Services                      49271   8522    1213.0   \nAdministrative and Support and Waste Management...   29151   3464     727.0   \nAgriculture, Forestry, Fishing and Hunting            7738    417     101.0   \nArts, Entertainment, and Recreation                  11461   1221     271.0   \nConstruction                                         48824   6885    1220.0   \nEducational Services                                  5078   2129     130.0   \nFinance and Insurance                                 8163    853     194.0   \nHealth Care and Social Assistance                    34875   3341     676.0   \nInformation                                          10568   1100     252.0   \nManagement of Companies and Enterprises                114     11       3.0   \nManufacturing                                        48635   8557     956.0   \nMining, Quarrying, and Oil and Gas Extraction         1416    221      19.0   \nOther Services (except Public Administration)        65184   5886    1389.0   \nProfessional, Scientific, and Technical Services     55013   5755    1265.0   \nPublic Administration                                   96      5       3.0   \nReal Estate and Rental and Leasing                   10348   1017     286.0   \nRetail trade                                        106542   8484    2476.0   \nTransportation and Warehousing                       20297   2194     537.0   \nUtilities                                              377     79      11.0   \nWholesale trade                                      36827   3824     805.0   \n\n                                                    CreateJob  RetainedJob  \\\nIndustry                                                                     \nAccommodation and Food Services                          2459         6055   \nAdministrative and Support and Waste Management...       1079         3202   \nAgriculture, Forestry, Fishing and Hunting                 71          260   \nArts, Entertainment, and Recreation                       413          873   \nConstruction                                             1639         5510   \nEducational Services                                     1287          849   \nFinance and Insurance                                     228          843   \nHealth Care and Social Assistance                         807         2231   \nInformation                                               334          872   \nManagement of Companies and Enterprises                    50           11   \nManufacturing                                            1108         5661   \nMining, Quarrying, and Oil and Gas Extraction              22          119   \nOther Services (except Public Administration)            1337         4676   \nProfessional, Scientific, and Technical Services         1966         4576   \nPublic Administration                                       3            5   \nReal Estate and Rental and Leasing                        282          944   \nRetail trade                                             2079         6674   \nTransportation and Warehousing                            313         1752   \nUtilities                                                  10           68   \nWholesale trade                                          1142         2891   \n\n                                                    FranchiseCode  UrbanRural  \\\nIndustry                                                                        \nAccommodation and Food Services                           7753833         998   \nAdministrative and Support and Waste Management...        1362583         645   \nAgriculture, Forestry, Fishing and Hunting                     66          57   \nArts, Entertainment, and Recreation                        640663         220   \nConstruction                                                48571        1170   \nEducational Services                                       442386         110   \nFinance and Insurance                                      170151         184   \nHealth Care and Social Assistance                          246757         516   \nInformation                                                   143         224   \nManagement of Companies and Enterprises                         1           2   \nManufacturing                                              403817         843   \nMining, Quarrying, and Oil and Gas Extraction                  14          18   \nOther Services (except Public Administration)             2763311        1138   \nProfessional, Scientific, and Technical Services           414295        1110   \nPublic Administration                                           0           2   \nReal Estate and Rental and Leasing                         303764         268   \nRetail trade                                              4863527        2055   \nTransportation and Warehousing                             151795         516   \nUtilities                                                       6           9   \nWholesale trade                                            345457         681   \n\n                                                    ChargeOff    DisFY  \\\nIndustry                                                                 \nAccommodation and Food Services                           592  1737710   \nAdministrative and Support and Waste Management...        425  1166832   \nAgriculture, Forestry, Fishing and Hunting                 23   144014   \nArts, Entertainment, and Recreation                       134   394798   \nConstruction                                              790  2073237   \nEducational Services                                       74   202483   \nFinance and Insurance                                     134   336831   \nHealth Care and Social Assistance                         253  1027710   \nInformation                                               151   410968   \nManagement of Companies and Enterprises                     2     4010   \nManufacturing                                             481  1564955   \nMining, Quarrying, and Oil and Gas Extraction               5    30016   \nOther Services (except Public Administration)             738  2186369   \nProfessional, Scientific, and Technical Services          718  2088831   \nPublic Administration                                       2     4012   \nReal Estate and Rental and Leasing                        193   475283   \nRetail trade                                             1346  3804084   \nTransportation and Warehousing                            312   862167   \nUtilities                                                   8    18051   \nWholesale trade                                           472  1334896   \n\n                                                    IsActiveRecession  \nIndustry                                                               \nAccommodation and Food Services                                   867  \nAdministrative and Support and Waste Management...                582  \nAgriculture, Forestry, Fishing and Hunting                         72  \nArts, Entertainment, and Recreation                               197  \nConstruction                                                     1034  \nEducational Services                                              101  \nFinance and Insurance                                             168  \nHealth Care and Social Assistance                                 513  \nInformation                                                       205  \nManagement of Companies and Enterprises                             2  \nManufacturing                                                     781  \nMining, Quarrying, and Oil and Gas Extraction                      15  \nOther Services (except Public Administration)                    1091  \nProfessional, Scientific, and Technical Services                 1042  \nPublic Administration                                               2  \nReal Estate and Rental and Leasing                                237  \nRetail trade                                                     1898  \nTransportation and Warehousing                                    430  \nUtilities                                                           9  \nWholesale trade                                                   666  ",
      "text/html": "<div>\n<style scoped>\n    .dataframe tbody tr th:only-of-type {\n        vertical-align: middle;\n    }\n\n    .dataframe tbody tr th {\n        vertical-align: top;\n    }\n\n    .dataframe thead th {\n        text-align: right;\n    }\n</style>\n<table border=\"1\" class=\"dataframe\">\n  <thead>\n    <tr style=\"text-align: right;\">\n      <th></th>\n      <th>Zip</th>\n      <th>NAICS</th>\n      <th>Term</th>\n      <th>NoEmp</th>\n      <th>NewExist</th>\n      <th>CreateJob</th>\n      <th>RetainedJob</th>\n      <th>FranchiseCode</th>\n      <th>UrbanRural</th>\n      <th>ChargeOff</th>\n      <th>DisFY</th>\n      <th>IsActiveRecession</th>\n    </tr>\n    <tr>\n      <th>Industry</th>\n      <th></th>\n      <th></th>\n      <th></th>\n      <th></th>\n      <th></th>\n      <th></th>\n      <th></th>\n      <th></th>\n      <th></th>\n      <th></th>\n      <th></th>\n      <th></th>\n    </tr>\n  </thead>\n  <tbody>\n    <tr>\n      <th>Accommodation and Food Services</th>\n      <td>44850115</td>\n      <td>626104255</td>\n      <td>49271</td>\n      <td>8522</td>\n      <td>1213.0</td>\n      <td>2459</td>\n      <td>6055</td>\n      <td>7753833</td>\n      <td>998</td>\n      <td>592</td>\n      <td>1737710</td>\n      <td>867</td>\n    </tr>\n    <tr>\n      <th>Administrative and Support and Waste Management and Remediation Services</th>\n      <td>29147601</td>\n      <td>326903419</td>\n      <td>29151</td>\n      <td>3464</td>\n      <td>727.0</td>\n      <td>1079</td>\n      <td>3202</td>\n      <td>1362583</td>\n      <td>645</td>\n      <td>425</td>\n      <td>1166832</td>\n      <td>582</td>\n    </tr>\n    <tr>\n      <th>Agriculture, Forestry, Fishing and Hunting</th>\n      <td>4017929</td>\n      <td>8151788</td>\n      <td>7738</td>\n      <td>417</td>\n      <td>101.0</td>\n      <td>71</td>\n      <td>260</td>\n      <td>66</td>\n      <td>57</td>\n      <td>23</td>\n      <td>144014</td>\n      <td>72</td>\n    </tr>\n    <tr>\n      <th>Arts, Entertainment, and Recreation</th>\n      <td>11063115</td>\n      <td>140503381</td>\n      <td>11461</td>\n      <td>1221</td>\n      <td>271.0</td>\n      <td>413</td>\n      <td>873</td>\n      <td>640663</td>\n      <td>220</td>\n      <td>134</td>\n      <td>394798</td>\n      <td>197</td>\n    </tr>\n    <tr>\n      <th>Construction</th>\n      <td>55214552</td>\n      <td>245171420</td>\n      <td>48824</td>\n      <td>6885</td>\n      <td>1220.0</td>\n      <td>1639</td>\n      <td>5510</td>\n      <td>48571</td>\n      <td>1170</td>\n      <td>790</td>\n      <td>2073237</td>\n      <td>1034</td>\n    </tr>\n    <tr>\n      <th>Educational Services</th>\n      <td>5478236</td>\n      <td>61771491</td>\n      <td>5078</td>\n      <td>2129</td>\n      <td>130.0</td>\n      <td>1287</td>\n      <td>849</td>\n      <td>442386</td>\n      <td>110</td>\n      <td>74</td>\n      <td>202483</td>\n      <td>101</td>\n    </tr>\n    <tr>\n      <th>Finance and Insurance</th>\n      <td>9964711</td>\n      <td>87943229</td>\n      <td>8163</td>\n      <td>853</td>\n      <td>194.0</td>\n      <td>228</td>\n      <td>843</td>\n      <td>170151</td>\n      <td>184</td>\n      <td>134</td>\n      <td>336831</td>\n      <td>168</td>\n    </tr>\n    <tr>\n      <th>Health Care and Social Assistance</th>\n      <td>28041647</td>\n      <td>319122543</td>\n      <td>34875</td>\n      <td>3341</td>\n      <td>676.0</td>\n      <td>807</td>\n      <td>2231</td>\n      <td>246757</td>\n      <td>516</td>\n      <td>253</td>\n      <td>1027710</td>\n      <td>513</td>\n    </tr>\n    <tr>\n      <th>Information</th>\n      <td>11420316</td>\n      <td>105406502</td>\n      <td>10568</td>\n      <td>1100</td>\n      <td>252.0</td>\n      <td>334</td>\n      <td>872</td>\n      <td>143</td>\n      <td>224</td>\n      <td>151</td>\n      <td>410968</td>\n      <td>205</td>\n    </tr>\n    <tr>\n      <th>Management of Companies and Enterprises</th>\n      <td>57622</td>\n      <td>1102224</td>\n      <td>114</td>\n      <td>11</td>\n      <td>3.0</td>\n      <td>50</td>\n      <td>11</td>\n      <td>1</td>\n      <td>2</td>\n      <td>2</td>\n      <td>4010</td>\n      <td>2</td>\n    </tr>\n    <tr>\n      <th>Manufacturing</th>\n      <td>41728758</td>\n      <td>255983386</td>\n      <td>48635</td>\n      <td>8557</td>\n      <td>956.0</td>\n      <td>1108</td>\n      <td>5661</td>\n      <td>403817</td>\n      <td>843</td>\n      <td>481</td>\n      <td>1564955</td>\n      <td>781</td>\n    </tr>\n    <tr>\n      <th>Mining, Quarrying, and Oil and Gas Extraction</th>\n      <td>869176</td>\n      <td>3191501</td>\n      <td>1416</td>\n      <td>221</td>\n      <td>19.0</td>\n      <td>22</td>\n      <td>119</td>\n      <td>14</td>\n      <td>18</td>\n      <td>5</td>\n      <td>30016</td>\n      <td>15</td>\n    </tr>\n    <tr>\n      <th>Other Services (except Public Administration)</th>\n      <td>54733455</td>\n      <td>885718787</td>\n      <td>65184</td>\n      <td>5886</td>\n      <td>1389.0</td>\n      <td>1337</td>\n      <td>4676</td>\n      <td>2763311</td>\n      <td>1138</td>\n      <td>738</td>\n      <td>2186369</td>\n      <td>1091</td>\n    </tr>\n    <tr>\n      <th>Professional, Scientific, and Technical Services</th>\n      <td>52177743</td>\n      <td>564261363</td>\n      <td>55013</td>\n      <td>5755</td>\n      <td>1265.0</td>\n      <td>1966</td>\n      <td>4576</td>\n      <td>414295</td>\n      <td>1110</td>\n      <td>718</td>\n      <td>2088831</td>\n      <td>1042</td>\n    </tr>\n    <tr>\n      <th>Public Administration</th>\n      <td>29618</td>\n      <td>1855230</td>\n      <td>96</td>\n      <td>5</td>\n      <td>3.0</td>\n      <td>3</td>\n      <td>5</td>\n      <td>0</td>\n      <td>2</td>\n      <td>2</td>\n      <td>4012</td>\n      <td>2</td>\n    </tr>\n    <tr>\n      <th>Real Estate and Rental and Leasing</th>\n      <td>12398892</td>\n      <td>125970937</td>\n      <td>10348</td>\n      <td>1017</td>\n      <td>286.0</td>\n      <td>282</td>\n      <td>944</td>\n      <td>303764</td>\n      <td>268</td>\n      <td>193</td>\n      <td>475283</td>\n      <td>237</td>\n    </tr>\n    <tr>\n      <th>Retail trade</th>\n      <td>97717275</td>\n      <td>849739928</td>\n      <td>106542</td>\n      <td>8484</td>\n      <td>2476.0</td>\n      <td>2079</td>\n      <td>6674</td>\n      <td>4863527</td>\n      <td>2055</td>\n      <td>1346</td>\n      <td>3804084</td>\n      <td>1898</td>\n    </tr>\n    <tr>\n      <th>Transportation and Warehousing</th>\n      <td>21908553</td>\n      <td>208903654</td>\n      <td>20297</td>\n      <td>2194</td>\n      <td>537.0</td>\n      <td>313</td>\n      <td>1752</td>\n      <td>151795</td>\n      <td>516</td>\n      <td>312</td>\n      <td>862167</td>\n      <td>430</td>\n    </tr>\n    <tr>\n      <th>Utilities</th>\n      <td>453348</td>\n      <td>1991403</td>\n      <td>377</td>\n      <td>79</td>\n      <td>11.0</td>\n      <td>10</td>\n      <td>68</td>\n      <td>6</td>\n      <td>9</td>\n      <td>8</td>\n      <td>18051</td>\n      <td>9</td>\n    </tr>\n    <tr>\n      <th>Wholesale trade</th>\n      <td>34417771</td>\n      <td>282107950</td>\n      <td>36827</td>\n      <td>3824</td>\n      <td>805.0</td>\n      <td>1142</td>\n      <td>2891</td>\n      <td>345457</td>\n      <td>681</td>\n      <td>472</td>\n      <td>1334896</td>\n      <td>666</td>\n    </tr>\n  </tbody>\n</table>\n</div>"
     },
     "metadata": {},
     "execution_count": 346
    }
   ],
   "source": [
    "df_used_test[df_used_test['IsActiveRecession'] ==1].groupby('Industry').sum()"
   ]
  },
  {
   "cell_type": "code",
   "execution_count": 347,
   "metadata": {},
   "outputs": [
    {
     "output_type": "execute_result",
     "data": {
      "text/plain": "                                                          Zip       NAICS  \\\nIndustry                                                                    \nAccommodation and Food Services                     172262826  2302649048   \nAdministrative and Support and Waste Management...   73622556   800423915   \nAgriculture, Forestry, Fishing and Hunting           19839028    42400240   \nArts, Entertainment, and Recreation                  32517785   455835559   \nConstruction                                        169442777   724910626   \nEducational Services                                 16966427   203046628   \nFinance and Insurance                                29813564   258613706   \nHealth Care and Social Assistance                   116613693  1289537448   \nInformation                                          30400472   275846794   \nManagement of Companies and Enterprises               1005405     8266682   \nManufacturing                                       159408735   945438278   \nMining, Quarrying, and Oil and Gas Extraction         4195118    14249498   \nOther Services (except Public Administration)       174544984  2682050356   \nProfessional, Scientific, and Technical Services    159095299  1579615706   \nPublic Administration                                  595008     9232240   \nReal Estate and Rental and Leasing                   41656007   394981976   \nRetail trade                                        313142491  2636525460   \nTransportation and Warehousing                       51519712   494576835   \nUtilities                                             1543984     6858279   \nWholesale trade                                     117960727   910235890   \n\n                                                      Term  NoEmp  NewExist  \\\nIndustry                                                                      \nAccommodation and Food Services                     349842  34488    4634.0   \nAdministrative and Support and Waste Management...  100500  13271    1811.0   \nAgriculture, Forestry, Fishing and Hunting           40761   1838     496.0   \nArts, Entertainment, and Recreation                  62405   5020     879.0   \nConstruction                                        230444  30450    3518.0   \nEducational Services                                 26275   2347     443.0   \nFinance and Insurance                                40710   3405     593.0   \nHealth Care and Social Assistance                   241516  17356    2787.0   \nInformation                                          39614   4344     694.0   \nManagement of Companies and Enterprises               2881    134      19.0   \nManufacturing                                       280372  46477    3515.0   \nMining, Quarrying, and Oil and Gas Extraction         5473    692      83.0   \nOther Services (except Public Administration)       315149  24101    4361.0   \nProfessional, Scientific, and Technical Services    249981  17886    3560.0   \nPublic Administration                                  681     95      11.0   \nReal Estate and Rental and Leasing                   60914   3812     931.0   \nRetail trade                                        514519  32623    7825.0   \nTransportation and Warehousing                       70703   7058    1296.0   \nUtilities                                             2354    146      42.0   \nWholesale trade                                     187348  19429    2538.0   \n\n                                                    CreateJob  RetainedJob  \\\nIndustry                                                                     \nAccommodation and Food Services                         15849        22898   \nAdministrative and Support and Waste Management...       2623         9020   \nAgriculture, Forestry, Fishing and Hunting                293          923   \nArts, Entertainment, and Recreation                      1526         6754   \nConstruction                                             5610        17333   \nEducational Services                                      564         1902   \nFinance and Insurance                                     797         2660   \nHealth Care and Social Assistance                        4191         8779   \nInformation                                              1456         2104   \nManagement of Companies and Enterprises                    76           39   \nManufacturing                                            7270        20313   \nMining, Quarrying, and Oil and Gas Extraction              47          179   \nOther Services (except Public Administration)            5011        12023   \nProfessional, Scientific, and Technical Services         5805        11963   \nPublic Administration                                       9           75   \nReal Estate and Rental and Leasing                       1019         2791   \nRetail trade                                             9150        19150   \nTransportation and Warehousing                           1396         4995   \nUtilities                                                  22           54   \nWholesale trade                                          3179         9380   \n\n                                                    FranchiseCode  UrbanRural  \\\nIndustry                                                                        \nAccommodation and Food Services                          35061026        3624   \nAdministrative and Support and Waste Management...        4588324        1506   \nAgriculture, Forestry, Fishing and Hunting                    288         379   \nArts, Entertainment, and Recreation                       1592619         590   \nConstruction                                              1070642        3038   \nEducational Services                                      1758961         361   \nFinance and Insurance                                       92940         545   \nHealth Care and Social Assistance                         1779650        1705   \nInformation                                                288395         512   \nManagement of Companies and Enterprises                        12           9   \nManufacturing                                             2719963        2622   \nMining, Quarrying, and Oil and Gas Extraction                  50          60   \nOther Services (except Public Administration)             8882088        3025   \nProfessional, Scientific, and Technical Services          1273733        2744   \nPublic Administration                                       73680           7   \nReal Estate and Rental and Leasing                        2428189         755   \nRetail trade                                             14220602        5584   \nTransportation and Warehousing                             926637        1141   \nUtilities                                                      22          33   \nWholesale trade                                            668982        1874   \n\n                                                    ChargeOff     DisFY  \\\nIndustry                                                                  \nAccommodation and Food Services                          1661   6393898   \nAdministrative and Support and Waste Management...        779   2856690   \nAgriculture, Forestry, Fishing and Hunting                110    750394   \nArts, Entertainment, and Recreation                       325   1280077   \nConstruction                                             1595   6134495   \nEducational Services                                      197    665886   \nFinance and Insurance                                     304    990707   \nHealth Care and Social Assistance                         664   4151535   \nInformation                                               297   1076273   \nManagement of Companies and Enterprises                     2     30012   \nManufacturing                                            1205   5767589   \nMining, Quarrying, and Oil and Gas Extraction              21    134057   \nOther Services (except Public Administration)            1655   6618640   \nProfessional, Scientific, and Technical Services         1357   5846685   \nPublic Administration                                       6     20023   \nReal Estate and Rental and Leasing                        462   1489556   \nRetail trade                                             3079  11801230   \nTransportation and Warehousing                            575   2041635   \nUtilities                                                  11     62081   \nWholesale trade                                          1015   4308467   \n\n                                                    IsActiveRecession  \nIndustry                                                               \nAccommodation and Food Services                                     0  \nAdministrative and Support and Waste Management...                  0  \nAgriculture, Forestry, Fishing and Hunting                          0  \nArts, Entertainment, and Recreation                                 0  \nConstruction                                                        0  \nEducational Services                                                0  \nFinance and Insurance                                               0  \nHealth Care and Social Assistance                                   0  \nInformation                                                         0  \nManagement of Companies and Enterprises                             0  \nManufacturing                                                       0  \nMining, Quarrying, and Oil and Gas Extraction                       0  \nOther Services (except Public Administration)                       0  \nProfessional, Scientific, and Technical Services                    0  \nPublic Administration                                               0  \nReal Estate and Rental and Leasing                                  0  \nRetail trade                                                        0  \nTransportation and Warehousing                                      0  \nUtilities                                                           0  \nWholesale trade                                                     0  ",
      "text/html": "<div>\n<style scoped>\n    .dataframe tbody tr th:only-of-type {\n        vertical-align: middle;\n    }\n\n    .dataframe tbody tr th {\n        vertical-align: top;\n    }\n\n    .dataframe thead th {\n        text-align: right;\n    }\n</style>\n<table border=\"1\" class=\"dataframe\">\n  <thead>\n    <tr style=\"text-align: right;\">\n      <th></th>\n      <th>Zip</th>\n      <th>NAICS</th>\n      <th>Term</th>\n      <th>NoEmp</th>\n      <th>NewExist</th>\n      <th>CreateJob</th>\n      <th>RetainedJob</th>\n      <th>FranchiseCode</th>\n      <th>UrbanRural</th>\n      <th>ChargeOff</th>\n      <th>DisFY</th>\n      <th>IsActiveRecession</th>\n    </tr>\n    <tr>\n      <th>Industry</th>\n      <th></th>\n      <th></th>\n      <th></th>\n      <th></th>\n      <th></th>\n      <th></th>\n      <th></th>\n      <th></th>\n      <th></th>\n      <th></th>\n      <th></th>\n      <th></th>\n    </tr>\n  </thead>\n  <tbody>\n    <tr>\n      <th>Accommodation and Food Services</th>\n      <td>172262826</td>\n      <td>2302649048</td>\n      <td>349842</td>\n      <td>34488</td>\n      <td>4634.0</td>\n      <td>15849</td>\n      <td>22898</td>\n      <td>35061026</td>\n      <td>3624</td>\n      <td>1661</td>\n      <td>6393898</td>\n      <td>0</td>\n    </tr>\n    <tr>\n      <th>Administrative and Support and Waste Management and Remediation Services</th>\n      <td>73622556</td>\n      <td>800423915</td>\n      <td>100500</td>\n      <td>13271</td>\n      <td>1811.0</td>\n      <td>2623</td>\n      <td>9020</td>\n      <td>4588324</td>\n      <td>1506</td>\n      <td>779</td>\n      <td>2856690</td>\n      <td>0</td>\n    </tr>\n    <tr>\n      <th>Agriculture, Forestry, Fishing and Hunting</th>\n      <td>19839028</td>\n      <td>42400240</td>\n      <td>40761</td>\n      <td>1838</td>\n      <td>496.0</td>\n      <td>293</td>\n      <td>923</td>\n      <td>288</td>\n      <td>379</td>\n      <td>110</td>\n      <td>750394</td>\n      <td>0</td>\n    </tr>\n    <tr>\n      <th>Arts, Entertainment, and Recreation</th>\n      <td>32517785</td>\n      <td>455835559</td>\n      <td>62405</td>\n      <td>5020</td>\n      <td>879.0</td>\n      <td>1526</td>\n      <td>6754</td>\n      <td>1592619</td>\n      <td>590</td>\n      <td>325</td>\n      <td>1280077</td>\n      <td>0</td>\n    </tr>\n    <tr>\n      <th>Construction</th>\n      <td>169442777</td>\n      <td>724910626</td>\n      <td>230444</td>\n      <td>30450</td>\n      <td>3518.0</td>\n      <td>5610</td>\n      <td>17333</td>\n      <td>1070642</td>\n      <td>3038</td>\n      <td>1595</td>\n      <td>6134495</td>\n      <td>0</td>\n    </tr>\n    <tr>\n      <th>Educational Services</th>\n      <td>16966427</td>\n      <td>203046628</td>\n      <td>26275</td>\n      <td>2347</td>\n      <td>443.0</td>\n      <td>564</td>\n      <td>1902</td>\n      <td>1758961</td>\n      <td>361</td>\n      <td>197</td>\n      <td>665886</td>\n      <td>0</td>\n    </tr>\n    <tr>\n      <th>Finance and Insurance</th>\n      <td>29813564</td>\n      <td>258613706</td>\n      <td>40710</td>\n      <td>3405</td>\n      <td>593.0</td>\n      <td>797</td>\n      <td>2660</td>\n      <td>92940</td>\n      <td>545</td>\n      <td>304</td>\n      <td>990707</td>\n      <td>0</td>\n    </tr>\n    <tr>\n      <th>Health Care and Social Assistance</th>\n      <td>116613693</td>\n      <td>1289537448</td>\n      <td>241516</td>\n      <td>17356</td>\n      <td>2787.0</td>\n      <td>4191</td>\n      <td>8779</td>\n      <td>1779650</td>\n      <td>1705</td>\n      <td>664</td>\n      <td>4151535</td>\n      <td>0</td>\n    </tr>\n    <tr>\n      <th>Information</th>\n      <td>30400472</td>\n      <td>275846794</td>\n      <td>39614</td>\n      <td>4344</td>\n      <td>694.0</td>\n      <td>1456</td>\n      <td>2104</td>\n      <td>288395</td>\n      <td>512</td>\n      <td>297</td>\n      <td>1076273</td>\n      <td>0</td>\n    </tr>\n    <tr>\n      <th>Management of Companies and Enterprises</th>\n      <td>1005405</td>\n      <td>8266682</td>\n      <td>2881</td>\n      <td>134</td>\n      <td>19.0</td>\n      <td>76</td>\n      <td>39</td>\n      <td>12</td>\n      <td>9</td>\n      <td>2</td>\n      <td>30012</td>\n      <td>0</td>\n    </tr>\n    <tr>\n      <th>Manufacturing</th>\n      <td>159408735</td>\n      <td>945438278</td>\n      <td>280372</td>\n      <td>46477</td>\n      <td>3515.0</td>\n      <td>7270</td>\n      <td>20313</td>\n      <td>2719963</td>\n      <td>2622</td>\n      <td>1205</td>\n      <td>5767589</td>\n      <td>0</td>\n    </tr>\n    <tr>\n      <th>Mining, Quarrying, and Oil and Gas Extraction</th>\n      <td>4195118</td>\n      <td>14249498</td>\n      <td>5473</td>\n      <td>692</td>\n      <td>83.0</td>\n      <td>47</td>\n      <td>179</td>\n      <td>50</td>\n      <td>60</td>\n      <td>21</td>\n      <td>134057</td>\n      <td>0</td>\n    </tr>\n    <tr>\n      <th>Other Services (except Public Administration)</th>\n      <td>174544984</td>\n      <td>2682050356</td>\n      <td>315149</td>\n      <td>24101</td>\n      <td>4361.0</td>\n      <td>5011</td>\n      <td>12023</td>\n      <td>8882088</td>\n      <td>3025</td>\n      <td>1655</td>\n      <td>6618640</td>\n      <td>0</td>\n    </tr>\n    <tr>\n      <th>Professional, Scientific, and Technical Services</th>\n      <td>159095299</td>\n      <td>1579615706</td>\n      <td>249981</td>\n      <td>17886</td>\n      <td>3560.0</td>\n      <td>5805</td>\n      <td>11963</td>\n      <td>1273733</td>\n      <td>2744</td>\n      <td>1357</td>\n      <td>5846685</td>\n      <td>0</td>\n    </tr>\n    <tr>\n      <th>Public Administration</th>\n      <td>595008</td>\n      <td>9232240</td>\n      <td>681</td>\n      <td>95</td>\n      <td>11.0</td>\n      <td>9</td>\n      <td>75</td>\n      <td>73680</td>\n      <td>7</td>\n      <td>6</td>\n      <td>20023</td>\n      <td>0</td>\n    </tr>\n    <tr>\n      <th>Real Estate and Rental and Leasing</th>\n      <td>41656007</td>\n      <td>394981976</td>\n      <td>60914</td>\n      <td>3812</td>\n      <td>931.0</td>\n      <td>1019</td>\n      <td>2791</td>\n      <td>2428189</td>\n      <td>755</td>\n      <td>462</td>\n      <td>1489556</td>\n      <td>0</td>\n    </tr>\n    <tr>\n      <th>Retail trade</th>\n      <td>313142491</td>\n      <td>2636525460</td>\n      <td>514519</td>\n      <td>32623</td>\n      <td>7825.0</td>\n      <td>9150</td>\n      <td>19150</td>\n      <td>14220602</td>\n      <td>5584</td>\n      <td>3079</td>\n      <td>11801230</td>\n      <td>0</td>\n    </tr>\n    <tr>\n      <th>Transportation and Warehousing</th>\n      <td>51519712</td>\n      <td>494576835</td>\n      <td>70703</td>\n      <td>7058</td>\n      <td>1296.0</td>\n      <td>1396</td>\n      <td>4995</td>\n      <td>926637</td>\n      <td>1141</td>\n      <td>575</td>\n      <td>2041635</td>\n      <td>0</td>\n    </tr>\n    <tr>\n      <th>Utilities</th>\n      <td>1543984</td>\n      <td>6858279</td>\n      <td>2354</td>\n      <td>146</td>\n      <td>42.0</td>\n      <td>22</td>\n      <td>54</td>\n      <td>22</td>\n      <td>33</td>\n      <td>11</td>\n      <td>62081</td>\n      <td>0</td>\n    </tr>\n    <tr>\n      <th>Wholesale trade</th>\n      <td>117960727</td>\n      <td>910235890</td>\n      <td>187348</td>\n      <td>19429</td>\n      <td>2538.0</td>\n      <td>3179</td>\n      <td>9380</td>\n      <td>668982</td>\n      <td>1874</td>\n      <td>1015</td>\n      <td>4308467</td>\n      <td>0</td>\n    </tr>\n  </tbody>\n</table>\n</div>"
     },
     "metadata": {},
     "execution_count": 347
    }
   ],
   "source": [
    "df_used_test[df_used_test['IsActiveRecession'] ==0].groupby('Industry').sum()"
   ]
  },
  {
   "cell_type": "code",
   "execution_count": 364,
   "metadata": {
    "tags": []
   },
   "outputs": [
    {
     "output_type": "display_data",
     "data": {
      "application/vnd.plotly.v1+json": {
       "config": {
        "plotlyServerURL": "https://plot.ly"
       },
       "data": [
        {
         "marker": {
          "color": "rgb(55, 83, 109)"
         },
         "name": "% charged off loans during Great Recession",
         "offsetgroup": "0",
         "text": [
          "0.615877080665813",
          "0.7640232108317214",
          "0.6764436296975253",
          "0.49317738791423",
          "0.7091675447839831",
          "0.7087087087087087",
          "0.7255813953488373",
          "0.6828143021914648",
          "0.7365853658536585",
          "0.6890595009596929",
          "0.8143459915611815",
          "0.7302405498281787",
          "0.6802030456852792",
          "0.7976190476190477",
          "0.3333333333333333",
          "0.3194444444444444",
          "0.7326732673267327",
          "1.0",
          "1.0",
          "0.8888888888888888"
         ],
         "textposition": "inside",
         "texttemplate": "%{text:.2f}",
         "type": "bar",
         "x": [
          "Manufacturing",
          "Construction",
          "Other Services (except Public Administration)",
          "Health Care and Social Assistance",
          "Retail trade",
          "Wholesale trade",
          "Transportation and Warehousing",
          "Accommodation and Food Services",
          "Information",
          "Professional, Scientific, and Technical Services",
          "Real Estate and Rental and Leasing",
          "Administrative and Support and Waste Management and Remediation Services",
          "Arts, Entertainment, and Recreation",
          "Finance and Insurance",
          "Mining, Quarrying, and Oil and Gas Extraction",
          "Agriculture, Forestry, Fishing and Hunting",
          "Educational Services",
          "Management of Companies and Enterprises",
          "Public Administration",
          "Utilities"
         ],
         "y": [
          0.615877080665813,
          0.7640232108317214,
          0.6764436296975253,
          0.49317738791423,
          0.7091675447839831,
          0.7087087087087087,
          0.7255813953488373,
          0.6828143021914648,
          0.7365853658536585,
          0.6890595009596929,
          0.8143459915611815,
          0.7302405498281787,
          0.6802030456852792,
          0.7976190476190477,
          0.3333333333333333,
          0.3194444444444444,
          0.7326732673267327,
          1,
          1,
          0.8888888888888888
         ]
        },
        {
         "base": [
          0.615877080665813,
          0.7640232108317214,
          0.6764436296975253,
          0.49317738791423,
          0.7091675447839831,
          0.7087087087087087,
          0.7255813953488373,
          0.6828143021914648,
          0.7365853658536585,
          0.6890595009596929,
          0.8143459915611815,
          0.7302405498281787,
          0.6802030456852792,
          0.7976190476190477,
          0.3333333333333333,
          0.3194444444444444,
          0.7326732673267327,
          1,
          1,
          0.8888888888888888
         ],
         "marker": {
          "color": "indianred"
         },
         "name": "% not charged off loans during Great Recession",
         "offsetgroup": "0",
         "text": [
          "0.38412291933418696",
          "0.23597678916827852",
          "0.3235563703024748",
          "0.50682261208577",
          "0.29083245521601686",
          "0.2912912912912913",
          "0.2744186046511628",
          "0.31718569780853517",
          "0.2634146341463415",
          "0.31094049904030713",
          "0.18565400843881857",
          "0.2697594501718213",
          "0.3197969543147208",
          "0.20238095238095238",
          "0.6666666666666666",
          "0.6805555555555556",
          "0.26732673267326734",
          "0.0",
          "0.0",
          "0.1111111111111111"
         ],
         "textposition": "inside",
         "texttemplate": "%{text:.2f}",
         "type": "bar",
         "x": [
          "Manufacturing",
          "Construction",
          "Other Services (except Public Administration)",
          "Health Care and Social Assistance",
          "Retail trade",
          "Wholesale trade",
          "Transportation and Warehousing",
          "Accommodation and Food Services",
          "Information",
          "Professional, Scientific, and Technical Services",
          "Real Estate and Rental and Leasing",
          "Administrative and Support and Waste Management and Remediation Services",
          "Arts, Entertainment, and Recreation",
          "Finance and Insurance",
          "Mining, Quarrying, and Oil and Gas Extraction",
          "Agriculture, Forestry, Fishing and Hunting",
          "Educational Services",
          "Management of Companies and Enterprises",
          "Public Administration",
          "Utilities"
         ],
         "y": [
          0.38412291933418696,
          0.23597678916827852,
          0.3235563703024748,
          0.50682261208577,
          0.29083245521601686,
          0.2912912912912913,
          0.2744186046511628,
          0.31718569780853517,
          0.2634146341463415,
          0.31094049904030713,
          0.18565400843881857,
          0.2697594501718213,
          0.3197969543147208,
          0.20238095238095238,
          0.6666666666666666,
          0.6805555555555556,
          0.26732673267326734,
          0,
          0,
          0.1111111111111111
         ]
        },
        {
         "marker": {
          "color": "rgb(55, 83, 109)"
         },
         "name": "% charged off loans otherwise",
         "offsetgroup": "1",
         "opacity": 0.7,
         "text": [
          "0.4184027777777778",
          "0.5210715452466514",
          "0.50090799031477",
          "0.32030873130728416",
          "0.5226616873196401",
          "0.4718735471873547",
          "0.5648330058939096",
          "0.5208529319535905",
          "0.553072625698324",
          "0.4652039766883785",
          "0.6218034993270525",
          "0.5466666666666666",
          "0.5086071987480438",
          "0.6153846153846154",
          "0.31343283582089554",
          "0.29333333333333333",
          "0.5933734939759037",
          "0.13333333333333333",
          "0.6",
          "0.3548387096774194"
         ],
         "textposition": "inside",
         "texttemplate": "%{text:.2f}",
         "type": "bar",
         "x": [
          "Manufacturing",
          "Construction",
          "Other Services (except Public Administration)",
          "Health Care and Social Assistance",
          "Retail trade",
          "Wholesale trade",
          "Transportation and Warehousing",
          "Accommodation and Food Services",
          "Information",
          "Professional, Scientific, and Technical Services",
          "Real Estate and Rental and Leasing",
          "Administrative and Support and Waste Management and Remediation Services",
          "Arts, Entertainment, and Recreation",
          "Finance and Insurance",
          "Mining, Quarrying, and Oil and Gas Extraction",
          "Agriculture, Forestry, Fishing and Hunting",
          "Educational Services",
          "Management of Companies and Enterprises",
          "Public Administration",
          "Utilities"
         ],
         "y": [
          0.4184027777777778,
          0.5210715452466514,
          0.50090799031477,
          0.32030873130728416,
          0.5226616873196401,
          0.4718735471873547,
          0.5648330058939096,
          0.5208529319535905,
          0.553072625698324,
          0.4652039766883785,
          0.6218034993270525,
          0.5466666666666666,
          0.5086071987480438,
          0.6153846153846154,
          0.31343283582089554,
          0.29333333333333333,
          0.5933734939759037,
          0.13333333333333333,
          0.6,
          0.3548387096774194
         ]
        },
        {
         "base": [
          0.4184027777777778,
          0.5210715452466514,
          0.50090799031477,
          0.32030873130728416,
          0.5226616873196401,
          0.4718735471873547,
          0.5648330058939096,
          0.5208529319535905,
          0.553072625698324,
          0.4652039766883785,
          0.6218034993270525,
          0.5466666666666666,
          0.5086071987480438,
          0.6153846153846154,
          0.31343283582089554,
          0.29333333333333333,
          0.5933734939759037,
          0.13333333333333333,
          0.6,
          0.3548387096774194
         ],
         "marker": {
          "color": "indianred"
         },
         "name": "% not charged off loans otherwise",
         "offsetgroup": "1",
         "opacity": 0.7,
         "text": [
          "0.5815972222222222",
          "0.47892845475334855",
          "0.49909200968523004",
          "0.6796912686927159",
          "0.47733831268035987",
          "0.5281264528126453",
          "0.4351669941060904",
          "0.47914706804640955",
          "0.44692737430167595",
          "0.5347960233116216",
          "0.3781965006729475",
          "0.4533333333333333",
          "0.49139280125195617",
          "0.38461538461538464",
          "0.6865671641791045",
          "0.7066666666666667",
          "0.4066265060240964",
          "0.8666666666666667",
          "0.4",
          "0.6451612903225806"
         ],
         "textposition": "inside",
         "texttemplate": "%{text:.2f}",
         "type": "bar",
         "x": [
          "Manufacturing",
          "Construction",
          "Other Services (except Public Administration)",
          "Health Care and Social Assistance",
          "Retail trade",
          "Wholesale trade",
          "Transportation and Warehousing",
          "Accommodation and Food Services",
          "Information",
          "Professional, Scientific, and Technical Services",
          "Real Estate and Rental and Leasing",
          "Administrative and Support and Waste Management and Remediation Services",
          "Arts, Entertainment, and Recreation",
          "Finance and Insurance",
          "Mining, Quarrying, and Oil and Gas Extraction",
          "Agriculture, Forestry, Fishing and Hunting",
          "Educational Services",
          "Management of Companies and Enterprises",
          "Public Administration",
          "Utilities"
         ],
         "y": [
          0.5815972222222222,
          0.47892845475334855,
          0.49909200968523004,
          0.6796912686927159,
          0.47733831268035987,
          0.5281264528126453,
          0.4351669941060904,
          0.47914706804640955,
          0.44692737430167595,
          0.5347960233116216,
          0.3781965006729475,
          0.4533333333333333,
          0.49139280125195617,
          0.38461538461538464,
          0.6865671641791045,
          0.7066666666666667,
          0.4066265060240964,
          0.8666666666666667,
          0.4,
          0.6451612903225806
         ]
        }
       ],
       "layout": {
        "autosize": false,
        "bargap": 0.15,
        "bargroupgap": 0.15,
        "height": 1000,
        "margin": {
         "b": 300,
         "l": 0,
         "r": 0,
         "t": 100
        },
        "paper_bgcolor": "rgb(255, 255, 255)",
        "plot_bgcolor": "rgb(255, 255, 255)",
        "template": {
         "data": {
          "bar": [
           {
            "error_x": {
             "color": "#2a3f5f"
            },
            "error_y": {
             "color": "#2a3f5f"
            },
            "marker": {
             "line": {
              "color": "#E5ECF6",
              "width": 0.5
             }
            },
            "type": "bar"
           }
          ],
          "barpolar": [
           {
            "marker": {
             "line": {
              "color": "#E5ECF6",
              "width": 0.5
             }
            },
            "type": "barpolar"
           }
          ],
          "carpet": [
           {
            "aaxis": {
             "endlinecolor": "#2a3f5f",
             "gridcolor": "white",
             "linecolor": "white",
             "minorgridcolor": "white",
             "startlinecolor": "#2a3f5f"
            },
            "baxis": {
             "endlinecolor": "#2a3f5f",
             "gridcolor": "white",
             "linecolor": "white",
             "minorgridcolor": "white",
             "startlinecolor": "#2a3f5f"
            },
            "type": "carpet"
           }
          ],
          "choropleth": [
           {
            "colorbar": {
             "outlinewidth": 0,
             "ticks": ""
            },
            "type": "choropleth"
           }
          ],
          "contour": [
           {
            "colorbar": {
             "outlinewidth": 0,
             "ticks": ""
            },
            "colorscale": [
             [
              0,
              "#0d0887"
             ],
             [
              0.1111111111111111,
              "#46039f"
             ],
             [
              0.2222222222222222,
              "#7201a8"
             ],
             [
              0.3333333333333333,
              "#9c179e"
             ],
             [
              0.4444444444444444,
              "#bd3786"
             ],
             [
              0.5555555555555556,
              "#d8576b"
             ],
             [
              0.6666666666666666,
              "#ed7953"
             ],
             [
              0.7777777777777778,
              "#fb9f3a"
             ],
             [
              0.8888888888888888,
              "#fdca26"
             ],
             [
              1,
              "#f0f921"
             ]
            ],
            "type": "contour"
           }
          ],
          "contourcarpet": [
           {
            "colorbar": {
             "outlinewidth": 0,
             "ticks": ""
            },
            "type": "contourcarpet"
           }
          ],
          "heatmap": [
           {
            "colorbar": {
             "outlinewidth": 0,
             "ticks": ""
            },
            "colorscale": [
             [
              0,
              "#0d0887"
             ],
             [
              0.1111111111111111,
              "#46039f"
             ],
             [
              0.2222222222222222,
              "#7201a8"
             ],
             [
              0.3333333333333333,
              "#9c179e"
             ],
             [
              0.4444444444444444,
              "#bd3786"
             ],
             [
              0.5555555555555556,
              "#d8576b"
             ],
             [
              0.6666666666666666,
              "#ed7953"
             ],
             [
              0.7777777777777778,
              "#fb9f3a"
             ],
             [
              0.8888888888888888,
              "#fdca26"
             ],
             [
              1,
              "#f0f921"
             ]
            ],
            "type": "heatmap"
           }
          ],
          "heatmapgl": [
           {
            "colorbar": {
             "outlinewidth": 0,
             "ticks": ""
            },
            "colorscale": [
             [
              0,
              "#0d0887"
             ],
             [
              0.1111111111111111,
              "#46039f"
             ],
             [
              0.2222222222222222,
              "#7201a8"
             ],
             [
              0.3333333333333333,
              "#9c179e"
             ],
             [
              0.4444444444444444,
              "#bd3786"
             ],
             [
              0.5555555555555556,
              "#d8576b"
             ],
             [
              0.6666666666666666,
              "#ed7953"
             ],
             [
              0.7777777777777778,
              "#fb9f3a"
             ],
             [
              0.8888888888888888,
              "#fdca26"
             ],
             [
              1,
              "#f0f921"
             ]
            ],
            "type": "heatmapgl"
           }
          ],
          "histogram": [
           {
            "marker": {
             "colorbar": {
              "outlinewidth": 0,
              "ticks": ""
             }
            },
            "type": "histogram"
           }
          ],
          "histogram2d": [
           {
            "colorbar": {
             "outlinewidth": 0,
             "ticks": ""
            },
            "colorscale": [
             [
              0,
              "#0d0887"
             ],
             [
              0.1111111111111111,
              "#46039f"
             ],
             [
              0.2222222222222222,
              "#7201a8"
             ],
             [
              0.3333333333333333,
              "#9c179e"
             ],
             [
              0.4444444444444444,
              "#bd3786"
             ],
             [
              0.5555555555555556,
              "#d8576b"
             ],
             [
              0.6666666666666666,
              "#ed7953"
             ],
             [
              0.7777777777777778,
              "#fb9f3a"
             ],
             [
              0.8888888888888888,
              "#fdca26"
             ],
             [
              1,
              "#f0f921"
             ]
            ],
            "type": "histogram2d"
           }
          ],
          "histogram2dcontour": [
           {
            "colorbar": {
             "outlinewidth": 0,
             "ticks": ""
            },
            "colorscale": [
             [
              0,
              "#0d0887"
             ],
             [
              0.1111111111111111,
              "#46039f"
             ],
             [
              0.2222222222222222,
              "#7201a8"
             ],
             [
              0.3333333333333333,
              "#9c179e"
             ],
             [
              0.4444444444444444,
              "#bd3786"
             ],
             [
              0.5555555555555556,
              "#d8576b"
             ],
             [
              0.6666666666666666,
              "#ed7953"
             ],
             [
              0.7777777777777778,
              "#fb9f3a"
             ],
             [
              0.8888888888888888,
              "#fdca26"
             ],
             [
              1,
              "#f0f921"
             ]
            ],
            "type": "histogram2dcontour"
           }
          ],
          "mesh3d": [
           {
            "colorbar": {
             "outlinewidth": 0,
             "ticks": ""
            },
            "type": "mesh3d"
           }
          ],
          "parcoords": [
           {
            "line": {
             "colorbar": {
              "outlinewidth": 0,
              "ticks": ""
             }
            },
            "type": "parcoords"
           }
          ],
          "pie": [
           {
            "automargin": true,
            "type": "pie"
           }
          ],
          "scatter": [
           {
            "marker": {
             "colorbar": {
              "outlinewidth": 0,
              "ticks": ""
             }
            },
            "type": "scatter"
           }
          ],
          "scatter3d": [
           {
            "line": {
             "colorbar": {
              "outlinewidth": 0,
              "ticks": ""
             }
            },
            "marker": {
             "colorbar": {
              "outlinewidth": 0,
              "ticks": ""
             }
            },
            "type": "scatter3d"
           }
          ],
          "scattercarpet": [
           {
            "marker": {
             "colorbar": {
              "outlinewidth": 0,
              "ticks": ""
             }
            },
            "type": "scattercarpet"
           }
          ],
          "scattergeo": [
           {
            "marker": {
             "colorbar": {
              "outlinewidth": 0,
              "ticks": ""
             }
            },
            "type": "scattergeo"
           }
          ],
          "scattergl": [
           {
            "marker": {
             "colorbar": {
              "outlinewidth": 0,
              "ticks": ""
             }
            },
            "type": "scattergl"
           }
          ],
          "scattermapbox": [
           {
            "marker": {
             "colorbar": {
              "outlinewidth": 0,
              "ticks": ""
             }
            },
            "type": "scattermapbox"
           }
          ],
          "scatterpolar": [
           {
            "marker": {
             "colorbar": {
              "outlinewidth": 0,
              "ticks": ""
             }
            },
            "type": "scatterpolar"
           }
          ],
          "scatterpolargl": [
           {
            "marker": {
             "colorbar": {
              "outlinewidth": 0,
              "ticks": ""
             }
            },
            "type": "scatterpolargl"
           }
          ],
          "scatterternary": [
           {
            "marker": {
             "colorbar": {
              "outlinewidth": 0,
              "ticks": ""
             }
            },
            "type": "scatterternary"
           }
          ],
          "surface": [
           {
            "colorbar": {
             "outlinewidth": 0,
             "ticks": ""
            },
            "colorscale": [
             [
              0,
              "#0d0887"
             ],
             [
              0.1111111111111111,
              "#46039f"
             ],
             [
              0.2222222222222222,
              "#7201a8"
             ],
             [
              0.3333333333333333,
              "#9c179e"
             ],
             [
              0.4444444444444444,
              "#bd3786"
             ],
             [
              0.5555555555555556,
              "#d8576b"
             ],
             [
              0.6666666666666666,
              "#ed7953"
             ],
             [
              0.7777777777777778,
              "#fb9f3a"
             ],
             [
              0.8888888888888888,
              "#fdca26"
             ],
             [
              1,
              "#f0f921"
             ]
            ],
            "type": "surface"
           }
          ],
          "table": [
           {
            "cells": {
             "fill": {
              "color": "#EBF0F8"
             },
             "line": {
              "color": "white"
             }
            },
            "header": {
             "fill": {
              "color": "#C8D4E3"
             },
             "line": {
              "color": "white"
             }
            },
            "type": "table"
           }
          ]
         },
         "layout": {
          "annotationdefaults": {
           "arrowcolor": "#2a3f5f",
           "arrowhead": 0,
           "arrowwidth": 1
          },
          "coloraxis": {
           "colorbar": {
            "outlinewidth": 0,
            "ticks": ""
           }
          },
          "colorscale": {
           "diverging": [
            [
             0,
             "#8e0152"
            ],
            [
             0.1,
             "#c51b7d"
            ],
            [
             0.2,
             "#de77ae"
            ],
            [
             0.3,
             "#f1b6da"
            ],
            [
             0.4,
             "#fde0ef"
            ],
            [
             0.5,
             "#f7f7f7"
            ],
            [
             0.6,
             "#e6f5d0"
            ],
            [
             0.7,
             "#b8e186"
            ],
            [
             0.8,
             "#7fbc41"
            ],
            [
             0.9,
             "#4d9221"
            ],
            [
             1,
             "#276419"
            ]
           ],
           "sequential": [
            [
             0,
             "#0d0887"
            ],
            [
             0.1111111111111111,
             "#46039f"
            ],
            [
             0.2222222222222222,
             "#7201a8"
            ],
            [
             0.3333333333333333,
             "#9c179e"
            ],
            [
             0.4444444444444444,
             "#bd3786"
            ],
            [
             0.5555555555555556,
             "#d8576b"
            ],
            [
             0.6666666666666666,
             "#ed7953"
            ],
            [
             0.7777777777777778,
             "#fb9f3a"
            ],
            [
             0.8888888888888888,
             "#fdca26"
            ],
            [
             1,
             "#f0f921"
            ]
           ],
           "sequentialminus": [
            [
             0,
             "#0d0887"
            ],
            [
             0.1111111111111111,
             "#46039f"
            ],
            [
             0.2222222222222222,
             "#7201a8"
            ],
            [
             0.3333333333333333,
             "#9c179e"
            ],
            [
             0.4444444444444444,
             "#bd3786"
            ],
            [
             0.5555555555555556,
             "#d8576b"
            ],
            [
             0.6666666666666666,
             "#ed7953"
            ],
            [
             0.7777777777777778,
             "#fb9f3a"
            ],
            [
             0.8888888888888888,
             "#fdca26"
            ],
            [
             1,
             "#f0f921"
            ]
           ]
          },
          "colorway": [
           "#636efa",
           "#EF553B",
           "#00cc96",
           "#ab63fa",
           "#FFA15A",
           "#19d3f3",
           "#FF6692",
           "#B6E880",
           "#FF97FF",
           "#FECB52"
          ],
          "font": {
           "color": "#2a3f5f"
          },
          "geo": {
           "bgcolor": "white",
           "lakecolor": "white",
           "landcolor": "#E5ECF6",
           "showlakes": true,
           "showland": true,
           "subunitcolor": "white"
          },
          "hoverlabel": {
           "align": "left"
          },
          "hovermode": "closest",
          "mapbox": {
           "style": "light"
          },
          "paper_bgcolor": "white",
          "plot_bgcolor": "#E5ECF6",
          "polar": {
           "angularaxis": {
            "gridcolor": "white",
            "linecolor": "white",
            "ticks": ""
           },
           "bgcolor": "#E5ECF6",
           "radialaxis": {
            "gridcolor": "white",
            "linecolor": "white",
            "ticks": ""
           }
          },
          "scene": {
           "xaxis": {
            "backgroundcolor": "#E5ECF6",
            "gridcolor": "white",
            "gridwidth": 2,
            "linecolor": "white",
            "showbackground": true,
            "ticks": "",
            "zerolinecolor": "white"
           },
           "yaxis": {
            "backgroundcolor": "#E5ECF6",
            "gridcolor": "white",
            "gridwidth": 2,
            "linecolor": "white",
            "showbackground": true,
            "ticks": "",
            "zerolinecolor": "white"
           },
           "zaxis": {
            "backgroundcolor": "#E5ECF6",
            "gridcolor": "white",
            "gridwidth": 2,
            "linecolor": "white",
            "showbackground": true,
            "ticks": "",
            "zerolinecolor": "white"
           }
          },
          "shapedefaults": {
           "line": {
            "color": "#2a3f5f"
           }
          },
          "ternary": {
           "aaxis": {
            "gridcolor": "white",
            "linecolor": "white",
            "ticks": ""
           },
           "baxis": {
            "gridcolor": "white",
            "linecolor": "white",
            "ticks": ""
           },
           "bgcolor": "#E5ECF6",
           "caxis": {
            "gridcolor": "white",
            "linecolor": "white",
            "ticks": ""
           }
          },
          "title": {
           "x": 0.05
          },
          "xaxis": {
           "automargin": true,
           "gridcolor": "white",
           "linecolor": "white",
           "ticks": "",
           "title": {
            "standoff": 15
           },
           "zerolinecolor": "white",
           "zerolinewidth": 2
          },
          "yaxis": {
           "automargin": true,
           "gridcolor": "white",
           "linecolor": "white",
           "ticks": "",
           "title": {
            "standoff": 15
           },
           "zerolinecolor": "white",
           "zerolinewidth": 2
          }
         }
        },
        "title": {
         "text": "Percentage of charged off loans in function of industry sectors and Great Recession",
         "x": 0.5
        },
        "width": 1500,
        "xaxis": {
         "showgrid": false,
         "showline": false,
         "zeroline": false
        },
        "yaxis": {
         "showgrid": false,
         "showline": false
        }
       }
      }
     },
     "metadata": {}
    }
   ],
   "source": [
    "import plotly.graph_objects as go\n",
    "from plotly.subplots import make_subplots\n",
    "import plotly.express as px\n",
    "import numpy as np\n",
    "y0,y1,y00,y11 = [],[],[],[]\n",
    "x = list(df_used_test['Industry'].unique())\n",
    "for x_ in x:\n",
    "    df_target = df_used_test[df_used_test['Industry'].isin([x_])]\n",
    "    df_target  =df_target[df_target['IsActiveRecession'] ==0 ]\n",
    "    y00.append(df_target[df_target.ChargeOff == 0].shape[0]/df_target.shape[0])\n",
    "    y11.append(df_target[df_target.ChargeOff == 1].shape[0]/df_target.shape[0])\n",
    "\n",
    "    df_target = df_used_test[df_used_test['Industry'].isin([x_])]\n",
    "    df_target  =df_target[df_target['IsActiveRecession'] == 1 ] \n",
    "    y0.append(df_target[df_target.ChargeOff == 0].shape[0]/df_target.shape[0])\n",
    "    y1.append(df_target[df_target.ChargeOff == 1].shape[0]/df_target.shape[0])\n",
    "\n",
    "fig = go.Figure(data=[\n",
    "    go.Bar(name='% charged off loans during Great Recession', x=x, y=y1,text=y1,offsetgroup=0,marker_color='rgb(55, 83, 109)'),\n",
    "    go.Bar(name='% not charged off loans during Great Recession', x=x, y=y0,text=y0,offsetgroup=0,base=y1,marker_color='indianred'),\n",
    "    go.Bar(name='% charged off loans otherwise', x=x, y=y11,text=y11,offsetgroup=1,marker_color='rgb(55, 83, 109)',opacity=.7),\n",
    "    go.Bar(name='% not charged off loans otherwise', x=x, y=y00,text=y00,offsetgroup=1,base=y11,marker_color='indianred',opacity=.7),\n",
    "])\n",
    "#fig.update_layout(barmode='stack')\n",
    "fig.update_layout(\n",
    "    title='Percentage of charged off loans in function of industry sectors and Great Recession',\n",
    "    title_x=0.5,\n",
    "    yaxis=dict(\n",
    "        showgrid=False,\n",
    "        showline=False,\n",
    "    \n",
    "    ),\n",
    "    \n",
    "    xaxis=dict(\n",
    "        zeroline=False,\n",
    "        showline=False,\n",
    "        showgrid=False,\n",
    "       \n",
    "    ),\n",
    "    autosize=False,\n",
    "    width=1500,\n",
    "    height=1000,\n",
    "    paper_bgcolor='rgb(255, 255, 255)',\n",
    "    plot_bgcolor='rgb(255, 255, 255)',\n",
    "    bargap=0.15,\n",
    "    bargroupgap=0.15,\n",
    ")\n",
    "fig.update_traces(texttemplate='%{text:.2f}', textposition='inside')\n",
    "fig.update_layout(margin={\"r\":0,\"t\":100,\"l\":0,\"b\":300})\n",
    "\n",
    "fig.show()"
   ]
  },
  {
   "cell_type": "code",
   "execution_count": 371,
   "metadata": {},
   "outputs": [
    {
     "output_type": "display_data",
     "data": {
      "application/vnd.plotly.v1+json": {
       "config": {
        "plotlyServerURL": "https://plot.ly"
       },
       "data": [
        {
         "marker": {
          "color": "rgb(55, 83, 109)"
         },
         "name": "% charged off loans",
         "text": [
          "0.4605299098606938",
          "0.5824175824175825",
          "0.5444823663253697",
          "0.3546017014694509",
          "0.5681088714854282",
          "0.5278665246716365",
          "0.6125690607734806",
          "0.5554733727810651",
          "0.6037735849056604",
          "0.5241222530942157",
          "0.6683673469387755",
          "0.5999003487792726",
          "0.5490430622009569",
          "0.6616314199395771",
          "0.3170731707317073",
          "0.2975391498881432",
          "0.625866050808314",
          "0.23529411764705882",
          "0.6666666666666666",
          "0.475"
         ],
         "textposition": "outside",
         "texttemplate": "%{text:.2f}",
         "type": "bar",
         "x": [
          "Manufacturing",
          "Construction",
          "Other Services (except Public Administration)",
          "Health Care and Social Assistance",
          "Retail trade",
          "Wholesale trade",
          "Transportation and Warehousing",
          "Accommodation and Food Services",
          "Information",
          "Professional, Scientific, and Technical Services",
          "Real Estate and Rental and Leasing",
          "Administrative and Support and Waste Management and Remediation Services",
          "Arts, Entertainment, and Recreation",
          "Finance and Insurance",
          "Mining, Quarrying, and Oil and Gas Extraction",
          "Agriculture, Forestry, Fishing and Hunting",
          "Educational Services",
          "Management of Companies and Enterprises",
          "Public Administration",
          "Utilities"
         ],
         "y": [
          0.4605299098606938,
          0.5824175824175825,
          0.5444823663253697,
          0.3546017014694509,
          0.5681088714854282,
          0.5278665246716365,
          0.6125690607734806,
          0.5554733727810651,
          0.6037735849056604,
          0.5241222530942157,
          0.6683673469387755,
          0.5999003487792726,
          0.5490430622009569,
          0.6616314199395771,
          0.3170731707317073,
          0.2975391498881432,
          0.625866050808314,
          0.23529411764705882,
          0.6666666666666666,
          0.475
         ]
        },
        {
         "marker": {
          "color": "indianred"
         },
         "name": "% not charged off loans",
         "text": [
          "0.5394700901393062",
          "0.4175824175824176",
          "0.4555176336746303",
          "0.6453982985305491",
          "0.43189112851457184",
          "0.4721334753283635",
          "0.38743093922651933",
          "0.44452662721893493",
          "0.39622641509433965",
          "0.47587774690578427",
          "0.33163265306122447",
          "0.40009965122072744",
          "0.45095693779904306",
          "0.338368580060423",
          "0.6829268292682927",
          "0.7024608501118568",
          "0.3741339491916859",
          "0.7647058823529411",
          "0.3333333333333333",
          "0.525"
         ],
         "textposition": "outside",
         "texttemplate": "%{text:.2f}",
         "type": "bar",
         "x": [
          "Manufacturing",
          "Construction",
          "Other Services (except Public Administration)",
          "Health Care and Social Assistance",
          "Retail trade",
          "Wholesale trade",
          "Transportation and Warehousing",
          "Accommodation and Food Services",
          "Information",
          "Professional, Scientific, and Technical Services",
          "Real Estate and Rental and Leasing",
          "Administrative and Support and Waste Management and Remediation Services",
          "Arts, Entertainment, and Recreation",
          "Finance and Insurance",
          "Mining, Quarrying, and Oil and Gas Extraction",
          "Agriculture, Forestry, Fishing and Hunting",
          "Educational Services",
          "Management of Companies and Enterprises",
          "Public Administration",
          "Utilities"
         ],
         "y": [
          0.5394700901393062,
          0.4175824175824176,
          0.4555176336746303,
          0.6453982985305491,
          0.43189112851457184,
          0.4721334753283635,
          0.38743093922651933,
          0.44452662721893493,
          0.39622641509433965,
          0.47587774690578427,
          0.33163265306122447,
          0.40009965122072744,
          0.45095693779904306,
          0.338368580060423,
          0.6829268292682927,
          0.7024608501118568,
          0.3741339491916859,
          0.7647058823529411,
          0.3333333333333333,
          0.525
         ]
        }
       ],
       "layout": {
        "autosize": false,
        "barmode": "stack",
        "height": 1000,
        "margin": {
         "b": 300,
         "l": 0,
         "r": 0,
         "t": 100
        },
        "paper_bgcolor": "rgb(255, 255, 255)",
        "plot_bgcolor": "rgb(255, 255, 255)",
        "template": {
         "data": {
          "bar": [
           {
            "error_x": {
             "color": "#2a3f5f"
            },
            "error_y": {
             "color": "#2a3f5f"
            },
            "marker": {
             "line": {
              "color": "#E5ECF6",
              "width": 0.5
             }
            },
            "type": "bar"
           }
          ],
          "barpolar": [
           {
            "marker": {
             "line": {
              "color": "#E5ECF6",
              "width": 0.5
             }
            },
            "type": "barpolar"
           }
          ],
          "carpet": [
           {
            "aaxis": {
             "endlinecolor": "#2a3f5f",
             "gridcolor": "white",
             "linecolor": "white",
             "minorgridcolor": "white",
             "startlinecolor": "#2a3f5f"
            },
            "baxis": {
             "endlinecolor": "#2a3f5f",
             "gridcolor": "white",
             "linecolor": "white",
             "minorgridcolor": "white",
             "startlinecolor": "#2a3f5f"
            },
            "type": "carpet"
           }
          ],
          "choropleth": [
           {
            "colorbar": {
             "outlinewidth": 0,
             "ticks": ""
            },
            "type": "choropleth"
           }
          ],
          "contour": [
           {
            "colorbar": {
             "outlinewidth": 0,
             "ticks": ""
            },
            "colorscale": [
             [
              0,
              "#0d0887"
             ],
             [
              0.1111111111111111,
              "#46039f"
             ],
             [
              0.2222222222222222,
              "#7201a8"
             ],
             [
              0.3333333333333333,
              "#9c179e"
             ],
             [
              0.4444444444444444,
              "#bd3786"
             ],
             [
              0.5555555555555556,
              "#d8576b"
             ],
             [
              0.6666666666666666,
              "#ed7953"
             ],
             [
              0.7777777777777778,
              "#fb9f3a"
             ],
             [
              0.8888888888888888,
              "#fdca26"
             ],
             [
              1,
              "#f0f921"
             ]
            ],
            "type": "contour"
           }
          ],
          "contourcarpet": [
           {
            "colorbar": {
             "outlinewidth": 0,
             "ticks": ""
            },
            "type": "contourcarpet"
           }
          ],
          "heatmap": [
           {
            "colorbar": {
             "outlinewidth": 0,
             "ticks": ""
            },
            "colorscale": [
             [
              0,
              "#0d0887"
             ],
             [
              0.1111111111111111,
              "#46039f"
             ],
             [
              0.2222222222222222,
              "#7201a8"
             ],
             [
              0.3333333333333333,
              "#9c179e"
             ],
             [
              0.4444444444444444,
              "#bd3786"
             ],
             [
              0.5555555555555556,
              "#d8576b"
             ],
             [
              0.6666666666666666,
              "#ed7953"
             ],
             [
              0.7777777777777778,
              "#fb9f3a"
             ],
             [
              0.8888888888888888,
              "#fdca26"
             ],
             [
              1,
              "#f0f921"
             ]
            ],
            "type": "heatmap"
           }
          ],
          "heatmapgl": [
           {
            "colorbar": {
             "outlinewidth": 0,
             "ticks": ""
            },
            "colorscale": [
             [
              0,
              "#0d0887"
             ],
             [
              0.1111111111111111,
              "#46039f"
             ],
             [
              0.2222222222222222,
              "#7201a8"
             ],
             [
              0.3333333333333333,
              "#9c179e"
             ],
             [
              0.4444444444444444,
              "#bd3786"
             ],
             [
              0.5555555555555556,
              "#d8576b"
             ],
             [
              0.6666666666666666,
              "#ed7953"
             ],
             [
              0.7777777777777778,
              "#fb9f3a"
             ],
             [
              0.8888888888888888,
              "#fdca26"
             ],
             [
              1,
              "#f0f921"
             ]
            ],
            "type": "heatmapgl"
           }
          ],
          "histogram": [
           {
            "marker": {
             "colorbar": {
              "outlinewidth": 0,
              "ticks": ""
             }
            },
            "type": "histogram"
           }
          ],
          "histogram2d": [
           {
            "colorbar": {
             "outlinewidth": 0,
             "ticks": ""
            },
            "colorscale": [
             [
              0,
              "#0d0887"
             ],
             [
              0.1111111111111111,
              "#46039f"
             ],
             [
              0.2222222222222222,
              "#7201a8"
             ],
             [
              0.3333333333333333,
              "#9c179e"
             ],
             [
              0.4444444444444444,
              "#bd3786"
             ],
             [
              0.5555555555555556,
              "#d8576b"
             ],
             [
              0.6666666666666666,
              "#ed7953"
             ],
             [
              0.7777777777777778,
              "#fb9f3a"
             ],
             [
              0.8888888888888888,
              "#fdca26"
             ],
             [
              1,
              "#f0f921"
             ]
            ],
            "type": "histogram2d"
           }
          ],
          "histogram2dcontour": [
           {
            "colorbar": {
             "outlinewidth": 0,
             "ticks": ""
            },
            "colorscale": [
             [
              0,
              "#0d0887"
             ],
             [
              0.1111111111111111,
              "#46039f"
             ],
             [
              0.2222222222222222,
              "#7201a8"
             ],
             [
              0.3333333333333333,
              "#9c179e"
             ],
             [
              0.4444444444444444,
              "#bd3786"
             ],
             [
              0.5555555555555556,
              "#d8576b"
             ],
             [
              0.6666666666666666,
              "#ed7953"
             ],
             [
              0.7777777777777778,
              "#fb9f3a"
             ],
             [
              0.8888888888888888,
              "#fdca26"
             ],
             [
              1,
              "#f0f921"
             ]
            ],
            "type": "histogram2dcontour"
           }
          ],
          "mesh3d": [
           {
            "colorbar": {
             "outlinewidth": 0,
             "ticks": ""
            },
            "type": "mesh3d"
           }
          ],
          "parcoords": [
           {
            "line": {
             "colorbar": {
              "outlinewidth": 0,
              "ticks": ""
             }
            },
            "type": "parcoords"
           }
          ],
          "pie": [
           {
            "automargin": true,
            "type": "pie"
           }
          ],
          "scatter": [
           {
            "marker": {
             "colorbar": {
              "outlinewidth": 0,
              "ticks": ""
             }
            },
            "type": "scatter"
           }
          ],
          "scatter3d": [
           {
            "line": {
             "colorbar": {
              "outlinewidth": 0,
              "ticks": ""
             }
            },
            "marker": {
             "colorbar": {
              "outlinewidth": 0,
              "ticks": ""
             }
            },
            "type": "scatter3d"
           }
          ],
          "scattercarpet": [
           {
            "marker": {
             "colorbar": {
              "outlinewidth": 0,
              "ticks": ""
             }
            },
            "type": "scattercarpet"
           }
          ],
          "scattergeo": [
           {
            "marker": {
             "colorbar": {
              "outlinewidth": 0,
              "ticks": ""
             }
            },
            "type": "scattergeo"
           }
          ],
          "scattergl": [
           {
            "marker": {
             "colorbar": {
              "outlinewidth": 0,
              "ticks": ""
             }
            },
            "type": "scattergl"
           }
          ],
          "scattermapbox": [
           {
            "marker": {
             "colorbar": {
              "outlinewidth": 0,
              "ticks": ""
             }
            },
            "type": "scattermapbox"
           }
          ],
          "scatterpolar": [
           {
            "marker": {
             "colorbar": {
              "outlinewidth": 0,
              "ticks": ""
             }
            },
            "type": "scatterpolar"
           }
          ],
          "scatterpolargl": [
           {
            "marker": {
             "colorbar": {
              "outlinewidth": 0,
              "ticks": ""
             }
            },
            "type": "scatterpolargl"
           }
          ],
          "scatterternary": [
           {
            "marker": {
             "colorbar": {
              "outlinewidth": 0,
              "ticks": ""
             }
            },
            "type": "scatterternary"
           }
          ],
          "surface": [
           {
            "colorbar": {
             "outlinewidth": 0,
             "ticks": ""
            },
            "colorscale": [
             [
              0,
              "#0d0887"
             ],
             [
              0.1111111111111111,
              "#46039f"
             ],
             [
              0.2222222222222222,
              "#7201a8"
             ],
             [
              0.3333333333333333,
              "#9c179e"
             ],
             [
              0.4444444444444444,
              "#bd3786"
             ],
             [
              0.5555555555555556,
              "#d8576b"
             ],
             [
              0.6666666666666666,
              "#ed7953"
             ],
             [
              0.7777777777777778,
              "#fb9f3a"
             ],
             [
              0.8888888888888888,
              "#fdca26"
             ],
             [
              1,
              "#f0f921"
             ]
            ],
            "type": "surface"
           }
          ],
          "table": [
           {
            "cells": {
             "fill": {
              "color": "#EBF0F8"
             },
             "line": {
              "color": "white"
             }
            },
            "header": {
             "fill": {
              "color": "#C8D4E3"
             },
             "line": {
              "color": "white"
             }
            },
            "type": "table"
           }
          ]
         },
         "layout": {
          "annotationdefaults": {
           "arrowcolor": "#2a3f5f",
           "arrowhead": 0,
           "arrowwidth": 1
          },
          "coloraxis": {
           "colorbar": {
            "outlinewidth": 0,
            "ticks": ""
           }
          },
          "colorscale": {
           "diverging": [
            [
             0,
             "#8e0152"
            ],
            [
             0.1,
             "#c51b7d"
            ],
            [
             0.2,
             "#de77ae"
            ],
            [
             0.3,
             "#f1b6da"
            ],
            [
             0.4,
             "#fde0ef"
            ],
            [
             0.5,
             "#f7f7f7"
            ],
            [
             0.6,
             "#e6f5d0"
            ],
            [
             0.7,
             "#b8e186"
            ],
            [
             0.8,
             "#7fbc41"
            ],
            [
             0.9,
             "#4d9221"
            ],
            [
             1,
             "#276419"
            ]
           ],
           "sequential": [
            [
             0,
             "#0d0887"
            ],
            [
             0.1111111111111111,
             "#46039f"
            ],
            [
             0.2222222222222222,
             "#7201a8"
            ],
            [
             0.3333333333333333,
             "#9c179e"
            ],
            [
             0.4444444444444444,
             "#bd3786"
            ],
            [
             0.5555555555555556,
             "#d8576b"
            ],
            [
             0.6666666666666666,
             "#ed7953"
            ],
            [
             0.7777777777777778,
             "#fb9f3a"
            ],
            [
             0.8888888888888888,
             "#fdca26"
            ],
            [
             1,
             "#f0f921"
            ]
           ],
           "sequentialminus": [
            [
             0,
             "#0d0887"
            ],
            [
             0.1111111111111111,
             "#46039f"
            ],
            [
             0.2222222222222222,
             "#7201a8"
            ],
            [
             0.3333333333333333,
             "#9c179e"
            ],
            [
             0.4444444444444444,
             "#bd3786"
            ],
            [
             0.5555555555555556,
             "#d8576b"
            ],
            [
             0.6666666666666666,
             "#ed7953"
            ],
            [
             0.7777777777777778,
             "#fb9f3a"
            ],
            [
             0.8888888888888888,
             "#fdca26"
            ],
            [
             1,
             "#f0f921"
            ]
           ]
          },
          "colorway": [
           "#636efa",
           "#EF553B",
           "#00cc96",
           "#ab63fa",
           "#FFA15A",
           "#19d3f3",
           "#FF6692",
           "#B6E880",
           "#FF97FF",
           "#FECB52"
          ],
          "font": {
           "color": "#2a3f5f"
          },
          "geo": {
           "bgcolor": "white",
           "lakecolor": "white",
           "landcolor": "#E5ECF6",
           "showlakes": true,
           "showland": true,
           "subunitcolor": "white"
          },
          "hoverlabel": {
           "align": "left"
          },
          "hovermode": "closest",
          "mapbox": {
           "style": "light"
          },
          "paper_bgcolor": "white",
          "plot_bgcolor": "#E5ECF6",
          "polar": {
           "angularaxis": {
            "gridcolor": "white",
            "linecolor": "white",
            "ticks": ""
           },
           "bgcolor": "#E5ECF6",
           "radialaxis": {
            "gridcolor": "white",
            "linecolor": "white",
            "ticks": ""
           }
          },
          "scene": {
           "xaxis": {
            "backgroundcolor": "#E5ECF6",
            "gridcolor": "white",
            "gridwidth": 2,
            "linecolor": "white",
            "showbackground": true,
            "ticks": "",
            "zerolinecolor": "white"
           },
           "yaxis": {
            "backgroundcolor": "#E5ECF6",
            "gridcolor": "white",
            "gridwidth": 2,
            "linecolor": "white",
            "showbackground": true,
            "ticks": "",
            "zerolinecolor": "white"
           },
           "zaxis": {
            "backgroundcolor": "#E5ECF6",
            "gridcolor": "white",
            "gridwidth": 2,
            "linecolor": "white",
            "showbackground": true,
            "ticks": "",
            "zerolinecolor": "white"
           }
          },
          "shapedefaults": {
           "line": {
            "color": "#2a3f5f"
           }
          },
          "ternary": {
           "aaxis": {
            "gridcolor": "white",
            "linecolor": "white",
            "ticks": ""
           },
           "baxis": {
            "gridcolor": "white",
            "linecolor": "white",
            "ticks": ""
           },
           "bgcolor": "#E5ECF6",
           "caxis": {
            "gridcolor": "white",
            "linecolor": "white",
            "ticks": ""
           }
          },
          "title": {
           "x": 0.05
          },
          "xaxis": {
           "automargin": true,
           "gridcolor": "white",
           "linecolor": "white",
           "ticks": "",
           "title": {
            "standoff": 15
           },
           "zerolinecolor": "white",
           "zerolinewidth": 2
          },
          "yaxis": {
           "automargin": true,
           "gridcolor": "white",
           "linecolor": "white",
           "ticks": "",
           "title": {
            "standoff": 15
           },
           "zerolinecolor": "white",
           "zerolinewidth": 2
          }
         }
        },
        "title": {
         "text": "Percentage of charged off loans in function of industry sectors",
         "x": 0.5
        },
        "width": 1500,
        "xaxis": {
         "showgrid": false,
         "showline": false,
         "zeroline": false
        },
        "yaxis": {
         "showgrid": false,
         "showline": false
        }
       }
      }
     },
     "metadata": {}
    }
   ],
   "source": [
    "import plotly.graph_objects as go\n",
    "from plotly.subplots import make_subplots\n",
    "import plotly.express as px\n",
    "import numpy as np\n",
    "y0,y1 = [],[]\n",
    "x = list(df_used_test['Industry'].unique())\n",
    "for x_ in x:\n",
    "    df_target = df_used_test[df_used_test['Industry'].isin([x_])]\n",
    "    y0.append(df_target[df_target.ChargeOff == 0].shape[0]/df_target.shape[0])\n",
    "    y1.append(df_target[df_target.ChargeOff == 1].shape[0]/df_target.shape[0])\n",
    "\n",
    "\n",
    "fig = go.Figure(data=[\n",
    "    go.Bar(name='% charged off loans', x=x, y=y1,text=y1,marker_color='rgb(55, 83, 109)'),\n",
    "    go.Bar(name='% not charged off loans', x=x, y=y0,text=y0,marker_color='indianred')\n",
    "])\n",
    "fig.update_layout(barmode='stack')\n",
    "fig.update_layout(\n",
    "    title='Percentage of charged off loans in function of industry sectors',\n",
    "    title_x=0.5,\n",
    "    yaxis=dict(\n",
    "        showgrid=False,\n",
    "        showline=False,\n",
    "    \n",
    "    ),\n",
    "    \n",
    "    xaxis=dict(\n",
    "        zeroline=False,\n",
    "        showline=False,\n",
    "        showgrid=False,\n",
    "       \n",
    "    ),\n",
    "    autosize=False,\n",
    "\n",
    "    width=1500,\n",
    "    height=1000,\n",
    "    paper_bgcolor='rgb(255, 255, 255)',\n",
    "    plot_bgcolor='rgb(255, 255, 255)',\n",
    ")\n",
    "fig.update_traces(texttemplate='%{text:.2f}', textposition='outside')\n",
    "fig.update_layout(margin={\"r\":0,\"t\":100,\"l\":0,\"b\":300})\n",
    "fig.update_layout(margin={\"r\":0,\"t\":100,\"l\":0,\"b\":300})\n",
    "\n",
    "fig.show()"
   ]
  },
  {
   "cell_type": "code",
   "execution_count": null,
   "metadata": {},
   "outputs": [],
   "source": []
  }
 ]
}