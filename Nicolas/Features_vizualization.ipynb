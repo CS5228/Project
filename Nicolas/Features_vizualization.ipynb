{
 "metadata": {
  "language_info": {
   "codemirror_mode": {
    "name": "ipython",
    "version": 3
   },
   "file_extension": ".py",
   "mimetype": "text/x-python",
   "name": "python",
   "nbconvert_exporter": "python",
   "pygments_lexer": "ipython3",
   "version": 3
  },
  "orig_nbformat": 2
 },
 "nbformat": 4,
 "nbformat_minor": 2,
 "cells": [
  {
   "source": [
    "# Plots to do:\n",
    "-> Loan amount per industry \n",
    "-> Influence of recession in loans \n",
    "-> Correlation matrix\n",
    "-> Influence of long terms loans (Term) in terms of loan approval\n",
    "-> Influence of long terms loans (Term) in terms of loan approval"
   ],
   "cell_type": "markdown",
   "metadata": {}
  },
  {
   "cell_type": "code",
   "execution_count": null,
   "metadata": {},
   "outputs": [],
   "source": []
  }
 ]
}