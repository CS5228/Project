{
 "cells": [
  {
   "cell_type": "code",
   "execution_count": 3,
   "metadata": {},
   "outputs": [],
   "source": [
    "import pandas as pd\n",
    "import numpy as np"
   ]
  },
  {
   "cell_type": "code",
   "execution_count": 5,
   "metadata": {},
   "outputs": [],
   "source": [
    "x_train = pd.read_csv('../Xtrain.csv', index_col='Id')\n",
    "y_train = pd.read_csv('../Ytrain.csv', index_col='Id')\n",
    "# to encoding values\n",
    "to_dict = lambda d : dict(zip(d, range(len(d))))\n",
    "to_dict_reverse = lambda d : dict(enumerate(d))"
   ]
  },
  {
   "cell_type": "code",
   "execution_count": null,
   "metadata": {},
   "outputs": [],
   "source": [
    "# check mapping relation for bank and naics\n",
    "bank_naics_mapping = zip(x_train['Bank'], x_train['NAICS'])\n",
    "repeat = {}\n",
    "for b, n in bank_naics_mapping:\n",
    "    if n not in repeat:\n",
    "        repeat[n] = set()\n",
    "    repeat[n].add(b)"
   ]
  },
  {
   "cell_type": "code",
   "execution_count": 6,
   "metadata": {},
   "outputs": [],
   "source": [
    "x_train.columns\n",
    "\n",
    "value_mapping = {}\n",
    "for name in ['Name', 'City', 'State', 'Zip', 'Bank', 'BankState', 'NAICS', 'RevLineCr', 'LowDoc']:\n",
    "    value_mapping[name] = to_dict(set(x_train[name]))"
   ]
  },
  {
   "cell_type": "code",
   "execution_count": 40,
   "metadata": {},
   "outputs": [],
   "source": [
    "time_to_value = lambda t: pd.to_datetime(t).value/10**11\n",
    "approval_date = x_train['ApprovalDate'].apply(time_to_value)"
   ]
  },
  {
   "cell_type": "code",
   "execution_count": 41,
   "metadata": {},
   "outputs": [],
   "source": [
    "distur_data = x_train['DisbursementDate'].apply(time_to_value)"
   ]
  },
  {
   "cell_type": "code",
   "execution_count": 44,
   "metadata": {},
   "outputs": [
    {
     "data": {
      "text/plain": [
       "Index(['Name', 'City', 'State', 'Zip', 'Bank', 'BankState', 'NAICS',\n",
       "       'ApprovalDate', 'ApprovalFY', 'Term', 'NoEmp', 'NewExist', 'CreateJob',\n",
       "       'RetainedJob', 'FranchiseCode', 'UrbanRural', 'RevLineCr', 'LowDoc',\n",
       "       'DisbursementDate', 'DisbursementGross', 'BalanceGross', 'GrAppv',\n",
       "       'SBA_Appv'],\n",
       "      dtype='object')"
      ]
     },
     "execution_count": 44,
     "metadata": {},
     "output_type": "execute_result"
    }
   ],
   "source": [
    "x_train.columns"
   ]
  },
  {
   "cell_type": "code",
   "execution_count": 71,
   "metadata": {},
   "outputs": [],
   "source": [
    "columns_remains = ['ApprovalFY', 'Term', 'NoEmp', 'NewExist', 'CreateJob','RetainedJob', 'FranchiseCode',\n",
    " 'UrbanRural']\n",
    "currency_cols = ['DisbursementGross', 'BalanceGross', 'GrAppv','SBA_Appv']\n",
    "name_cols = ['Name', 'City', 'State', 'Zip', 'Bank', 'BankState', 'NAICS', 'RevLineCr', 'LowDoc']\n",
    "date_cols = ['ApprovalDate', 'DisbursementDate']"
   ]
  },
  {
   "cell_type": "code",
   "execution_count": 67,
   "metadata": {},
   "outputs": [],
   "source": [
    "to_num = lambda money : int(money.strip('$').replace(',', '').split('.')[0])"
   ]
  },
  {
   "cell_type": "code",
   "execution_count": null,
   "metadata": {},
   "outputs": [],
   "source": [
    "pd.options.mode.chained_assignment = None\n",
    "x_train_processed = x_train[columns_remains]\n",
    "for name in currenty_cols:\n",
    "    x_train_processed[name] = x_train[name].apply(to_num)\n",
    "for name in date_cols:\n",
    "    x_train_processed[name] = x_train[name].apply(time_to_value)\n",
    "for name in name_cols:\n",
    "    x_train_processed[name] = x_train[name].apply(lambda n: value_mapping[name].get(n))\n",
    "\n",
    "x_train_processed.loc[:, 'ApprovalFY'] = x_train_processed['ApprovalFY'].apply(lambda x: int(x[:4]))\n",
    "\n",
    "x_train_processed = x_train_processed.dropna()\n",
    "x_train_processed.loc[:, 'NewExist'] = x_train_processed['NewExist'].apply(int)"
   ]
  },
  {
   "cell_type": "code",
   "execution_count": 112,
   "metadata": {},
   "outputs": [
    {
     "data": {
      "text/plain": [
       "Index(['ChargeOff'], dtype='object')"
      ]
     },
     "execution_count": 112,
     "metadata": {},
     "output_type": "execute_result"
    }
   ],
   "source": []
  },
  {
   "cell_type": "code",
   "execution_count": 116,
   "metadata": {},
   "outputs": [],
   "source": [
    "y_train_processed = y_train.iloc[x_train_processed.index]"
   ]
  },
  {
   "cell_type": "code",
   "execution_count": 117,
   "metadata": {},
   "outputs": [],
   "source": [
    "# split training set and test set\n",
    "from sklearn.model_selection import train_test_split\n",
    "\n",
    "train_data, test_data, train_label, test_label = train_test_split(x_train_processed, y_train_processed, test_size=0.2, random_state=0)\n"
   ]
  },
  {
   "cell_type": "code",
   "execution_count": 118,
   "metadata": {},
   "outputs": [],
   "source": [
    "# x_train_processed\n",
    "from sklearn import preprocessing\n",
    "x_normalized = preprocessing.normalize(train_data, norm='l2')"
   ]
  },
  {
   "cell_type": "code",
   "execution_count": 125,
   "metadata": {},
   "outputs": [
    {
     "data": {
      "text/plain": [
       "array([0, 1, 0, ..., 0, 1, 1])"
      ]
     },
     "execution_count": 125,
     "metadata": {},
     "output_type": "execute_result"
    }
   ],
   "source": [
    "train_label.values.ravel()"
   ]
  },
  {
   "cell_type": "code",
   "execution_count": 127,
   "metadata": {},
   "outputs": [
    {
     "data": {
      "text/plain": [
       "SVC(C=1.0, cache_size=200, class_weight=None, coef0=0.0,\n",
       "    decision_function_shape='ovr', degree=3, gamma='auto', kernel='rbf',\n",
       "    max_iter=-1, probability=False, random_state=None, shrinking=True,\n",
       "    tol=0.001, verbose=False)"
      ]
     },
     "execution_count": 127,
     "metadata": {},
     "output_type": "execute_result"
    }
   ],
   "source": [
    "# from sklearn.pipeline import make_pipeline\n",
    "from sklearn.svm import SVC\n",
    "clf = SVC(gamma='auto')\n",
    "clf.fit(x_normalized, train_label.values.ravel())"
   ]
  },
  {
   "cell_type": "code",
   "execution_count": 129,
   "metadata": {},
   "outputs": [
    {
     "data": {
      "text/plain": [
       "0.5311531153115312"
      ]
     },
     "execution_count": 129,
     "metadata": {},
     "output_type": "execute_result"
    }
   ],
   "source": [
    "from sklearn.metrics import accuracy_score\n",
    "accuracy_score(test_label.values, clf.predict(preprocessing.normalize(test_data, norm='l2')))"
   ]
  },
  {
   "cell_type": "code",
   "execution_count": 133,
   "metadata": {},
   "outputs": [
    {
     "data": {
      "text/plain": [
       "XGBClassifier(base_score=0.5, booster='gbtree', colsample_bylevel=1,\n",
       "              colsample_bynode=1, colsample_bytree=1, gamma=0,\n",
       "              learning_rate=0.02, max_delta_step=0, max_depth=3,\n",
       "              min_child_weight=1, missing=None, n_estimators=100, n_jobs=1,\n",
       "              nthread=None, objective='binary:logistic', random_state=1,\n",
       "              reg_alpha=0, reg_lambda=1, scale_pos_weight=1, seed=None,\n",
       "              silent=None, subsample=1, verbosity=1)"
      ]
     },
     "execution_count": 133,
     "metadata": {},
     "output_type": "execute_result"
    }
   ],
   "source": [
    "import xgboost as xgb\n",
    "model=xgb.XGBClassifier(random_state=1,learning_rate=0.02)\n",
    "model.fit(x_normalized, train_label.values.ravel())"
   ]
  },
  {
   "cell_type": "code",
   "execution_count": 134,
   "metadata": {},
   "outputs": [
    {
     "data": {
      "text/plain": [
       "0.8216821682168217"
      ]
     },
     "execution_count": 134,
     "metadata": {},
     "output_type": "execute_result"
    }
   ],
   "source": [
    "accuracy_score(test_label.values, model.predict(preprocessing.normalize(test_data, norm='l2')))"
   ]
  },
  {
   "cell_type": "code",
   "execution_count": 140,
   "metadata": {},
   "outputs": [
    {
     "data": {
      "text/plain": [
       "XGBClassifier(base_score=0.5, booster='gbtree', colsample_bylevel=1,\n",
       "              colsample_bynode=1, colsample_bytree=1, gamma=0,\n",
       "              learning_rate=0.02, max_delta_step=0, max_depth=3,\n",
       "              min_child_weight=1, missing=None, n_estimators=200, n_jobs=1,\n",
       "              nthread=None, objective='binary:logistic', random_state=2,\n",
       "              reg_alpha=0, reg_lambda=1, scale_pos_weight=1, seed=None,\n",
       "              silent=None, subsample=1, verbosity=1)"
      ]
     },
     "execution_count": 140,
     "metadata": {},
     "output_type": "execute_result"
    }
   ],
   "source": [
    "from sklearn.preprocessing import StandardScaler\n",
    "std = StandardScaler()\n",
    "std.fit(train_data)\n",
    "model=xgb.XGBClassifier(random_state=2,learning_rate=0.02, n_estimators = 200)\n",
    "model.fit(std.transform(train_data), train_label.values.ravel())"
   ]
  },
  {
   "cell_type": "code",
   "execution_count": 141,
   "metadata": {},
   "outputs": [
    {
     "data": {
      "text/plain": [
       "0.8738873887388738"
      ]
     },
     "execution_count": 141,
     "metadata": {},
     "output_type": "execute_result"
    }
   ],
   "source": [
    "accuracy_score(test_label.values, model.predict(std.transform(test_data)))"
   ]
  },
  {
   "cell_type": "code",
   "execution_count": 198,
   "metadata": {},
   "outputs": [],
   "source": [
    "selected_columns = ['ApprovalDate', 'Term', 'NoEmp', 'NewExist', 'LowDoc', 'DisbursementGross', 'BalanceGross', 'GrAppv',\n",
    "       'SBA_Appv']\n",
    "selected_columns = train_data.columns"
   ]
  },
  {
   "cell_type": "code",
   "execution_count": 207,
   "metadata": {},
   "outputs": [
    {
     "data": {
      "text/plain": [
       "XGBClassifier(base_score=0.5, booster='gbtree', colsample_bylevel=1,\n",
       "              colsample_bynode=1, colsample_bytree=1, gamma=0,\n",
       "              learning_rate=0.03, max_delta_step=0, max_depth=3,\n",
       "              min_child_weight=1, missing=None, n_estimators=200, n_jobs=1,\n",
       "              nthread=None, objective='binary:logistic', random_state=1,\n",
       "              reg_alpha=0, reg_lambda=1, scale_pos_weight=1, seed=None,\n",
       "              silent=None, subsample=1, verbosity=1)"
      ]
     },
     "execution_count": 207,
     "metadata": {},
     "output_type": "execute_result"
    }
   ],
   "source": [
    "std = StandardScaler()\n",
    "std.fit(train_data[selected_columns])\n",
    "model=xgb.XGBClassifier(random_state=1,learning_rate=0.03, n_estimators = 200)\n",
    "model.fit(std.transform(train_data[selected_columns]), train_label.values.ravel())"
   ]
  },
  {
   "cell_type": "code",
   "execution_count": 208,
   "metadata": {},
   "outputs": [
    {
     "data": {
      "text/plain": [
       "array([0.0736198 , 0.2753127 , 0.01300989, 0.02705499, 0.00416747,\n",
       "       0.11688258, 0.01686723, 0.00847681, 0.03843874, 0.01634174,\n",
       "       0.14778352, 0.05543707, 0.04836015, 0.01990944, 0.02842893,\n",
       "       0.06186171, 0.00425807, 0.03741593, 0.00637329], dtype=float32)"
      ]
     },
     "execution_count": 208,
     "metadata": {},
     "output_type": "execute_result"
    }
   ],
   "source": [
    "model.feature_importances_"
   ]
  },
  {
   "cell_type": "code",
   "execution_count": 206,
   "metadata": {},
   "outputs": [
    {
     "data": {
      "text/plain": [
       "['ApprovalFY',\n",
       " 'Term',\n",
       " 'NoEmp',\n",
       " 'NewExist',\n",
       " 'CreateJob',\n",
       " 'FranchiseCode',\n",
       " 'UrbanRural',\n",
       " 'DisbursementGross',\n",
       " 'GrAppv',\n",
       " 'SBA_Appv',\n",
       " 'ApprovalDate',\n",
       " 'DisbursementDate',\n",
       " 'State',\n",
       " 'Zip',\n",
       " 'Bank',\n",
       " 'BankState',\n",
       " 'NAICS',\n",
       " 'RevLineCr',\n",
       " 'LowDoc']"
      ]
     },
     "execution_count": 206,
     "metadata": {},
     "output_type": "execute_result"
    }
   ],
   "source": [
    "selected_columns = [train_data.columns[i] for i in range(len(model.feature_importances_)) if model.feature_importances_[i] != 0]\n",
    "selected_columns"
   ]
  },
  {
   "cell_type": "code",
   "execution_count": 209,
   "metadata": {},
   "outputs": [
    {
     "data": {
      "text/plain": [
       "0.8834883488348835"
      ]
     },
     "execution_count": 209,
     "metadata": {},
     "output_type": "execute_result"
    }
   ],
   "source": [
    "accuracy_score(test_label.values, model.predict(std.transform(test_data[selected_columns])))"
   ]
  }
 ],
 "metadata": {
  "kernelspec": {
   "display_name": "Python 3",
   "language": "python",
   "name": "python3"
  },
  "language_info": {
   "codemirror_mode": {
    "name": "ipython",
    "version": 3
   },
   "file_extension": ".py",
   "mimetype": "text/x-python",
   "name": "python",
   "nbconvert_exporter": "python",
   "pygments_lexer": "ipython3",
   "version": "3.7.3"
  }
 },
 "nbformat": 4,
 "nbformat_minor": 2
}
